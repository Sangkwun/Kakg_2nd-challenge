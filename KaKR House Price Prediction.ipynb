{
 "cells": [
  {
   "cell_type": "markdown",
   "metadata": {},
   "source": [
    "기본적인 library들을 import하고 csv를 dataframe으로 불러옵니다."
   ]
  },
  {
   "cell_type": "code",
   "execution_count": null,
   "metadata": {},
   "outputs": [],
   "source": [
    "#invite people for the Kaggle party\n",
    "import pandas as pd\n",
    "import matplotlib.pyplot as plt\n",
    "import seaborn as sns\n",
    "import numpy as np\n",
    "from scipy.stats import norm\n",
    "from sklearn.preprocessing import StandardScaler\n",
    "from scipy import stats\n",
    "import warnings\n",
    "warnings.filterwarnings('ignore')\n",
    "%matplotlib inline"
   ]
  },
  {
   "cell_type": "code",
   "execution_count": null,
   "metadata": {},
   "outputs": [],
   "source": [
    "#bring in the six packs\n",
    "df_train = pd.read_csv('./dataset/train.csv')"
   ]
  },
  {
   "cell_type": "markdown",
   "metadata": {},
   "source": [
    "feature의 종류와 자료형을 확인합니다."
   ]
  },
  {
   "cell_type": "code",
   "execution_count": 3,
   "metadata": {},
   "outputs": [
    {
     "name": "stdout",
     "output_type": "stream",
     "text": [
      "id <class 'numpy.int64'> 0\n",
      "date <class 'str'> 20141013T000000\n",
      "price <class 'numpy.float64'> 221900.0\n",
      "bedrooms <class 'numpy.int64'> 3\n",
      "bathrooms <class 'numpy.float64'> 1.0\n",
      "sqft_living <class 'numpy.int64'> 1180\n",
      "sqft_lot <class 'numpy.int64'> 5650\n",
      "floors <class 'numpy.float64'> 1.0\n",
      "waterfront <class 'numpy.int64'> 0\n",
      "view <class 'numpy.int64'> 0\n",
      "condition <class 'numpy.int64'> 3\n",
      "grade <class 'numpy.int64'> 7\n",
      "sqft_above <class 'numpy.int64'> 1180\n",
      "sqft_basement <class 'numpy.int64'> 0\n",
      "yr_built <class 'numpy.int64'> 1955\n",
      "yr_renovated <class 'numpy.int64'> 0\n",
      "zipcode <class 'numpy.int64'> 98178\n",
      "lat <class 'numpy.float64'> 47.5112\n",
      "long <class 'numpy.float64'> -122.257\n",
      "sqft_living15 <class 'numpy.int64'> 1340\n",
      "sqft_lot15 <class 'numpy.int64'> 5650\n"
     ]
    }
   ],
   "source": [
    "#check the decoration\n",
    "column_names = df_train.columns\n",
    "for name in column_names:\n",
    "    print(name, type(df_train[name][0]), df_train[name][0])"
   ]
  },
  {
   "cell_type": "markdown",
   "metadata": {},
   "source": [
    "### `date` feature split\n",
    "date는 년월일 그리고 뒤의 `T000000`으로 되어있습니다.\n",
    "아마도 시간으로 추측되지만 모두 같은 텍스트가 있는지 확인해봅니다.\n",
    "간단하게 `checkTextNeccesary` 함수를 만들어서 column에 특정 text가 필요한 것인지 확인하도록 만들었습니다.\n",
    "date column의 모든 row가 `T000000`을 포함하고 있으므로 이는 삭제를 해도됩니다.\n",
    "\n",
    "\n",
    "`deleteTextFromColumn`는 column에서 특정 text를 찾아서 없애도록 해줍니다. 이를 이용해서 `date`에서 `T000000`를 삭제합니다.\n",
    "\n",
    "이후 `splitTextDate`를 이용해서 YYYYMMDD로 이루어진 `date`를 split해서 `year`, `month`, `day`로 만들어줍니다."
   ]
  },
  {
   "cell_type": "code",
   "execution_count": 4,
   "metadata": {},
   "outputs": [
    {
     "name": "stdout",
     "output_type": "stream",
     "text": [
      "T000000 can be deleted from date\n"
     ]
    }
   ],
   "source": [
    "# Check all date contains `T000000`\n",
    "def checkTextNeccesary(df, column_name, text):\n",
    "    count = len(df)\n",
    "    count_text_in = len(df[df[column_name].str.contains(text)])\n",
    "    if count == count_text_in: # All rows contain text\n",
    "        print('{} can be deleted from {}'.format(text, column_name))\n",
    "    else:\n",
    "        print('{} is neccesary data in {}'.format(text, column_name))\n",
    "    \n",
    "\n",
    "checkTextNeccesary(df_train, 'date', 'T000000')"
   ]
  },
  {
   "cell_type": "code",
   "execution_count": 5,
   "metadata": {},
   "outputs": [],
   "source": [
    "def deleteTextFromColumn(df, column_name, text):\n",
    "    df[column_name] = df[column_name].str.replace(text, '')\n",
    "    return df\n",
    "\n",
    "df_train = deleteTextFromColumn(df_train, 'date', 'T000000')"
   ]
  },
  {
   "cell_type": "code",
   "execution_count": 6,
   "metadata": {},
   "outputs": [],
   "source": [
    "def splitTextDate(df):\n",
    "    if 'date' not in df.columns:\n",
    "        text = 'No date column is in dataframe'\n",
    "        raise ValueError(text)\n",
    "    \n",
    "    df['year'] = pd.to_numeric(df['date'].str[0:4])\n",
    "    df['month'] = pd.to_numeric(df['date'].str[4:6])\n",
    "    df['day'] = pd.to_numeric(df['date'].str[6:])\n",
    "    \n",
    "    return df\n",
    "    \n",
    "df_train = splitTextDate(df_train)"
   ]
  },
  {
   "cell_type": "markdown",
   "metadata": {},
   "source": [
    "### convert int zipcode to string\n",
    "이제 편하게 연도와 월 일을 확인할 수 있습니다.\n",
    "다른 feature들을 확인하기 위해서 waterfront와 zipcode의 unique value를 확인해보았습니다.\n",
    "\n",
    "zipcode는 위에서 확인했듯이 in64로 되어있지만 numerical data로서 연속성을 가지기 어렵다고 생각됬습니다. ->이를 확인하는 과정 추가\n",
    "해서 앞의 98을 삭제하고 string으로 변환하여 categorical data로 변환하였습니다. 이때 98이 모든 row에 있는지 위에서 만들어둔 `checkTextNeccesary`로 확인합니다. 모든 row에 98이 들어있으므로 slice를 통해서 삭제합니다."
   ]
  },
  {
   "cell_type": "code",
   "execution_count": 7,
   "metadata": {},
   "outputs": [
    {
     "name": "stdout",
     "output_type": "stream",
     "text": [
      "[2014 2015]\n",
      "[ 1  2  3  4  5  6  7  8  9 10 11 12]\n",
      "[ 1  2  3  4  5  6  7  8  9 10 11 12 13 14 15 16 17 18 19 20 21 22 23 24\n",
      " 25 26 27 28 29 30 31]\n",
      "[0 1]\n",
      "[98178 98028 98074 98003 98198 98007 98115 98107 98126 98019 98103 98002\n",
      " 98133 98040 98030 98119 98112 98027 98117 98058 98001 98056 98166 98053\n",
      " 98023 98105 98042 98008 98148 98122 98004 98005 98034 98125 98075 98010\n",
      " 98038 98059 98092 98136 98199 98032 98045 98102 98077 98108 98168 98177\n",
      " 98118 98006 98146 98033 98052 98155 98024 98116 98144 98011 98031 98106\n",
      " 98065 98022 98070 98014 98055 98072 98029 98188 98109 98039]\n"
     ]
    }
   ],
   "source": [
    "print(np.sort(df_train['year'].unique()))\n",
    "print(np.sort(df_train['month'].unique()))\n",
    "print(np.sort(df_train['day'].unique()))\n",
    "print(df_train['waterfront'].unique())\n",
    "print(df_train['zipcode'].unique())"
   ]
  },
  {
   "cell_type": "code",
   "execution_count": 8,
   "metadata": {},
   "outputs": [
    {
     "name": "stdout",
     "output_type": "stream",
     "text": [
      "98 can be deleted from zipcode\n",
      "178\n"
     ]
    }
   ],
   "source": [
    "df_train['zipcode'] = df_train['zipcode'].astype(str)\n",
    "checkTextNeccesary(df_train, 'zipcode', '98')\n",
    "\n",
    "df_train['zipcode'] = df_train['zipcode'].str[2:]\n",
    "print(df_train['zipcode'][0])"
   ]
  },
  {
   "cell_type": "code",
   "execution_count": 11,
   "metadata": {},
   "outputs": [
    {
     "name": "stdout",
     "output_type": "stream",
     "text": [
      "count    15035.000000\n",
      "mean      -122.213677\n",
      "std          0.141294\n",
      "min       -122.519000\n",
      "25%       -122.328000\n",
      "50%       -122.231000\n",
      "75%       -122.126000\n",
      "max       -121.315000\n",
      "Name: long, dtype: float64\n"
     ]
    },
    {
     "data": {
      "text/plain": [
       "count    15035.000000\n",
       "mean        47.560721\n",
       "std          0.138164\n",
       "min         47.155900\n",
       "25%         47.472700\n",
       "50%         47.571900\n",
       "75%         47.678300\n",
       "max         47.777600\n",
       "Name: lat, dtype: float64"
      ]
     },
     "execution_count": 11,
     "metadata": {},
     "output_type": "execute_result"
    }
   ],
   "source": [
    "print(df_train['long'].describe())\n",
    "df_train['lat'].describe()"
   ]
  },
  {
   "cell_type": "markdown",
   "metadata": {},
   "source": [
    "대략적인 지도는 아래와 같이 생겼을 것으로 추정되고 평균인 latitude와 longitude를 확인해보면 4748 Fernridge Lane, Mercer Island, WA 98040, United States of America\n",
    "Latitude: 47.560661 | Longitude: -122.213641로 미국 Seatle 근처의 도시임을 알 수 있습니다."
   ]
  },
  {
   "cell_type": "code",
   "execution_count": 28,
   "metadata": {},
   "outputs": [
    {
     "data": {
      "image/png": "[encoded data removed]",
      "text/plain": [
       "<Figure size 432x288 with 1 Axes>"
      ]
     },
     "metadata": {
      "needs_background": "light"
     },
     "output_type": "display_data"
    }
   ],
   "source": [
    "#scatter plot totalbsmtsf/saleprice\n",
    "var = 'long'\n",
    "data = pd.concat([df_train['lat'], df_train[var]], axis=1)\n",
    "data.plot.scatter(x=var, y='lat', ylim=(47.1, 47.8));"
   ]
  },
  {
   "cell_type": "markdown",
   "metadata": {},
   "source": [
    "### absolute to `long`\n",
    "`long`은 경도로서 negative값을 가지면 남반구를 의미합니다. 하지만 전체가 negative인 것으로 확인해되서 log를 적용하기 위한 편의상 이를 절댓값으로 변경해주었습니다."
   ]
  },
  {
   "cell_type": "code",
   "execution_count": null,
   "metadata": {},
   "outputs": [],
   "source": [
    "def checkAllNegative(df, column_name):\n",
    "    count = len(df)\n",
    "    count_text_in = len(df[(df[column_name] < 0)])\n",
    "    print(count, count_text_in)\n",
    "    if count == count_text_in: # All rows contain text\n",
    "        print('all values are negative in {}'.format(column_name))\n",
    "    else:\n",
    "        print('Not all of values negative in {}'.format(column_name))\n",
    "\n",
    "checkAllNegative(df_train, 'long')\n",
    "\n",
    "df_train['long'] = np.abs(df_train['long'])"
   ]
  },
  {
   "cell_type": "markdown",
   "metadata": {},
   "source": [
    "### correlation to price\n",
    "\n",
    "위 처럼 변환한 후에는 기존의 catergorical data였던 date를 numerical하게 볼 수 있고 correlation을 바로 확인할 수 있습니다.\n"
   ]
  },
  {
   "cell_type": "code",
   "execution_count": null,
   "metadata": {},
   "outputs": [],
   "source": [
    "#correlation matrix\n",
    "corrmat = df_train.corr()\n",
    "corrmat['price'].sort_values()*100"
   ]
  },
  {
   "cell_type": "code",
   "execution_count": null,
   "metadata": {},
   "outputs": [],
   "source": [
    "df_train['view'][0]"
   ]
  },
  {
   "cell_type": "code",
   "execution_count": null,
   "metadata": {},
   "outputs": [],
   "source": [
    "df_train.head(30)"
   ]
  },
  {
   "cell_type": "code",
   "execution_count": null,
   "metadata": {},
   "outputs": [],
   "source": [
    "#apply log to all data\n",
    "column_names = df_train.columns\n",
    "for name in column_names:\n",
    "    if name not in ['id', 'date', 'zipcode', 'waterfront']:\n",
    "        df_train[name] = df_train[name].replace(0, 1)\n",
    "        df_train[name] = np.log(df_train[name])"
   ]
  },
  {
   "cell_type": "code",
   "execution_count": null,
   "metadata": {
    "scrolled": true
   },
   "outputs": [],
   "source": [
    "#correlation matrix\n",
    "loged_corrmat = df_train.corr()\n",
    "loged_corrmat['price'].sort_values()*100"
   ]
  },
  {
   "cell_type": "code",
   "execution_count": null,
   "metadata": {},
   "outputs": [],
   "source": [
    "df_train['price'].describe()"
   ]
  },
  {
   "cell_type": "code",
   "execution_count": null,
   "metadata": {},
   "outputs": [],
   "source": [
    "#box plot overallqual/saleprice\n",
    "var = 'zipcode'\n",
    "data = pd.concat([df_train['price'], df_train[var]], axis=1)\n",
    "f, ax = plt.subplots(figsize=(8, 6))\n",
    "fig = sns.boxplot(x=var, y=\"price\", data=data)\n",
    "fig.axis(ymin=10, ymax=16);"
   ]
  },
  {
   "cell_type": "code",
   "execution_count": null,
   "metadata": {},
   "outputs": [],
   "source": [
    "#box plot overallqual/saleprice\n",
    "var = 'date'\n",
    "data = pd.concat([df_train['price'], df_train[var]], axis=1)\n",
    "f, ax = plt.subplots(figsize=(8, 6))\n",
    "fig = sns.boxplot(x=var, y=\"price\", data=data)\n",
    "fig.axis(ymin=10, ymax=16);"
   ]
  },
  {
   "cell_type": "code",
   "execution_count": null,
   "metadata": {},
   "outputs": [],
   "source": [
    "#scatter plot totalbsmtsf/saleprice\n",
    "var = 'day'\n",
    "data = pd.concat([df_train['price'], df_train[var]], axis=1)\n",
    "data.plot.scatter(x=var, y='price', ylim=(10,16));"
   ]
  },
  {
   "cell_type": "code",
   "execution_count": null,
   "metadata": {},
   "outputs": [],
   "source": [
    "#scatter plot totalbsmtsf/saleprice\n",
    "var = 'month'\n",
    "data = pd.concat([df_train['price'], df_train[var]], axis=1)\n",
    "data.plot.scatter(x=var, y='price', ylim=(10,16));"
   ]
  },
  {
   "cell_type": "code",
   "execution_count": null,
   "metadata": {},
   "outputs": [],
   "source": [
    "#scatter plot totalbsmtsf/saleprice\n",
    "var = 'year'\n",
    "data = pd.concat([df_train['price'], df_train[var]], axis=1)\n",
    "data.plot.scatter(x=var, y='price', ylim=(10,16));"
   ]
  },
  {
   "cell_type": "code",
   "execution_count": null,
   "metadata": {},
   "outputs": [],
   "source": [
    "#scatter plot totalbsmtsf/saleprice\n",
    "var = 'grade'\n",
    "data = pd.concat([df_train['price'], df_train[var]], axis=1)\n",
    "data.plot.scatter(x=var, y='price', ylim=(10,16));"
   ]
  },
  {
   "cell_type": "code",
   "execution_count": null,
   "metadata": {},
   "outputs": [],
   "source": [
    "print(df_train['long'].describe())\n",
    "df_train['lat'].describe()"
   ]
  },
  {
   "cell_type": "code",
   "execution_count": null,
   "metadata": {},
   "outputs": [],
   "source": [
    "#scatter plot totalbsmtsf/saleprice\n",
    "var = 'lat'\n",
    "data = pd.concat([df_train['long'], df_train[var]], axis=1)\n",
    "data.plot.scatter(x=var, y='long', ylim=(4.79,4.81));"
   ]
  },
  {
   "cell_type": "code",
   "execution_count": null,
   "metadata": {},
   "outputs": [],
   "source": [
    "print(len(df_train_dummy.columns))\n",
    "df_train_dummy.head()\n",
    "df_train_dummy['view'][0]"
   ]
  },
  {
   "cell_type": "code",
   "execution_count": null,
   "metadata": {},
   "outputs": [],
   "source": [
    "df_train_dummy.head()"
   ]
  },
  {
   "cell_type": "code",
   "execution_count": null,
   "metadata": {},
   "outputs": [],
   "source": [
    "df_train.head(30)"
   ]
  },
  {
   "cell_type": "code",
   "execution_count": null,
   "metadata": {},
   "outputs": [],
   "source": []
  },
  {
   "cell_type": "code",
   "execution_count": null,
   "metadata": {},
   "outputs": [],
   "source": []
  },
  {
   "cell_type": "code",
   "execution_count": null,
   "metadata": {},
   "outputs": [],
   "source": []
  },
  {
   "cell_type": "code",
   "execution_count": null,
   "metadata": {},
   "outputs": [],
   "source": []
  },
  {
   "cell_type": "code",
   "execution_count": null,
   "metadata": {},
   "outputs": [],
   "source": []
  }
 ],
 "metadata": {
  "kernelspec": {
   "display_name": "kaggle_study",
   "language": "python",
   "name": "kaggle_study"
  },
  "language_info": {
   "codemirror_mode": {
    "name": "ipython",
    "version": 3
   },
   "file_extension": ".py",
   "mimetype": "text/x-python",
   "name": "python",
   "nbconvert_exporter": "python",
   "pygments_lexer": "ipython3",
   "version": "3.6.8"
  }
 },
 "nbformat": 4,
 "nbformat_minor": 2
}
