{
 "cells": [
  {
   "cell_type": "markdown",
   "metadata": {},
   "source": [
    "기본적인 library들을 import하고 csv를 dataframe으로 불러옵니다."
   ]
  },
  {
   "cell_type": "code",
   "execution_count": 1,
   "metadata": {},
   "outputs": [],
   "source": [
    "#invite people for the Kaggle party\n",
    "import pandas as pd\n",
    "import matplotlib.pyplot as plt\n",
    "import seaborn as sns\n",
    "import numpy as np\n",
    "from scipy.stats import norm\n",
    "from sklearn.preprocessing import StandardScaler\n",
    "from scipy import stats\n",
    "import warnings\n",
    "warnings.filterwarnings('ignore')\n",
    "%matplotlib inline"
   ]
  },
  {
   "cell_type": "code",
   "execution_count": 2,
   "metadata": {},
   "outputs": [],
   "source": [
    "#bring in the six packs\n",
    "df_train = pd.read_csv('./dataset/train.csv')\n",
    "df_test = pd.read_csv('./dataset/test.csv')"
   ]
  },
  {
   "cell_type": "markdown",
   "metadata": {},
   "source": [
    "feature의 종류와 자료형을 확인합니다."
   ]
  },
  {
   "cell_type": "code",
   "execution_count": 3,
   "metadata": {},
   "outputs": [
    {
     "name": "stdout",
     "output_type": "stream",
     "text": [
      "id <class 'numpy.int64'> 0\n",
      "date <class 'str'> 20141013T000000\n",
      "price <class 'numpy.float64'> 221900.0\n",
      "bedrooms <class 'numpy.int64'> 3\n",
      "bathrooms <class 'numpy.float64'> 1.0\n",
      "sqft_living <class 'numpy.int64'> 1180\n",
      "sqft_lot <class 'numpy.int64'> 5650\n",
      "floors <class 'numpy.float64'> 1.0\n",
      "waterfront <class 'numpy.int64'> 0\n",
      "view <class 'numpy.int64'> 0\n",
      "condition <class 'numpy.int64'> 3\n",
      "grade <class 'numpy.int64'> 7\n",
      "sqft_above <class 'numpy.int64'> 1180\n",
      "sqft_basement <class 'numpy.int64'> 0\n",
      "yr_built <class 'numpy.int64'> 1955\n",
      "yr_renovated <class 'numpy.int64'> 0\n",
      "zipcode <class 'numpy.int64'> 98178\n",
      "lat <class 'numpy.float64'> 47.5112\n",
      "long <class 'numpy.float64'> -122.257\n",
      "sqft_living15 <class 'numpy.int64'> 1340\n",
      "sqft_lot15 <class 'numpy.int64'> 5650\n"
     ]
    }
   ],
   "source": [
    "#check the decoration\n",
    "column_names = df_train.columns\n",
    "for name in column_names:\n",
    "    print(name, type(df_train[name][0]), df_train[name][0])"
   ]
  },
  {
   "cell_type": "code",
   "execution_count": 4,
   "metadata": {},
   "outputs": [
    {
     "data": {
      "text/html": [
       "<div>\n",
       "<style scoped>\n",
       "    .dataframe tbody tr th:only-of-type {\n",
       "        vertical-align: middle;\n",
       "    }\n",
       "\n",
       "    .dataframe tbody tr th {\n",
       "        vertical-align: top;\n",
       "    }\n",
       "\n",
       "    .dataframe thead th {\n",
       "        text-align: right;\n",
       "    }\n",
       "</style>\n",
       "<table border=\"1\" class=\"dataframe\">\n",
       "  <thead>\n",
       "    <tr style=\"text-align: right;\">\n",
       "      <th></th>\n",
       "      <th>id</th>\n",
       "      <th>date</th>\n",
       "      <th>price</th>\n",
       "      <th>bedrooms</th>\n",
       "      <th>bathrooms</th>\n",
       "      <th>sqft_living</th>\n",
       "      <th>sqft_lot</th>\n",
       "      <th>floors</th>\n",
       "      <th>waterfront</th>\n",
       "      <th>view</th>\n",
       "      <th>...</th>\n",
       "      <th>grade</th>\n",
       "      <th>sqft_above</th>\n",
       "      <th>sqft_basement</th>\n",
       "      <th>yr_built</th>\n",
       "      <th>yr_renovated</th>\n",
       "      <th>zipcode</th>\n",
       "      <th>lat</th>\n",
       "      <th>long</th>\n",
       "      <th>sqft_living15</th>\n",
       "      <th>sqft_lot15</th>\n",
       "    </tr>\n",
       "  </thead>\n",
       "  <tbody>\n",
       "    <tr>\n",
       "      <th>0</th>\n",
       "      <td>0</td>\n",
       "      <td>20141013T000000</td>\n",
       "      <td>221900.0</td>\n",
       "      <td>3</td>\n",
       "      <td>1.00</td>\n",
       "      <td>1180</td>\n",
       "      <td>5650</td>\n",
       "      <td>1.0</td>\n",
       "      <td>0</td>\n",
       "      <td>0</td>\n",
       "      <td>...</td>\n",
       "      <td>7</td>\n",
       "      <td>1180</td>\n",
       "      <td>0</td>\n",
       "      <td>1955</td>\n",
       "      <td>0</td>\n",
       "      <td>98178</td>\n",
       "      <td>47.5112</td>\n",
       "      <td>-122.257</td>\n",
       "      <td>1340</td>\n",
       "      <td>5650</td>\n",
       "    </tr>\n",
       "    <tr>\n",
       "      <th>1</th>\n",
       "      <td>1</td>\n",
       "      <td>20150225T000000</td>\n",
       "      <td>180000.0</td>\n",
       "      <td>2</td>\n",
       "      <td>1.00</td>\n",
       "      <td>770</td>\n",
       "      <td>10000</td>\n",
       "      <td>1.0</td>\n",
       "      <td>0</td>\n",
       "      <td>0</td>\n",
       "      <td>...</td>\n",
       "      <td>6</td>\n",
       "      <td>770</td>\n",
       "      <td>0</td>\n",
       "      <td>1933</td>\n",
       "      <td>0</td>\n",
       "      <td>98028</td>\n",
       "      <td>47.7379</td>\n",
       "      <td>-122.233</td>\n",
       "      <td>2720</td>\n",
       "      <td>8062</td>\n",
       "    </tr>\n",
       "    <tr>\n",
       "      <th>2</th>\n",
       "      <td>2</td>\n",
       "      <td>20150218T000000</td>\n",
       "      <td>510000.0</td>\n",
       "      <td>3</td>\n",
       "      <td>2.00</td>\n",
       "      <td>1680</td>\n",
       "      <td>8080</td>\n",
       "      <td>1.0</td>\n",
       "      <td>0</td>\n",
       "      <td>0</td>\n",
       "      <td>...</td>\n",
       "      <td>8</td>\n",
       "      <td>1680</td>\n",
       "      <td>0</td>\n",
       "      <td>1987</td>\n",
       "      <td>0</td>\n",
       "      <td>98074</td>\n",
       "      <td>47.6168</td>\n",
       "      <td>-122.045</td>\n",
       "      <td>1800</td>\n",
       "      <td>7503</td>\n",
       "    </tr>\n",
       "    <tr>\n",
       "      <th>3</th>\n",
       "      <td>3</td>\n",
       "      <td>20140627T000000</td>\n",
       "      <td>257500.0</td>\n",
       "      <td>3</td>\n",
       "      <td>2.25</td>\n",
       "      <td>1715</td>\n",
       "      <td>6819</td>\n",
       "      <td>2.0</td>\n",
       "      <td>0</td>\n",
       "      <td>0</td>\n",
       "      <td>...</td>\n",
       "      <td>7</td>\n",
       "      <td>1715</td>\n",
       "      <td>0</td>\n",
       "      <td>1995</td>\n",
       "      <td>0</td>\n",
       "      <td>98003</td>\n",
       "      <td>47.3097</td>\n",
       "      <td>-122.327</td>\n",
       "      <td>2238</td>\n",
       "      <td>6819</td>\n",
       "    </tr>\n",
       "    <tr>\n",
       "      <th>4</th>\n",
       "      <td>4</td>\n",
       "      <td>20150115T000000</td>\n",
       "      <td>291850.0</td>\n",
       "      <td>3</td>\n",
       "      <td>1.50</td>\n",
       "      <td>1060</td>\n",
       "      <td>9711</td>\n",
       "      <td>1.0</td>\n",
       "      <td>0</td>\n",
       "      <td>0</td>\n",
       "      <td>...</td>\n",
       "      <td>7</td>\n",
       "      <td>1060</td>\n",
       "      <td>0</td>\n",
       "      <td>1963</td>\n",
       "      <td>0</td>\n",
       "      <td>98198</td>\n",
       "      <td>47.4095</td>\n",
       "      <td>-122.315</td>\n",
       "      <td>1650</td>\n",
       "      <td>9711</td>\n",
       "    </tr>\n",
       "    <tr>\n",
       "      <th>5</th>\n",
       "      <td>5</td>\n",
       "      <td>20150403T000000</td>\n",
       "      <td>662500.0</td>\n",
       "      <td>3</td>\n",
       "      <td>2.50</td>\n",
       "      <td>3560</td>\n",
       "      <td>9796</td>\n",
       "      <td>1.0</td>\n",
       "      <td>0</td>\n",
       "      <td>0</td>\n",
       "      <td>...</td>\n",
       "      <td>8</td>\n",
       "      <td>1860</td>\n",
       "      <td>1700</td>\n",
       "      <td>1965</td>\n",
       "      <td>0</td>\n",
       "      <td>98007</td>\n",
       "      <td>47.6007</td>\n",
       "      <td>-122.145</td>\n",
       "      <td>2210</td>\n",
       "      <td>8925</td>\n",
       "    </tr>\n",
       "    <tr>\n",
       "      <th>6</th>\n",
       "      <td>6</td>\n",
       "      <td>20140527T000000</td>\n",
       "      <td>468000.0</td>\n",
       "      <td>2</td>\n",
       "      <td>1.00</td>\n",
       "      <td>1160</td>\n",
       "      <td>6000</td>\n",
       "      <td>1.0</td>\n",
       "      <td>0</td>\n",
       "      <td>0</td>\n",
       "      <td>...</td>\n",
       "      <td>7</td>\n",
       "      <td>860</td>\n",
       "      <td>300</td>\n",
       "      <td>1942</td>\n",
       "      <td>0</td>\n",
       "      <td>98115</td>\n",
       "      <td>47.6900</td>\n",
       "      <td>-122.292</td>\n",
       "      <td>1330</td>\n",
       "      <td>6000</td>\n",
       "    </tr>\n",
       "    <tr>\n",
       "      <th>7</th>\n",
       "      <td>7</td>\n",
       "      <td>20140528T000000</td>\n",
       "      <td>310000.0</td>\n",
       "      <td>3</td>\n",
       "      <td>1.00</td>\n",
       "      <td>1430</td>\n",
       "      <td>19901</td>\n",
       "      <td>1.5</td>\n",
       "      <td>0</td>\n",
       "      <td>0</td>\n",
       "      <td>...</td>\n",
       "      <td>7</td>\n",
       "      <td>1430</td>\n",
       "      <td>0</td>\n",
       "      <td>1927</td>\n",
       "      <td>0</td>\n",
       "      <td>98028</td>\n",
       "      <td>47.7558</td>\n",
       "      <td>-122.229</td>\n",
       "      <td>1780</td>\n",
       "      <td>12697</td>\n",
       "    </tr>\n",
       "    <tr>\n",
       "      <th>8</th>\n",
       "      <td>8</td>\n",
       "      <td>20141007T000000</td>\n",
       "      <td>400000.0</td>\n",
       "      <td>3</td>\n",
       "      <td>1.75</td>\n",
       "      <td>1370</td>\n",
       "      <td>9680</td>\n",
       "      <td>1.0</td>\n",
       "      <td>0</td>\n",
       "      <td>0</td>\n",
       "      <td>...</td>\n",
       "      <td>7</td>\n",
       "      <td>1370</td>\n",
       "      <td>0</td>\n",
       "      <td>1977</td>\n",
       "      <td>0</td>\n",
       "      <td>98074</td>\n",
       "      <td>47.6127</td>\n",
       "      <td>-122.045</td>\n",
       "      <td>1370</td>\n",
       "      <td>10208</td>\n",
       "    </tr>\n",
       "    <tr>\n",
       "      <th>9</th>\n",
       "      <td>9</td>\n",
       "      <td>20150312T000000</td>\n",
       "      <td>530000.0</td>\n",
       "      <td>5</td>\n",
       "      <td>2.00</td>\n",
       "      <td>1810</td>\n",
       "      <td>4850</td>\n",
       "      <td>1.5</td>\n",
       "      <td>0</td>\n",
       "      <td>0</td>\n",
       "      <td>...</td>\n",
       "      <td>7</td>\n",
       "      <td>1810</td>\n",
       "      <td>0</td>\n",
       "      <td>1900</td>\n",
       "      <td>0</td>\n",
       "      <td>98107</td>\n",
       "      <td>47.6700</td>\n",
       "      <td>-122.394</td>\n",
       "      <td>1360</td>\n",
       "      <td>4850</td>\n",
       "    </tr>\n",
       "    <tr>\n",
       "      <th>10</th>\n",
       "      <td>10</td>\n",
       "      <td>20150124T000000</td>\n",
       "      <td>650000.0</td>\n",
       "      <td>4</td>\n",
       "      <td>3.00</td>\n",
       "      <td>2950</td>\n",
       "      <td>5000</td>\n",
       "      <td>2.0</td>\n",
       "      <td>0</td>\n",
       "      <td>3</td>\n",
       "      <td>...</td>\n",
       "      <td>9</td>\n",
       "      <td>1980</td>\n",
       "      <td>970</td>\n",
       "      <td>1979</td>\n",
       "      <td>0</td>\n",
       "      <td>98126</td>\n",
       "      <td>47.5714</td>\n",
       "      <td>-122.375</td>\n",
       "      <td>2140</td>\n",
       "      <td>4000</td>\n",
       "    </tr>\n",
       "    <tr>\n",
       "      <th>11</th>\n",
       "      <td>11</td>\n",
       "      <td>20140731T000000</td>\n",
       "      <td>395000.0</td>\n",
       "      <td>3</td>\n",
       "      <td>2.00</td>\n",
       "      <td>1890</td>\n",
       "      <td>14040</td>\n",
       "      <td>2.0</td>\n",
       "      <td>0</td>\n",
       "      <td>0</td>\n",
       "      <td>...</td>\n",
       "      <td>7</td>\n",
       "      <td>1890</td>\n",
       "      <td>0</td>\n",
       "      <td>1994</td>\n",
       "      <td>0</td>\n",
       "      <td>98019</td>\n",
       "      <td>47.7277</td>\n",
       "      <td>-121.962</td>\n",
       "      <td>1890</td>\n",
       "      <td>14018</td>\n",
       "    </tr>\n",
       "    <tr>\n",
       "      <th>12</th>\n",
       "      <td>12</td>\n",
       "      <td>20140529T000000</td>\n",
       "      <td>485000.0</td>\n",
       "      <td>4</td>\n",
       "      <td>1.00</td>\n",
       "      <td>1600</td>\n",
       "      <td>4300</td>\n",
       "      <td>1.5</td>\n",
       "      <td>0</td>\n",
       "      <td>0</td>\n",
       "      <td>...</td>\n",
       "      <td>7</td>\n",
       "      <td>1600</td>\n",
       "      <td>0</td>\n",
       "      <td>1916</td>\n",
       "      <td>0</td>\n",
       "      <td>98103</td>\n",
       "      <td>47.6648</td>\n",
       "      <td>-122.343</td>\n",
       "      <td>1610</td>\n",
       "      <td>4300</td>\n",
       "    </tr>\n",
       "    <tr>\n",
       "      <th>13</th>\n",
       "      <td>13</td>\n",
       "      <td>20141205T000000</td>\n",
       "      <td>189000.0</td>\n",
       "      <td>2</td>\n",
       "      <td>1.00</td>\n",
       "      <td>1200</td>\n",
       "      <td>9850</td>\n",
       "      <td>1.0</td>\n",
       "      <td>0</td>\n",
       "      <td>0</td>\n",
       "      <td>...</td>\n",
       "      <td>7</td>\n",
       "      <td>1200</td>\n",
       "      <td>0</td>\n",
       "      <td>1921</td>\n",
       "      <td>0</td>\n",
       "      <td>98002</td>\n",
       "      <td>47.3089</td>\n",
       "      <td>-122.210</td>\n",
       "      <td>1060</td>\n",
       "      <td>5095</td>\n",
       "    </tr>\n",
       "    <tr>\n",
       "      <th>14</th>\n",
       "      <td>14</td>\n",
       "      <td>20150424T000000</td>\n",
       "      <td>230000.0</td>\n",
       "      <td>3</td>\n",
       "      <td>1.00</td>\n",
       "      <td>1250</td>\n",
       "      <td>9774</td>\n",
       "      <td>1.0</td>\n",
       "      <td>0</td>\n",
       "      <td>0</td>\n",
       "      <td>...</td>\n",
       "      <td>7</td>\n",
       "      <td>1250</td>\n",
       "      <td>0</td>\n",
       "      <td>1969</td>\n",
       "      <td>0</td>\n",
       "      <td>98003</td>\n",
       "      <td>47.3343</td>\n",
       "      <td>-122.306</td>\n",
       "      <td>1280</td>\n",
       "      <td>8850</td>\n",
       "    </tr>\n",
       "    <tr>\n",
       "      <th>15</th>\n",
       "      <td>15</td>\n",
       "      <td>20140514T000000</td>\n",
       "      <td>385000.0</td>\n",
       "      <td>4</td>\n",
       "      <td>1.75</td>\n",
       "      <td>1620</td>\n",
       "      <td>4980</td>\n",
       "      <td>1.0</td>\n",
       "      <td>0</td>\n",
       "      <td>0</td>\n",
       "      <td>...</td>\n",
       "      <td>7</td>\n",
       "      <td>860</td>\n",
       "      <td>760</td>\n",
       "      <td>1947</td>\n",
       "      <td>0</td>\n",
       "      <td>98133</td>\n",
       "      <td>47.7025</td>\n",
       "      <td>-122.341</td>\n",
       "      <td>1400</td>\n",
       "      <td>4980</td>\n",
       "    </tr>\n",
       "    <tr>\n",
       "      <th>16</th>\n",
       "      <td>16</td>\n",
       "      <td>20140826T000000</td>\n",
       "      <td>2000000.0</td>\n",
       "      <td>3</td>\n",
       "      <td>2.75</td>\n",
       "      <td>3050</td>\n",
       "      <td>44867</td>\n",
       "      <td>1.0</td>\n",
       "      <td>0</td>\n",
       "      <td>4</td>\n",
       "      <td>...</td>\n",
       "      <td>9</td>\n",
       "      <td>2330</td>\n",
       "      <td>720</td>\n",
       "      <td>1968</td>\n",
       "      <td>0</td>\n",
       "      <td>98040</td>\n",
       "      <td>47.5316</td>\n",
       "      <td>-122.233</td>\n",
       "      <td>4110</td>\n",
       "      <td>20336</td>\n",
       "    </tr>\n",
       "    <tr>\n",
       "      <th>17</th>\n",
       "      <td>17</td>\n",
       "      <td>20140516T000000</td>\n",
       "      <td>252700.0</td>\n",
       "      <td>2</td>\n",
       "      <td>1.50</td>\n",
       "      <td>1070</td>\n",
       "      <td>9643</td>\n",
       "      <td>1.0</td>\n",
       "      <td>0</td>\n",
       "      <td>0</td>\n",
       "      <td>...</td>\n",
       "      <td>7</td>\n",
       "      <td>1070</td>\n",
       "      <td>0</td>\n",
       "      <td>1985</td>\n",
       "      <td>0</td>\n",
       "      <td>98030</td>\n",
       "      <td>47.3533</td>\n",
       "      <td>-122.166</td>\n",
       "      <td>1220</td>\n",
       "      <td>8386</td>\n",
       "    </tr>\n",
       "    <tr>\n",
       "      <th>18</th>\n",
       "      <td>18</td>\n",
       "      <td>20141120T000000</td>\n",
       "      <td>329000.0</td>\n",
       "      <td>3</td>\n",
       "      <td>2.25</td>\n",
       "      <td>2450</td>\n",
       "      <td>6500</td>\n",
       "      <td>2.0</td>\n",
       "      <td>0</td>\n",
       "      <td>0</td>\n",
       "      <td>...</td>\n",
       "      <td>8</td>\n",
       "      <td>2450</td>\n",
       "      <td>0</td>\n",
       "      <td>1985</td>\n",
       "      <td>0</td>\n",
       "      <td>98030</td>\n",
       "      <td>47.3739</td>\n",
       "      <td>-122.172</td>\n",
       "      <td>2200</td>\n",
       "      <td>6865</td>\n",
       "    </tr>\n",
       "    <tr>\n",
       "      <th>19</th>\n",
       "      <td>19</td>\n",
       "      <td>20141103T000000</td>\n",
       "      <td>233000.0</td>\n",
       "      <td>3</td>\n",
       "      <td>2.00</td>\n",
       "      <td>1710</td>\n",
       "      <td>4697</td>\n",
       "      <td>1.5</td>\n",
       "      <td>0</td>\n",
       "      <td>0</td>\n",
       "      <td>...</td>\n",
       "      <td>6</td>\n",
       "      <td>1710</td>\n",
       "      <td>0</td>\n",
       "      <td>1941</td>\n",
       "      <td>0</td>\n",
       "      <td>98002</td>\n",
       "      <td>47.3048</td>\n",
       "      <td>-122.218</td>\n",
       "      <td>1030</td>\n",
       "      <td>4705</td>\n",
       "    </tr>\n",
       "  </tbody>\n",
       "</table>\n",
       "<p>20 rows × 21 columns</p>\n",
       "</div>"
      ],
      "text/plain": [
       "    id             date      price  bedrooms  bathrooms  sqft_living  \\\n",
       "0    0  20141013T000000   221900.0         3       1.00         1180   \n",
       "1    1  20150225T000000   180000.0         2       1.00          770   \n",
       "2    2  20150218T000000   510000.0         3       2.00         1680   \n",
       "3    3  20140627T000000   257500.0         3       2.25         1715   \n",
       "4    4  20150115T000000   291850.0         3       1.50         1060   \n",
       "5    5  20150403T000000   662500.0         3       2.50         3560   \n",
       "6    6  20140527T000000   468000.0         2       1.00         1160   \n",
       "7    7  20140528T000000   310000.0         3       1.00         1430   \n",
       "8    8  20141007T000000   400000.0         3       1.75         1370   \n",
       "9    9  20150312T000000   530000.0         5       2.00         1810   \n",
       "10  10  20150124T000000   650000.0         4       3.00         2950   \n",
       "11  11  20140731T000000   395000.0         3       2.00         1890   \n",
       "12  12  20140529T000000   485000.0         4       1.00         1600   \n",
       "13  13  20141205T000000   189000.0         2       1.00         1200   \n",
       "14  14  20150424T000000   230000.0         3       1.00         1250   \n",
       "15  15  20140514T000000   385000.0         4       1.75         1620   \n",
       "16  16  20140826T000000  2000000.0         3       2.75         3050   \n",
       "17  17  20140516T000000   252700.0         2       1.50         1070   \n",
       "18  18  20141120T000000   329000.0         3       2.25         2450   \n",
       "19  19  20141103T000000   233000.0         3       2.00         1710   \n",
       "\n",
       "    sqft_lot  floors  waterfront  view  ...  grade  sqft_above  sqft_basement  \\\n",
       "0       5650     1.0           0     0  ...      7        1180              0   \n",
       "1      10000     1.0           0     0  ...      6         770              0   \n",
       "2       8080     1.0           0     0  ...      8        1680              0   \n",
       "3       6819     2.0           0     0  ...      7        1715              0   \n",
       "4       9711     1.0           0     0  ...      7        1060              0   \n",
       "5       9796     1.0           0     0  ...      8        1860           1700   \n",
       "6       6000     1.0           0     0  ...      7         860            300   \n",
       "7      19901     1.5           0     0  ...      7        1430              0   \n",
       "8       9680     1.0           0     0  ...      7        1370              0   \n",
       "9       4850     1.5           0     0  ...      7        1810              0   \n",
       "10      5000     2.0           0     3  ...      9        1980            970   \n",
       "11     14040     2.0           0     0  ...      7        1890              0   \n",
       "12      4300     1.5           0     0  ...      7        1600              0   \n",
       "13      9850     1.0           0     0  ...      7        1200              0   \n",
       "14      9774     1.0           0     0  ...      7        1250              0   \n",
       "15      4980     1.0           0     0  ...      7         860            760   \n",
       "16     44867     1.0           0     4  ...      9        2330            720   \n",
       "17      9643     1.0           0     0  ...      7        1070              0   \n",
       "18      6500     2.0           0     0  ...      8        2450              0   \n",
       "19      4697     1.5           0     0  ...      6        1710              0   \n",
       "\n",
       "    yr_built  yr_renovated  zipcode      lat     long  sqft_living15  \\\n",
       "0       1955             0    98178  47.5112 -122.257           1340   \n",
       "1       1933             0    98028  47.7379 -122.233           2720   \n",
       "2       1987             0    98074  47.6168 -122.045           1800   \n",
       "3       1995             0    98003  47.3097 -122.327           2238   \n",
       "4       1963             0    98198  47.4095 -122.315           1650   \n",
       "5       1965             0    98007  47.6007 -122.145           2210   \n",
       "6       1942             0    98115  47.6900 -122.292           1330   \n",
       "7       1927             0    98028  47.7558 -122.229           1780   \n",
       "8       1977             0    98074  47.6127 -122.045           1370   \n",
       "9       1900             0    98107  47.6700 -122.394           1360   \n",
       "10      1979             0    98126  47.5714 -122.375           2140   \n",
       "11      1994             0    98019  47.7277 -121.962           1890   \n",
       "12      1916             0    98103  47.6648 -122.343           1610   \n",
       "13      1921             0    98002  47.3089 -122.210           1060   \n",
       "14      1969             0    98003  47.3343 -122.306           1280   \n",
       "15      1947             0    98133  47.7025 -122.341           1400   \n",
       "16      1968             0    98040  47.5316 -122.233           4110   \n",
       "17      1985             0    98030  47.3533 -122.166           1220   \n",
       "18      1985             0    98030  47.3739 -122.172           2200   \n",
       "19      1941             0    98002  47.3048 -122.218           1030   \n",
       "\n",
       "    sqft_lot15  \n",
       "0         5650  \n",
       "1         8062  \n",
       "2         7503  \n",
       "3         6819  \n",
       "4         9711  \n",
       "5         8925  \n",
       "6         6000  \n",
       "7        12697  \n",
       "8        10208  \n",
       "9         4850  \n",
       "10        4000  \n",
       "11       14018  \n",
       "12        4300  \n",
       "13        5095  \n",
       "14        8850  \n",
       "15        4980  \n",
       "16       20336  \n",
       "17        8386  \n",
       "18        6865  \n",
       "19        4705  \n",
       "\n",
       "[20 rows x 21 columns]"
      ]
     },
     "execution_count": 4,
     "metadata": {},
     "output_type": "execute_result"
    }
   ],
   "source": [
    "df_train.head(20)"
   ]
  },
  {
   "cell_type": "markdown",
   "metadata": {},
   "source": [
    "### `date` feature split\n",
    "date는 년월일 그리고 뒤의 `T000000`으로 되어있습니다.\n",
    "아마도 시간으로 추측되지만 모두 같은 텍스트가 있는지 확인해봅니다.\n",
    "간단하게 `checkTextNeccesary` 함수를 만들어서 column에 특정 text가 필요한 것인지 확인하도록 만들었습니다.\n",
    "date column의 모든 row가 `T000000`을 포함하고 있으므로 이는 삭제를 해도됩니다.\n",
    "\n",
    "\n",
    "`deleteTextFromColumn`는 column에서 특정 text를 찾아서 없애도록 해줍니다. 이를 이용해서 `date`에서 `T000000`를 삭제합니다.\n",
    "\n",
    "이후 `splitTextDate`를 이용해서 YYYYMMDD로 이루어진 `date`를 split해서 `year`, `month`, `day`로 만들어줍니다."
   ]
  },
  {
   "cell_type": "code",
   "execution_count": 5,
   "metadata": {},
   "outputs": [
    {
     "name": "stdout",
     "output_type": "stream",
     "text": [
      "T000000 can be deleted from date\n"
     ]
    }
   ],
   "source": [
    "# Check all date contains `T000000`\n",
    "def checkTextNeccesary(df, column_name, text):\n",
    "    count = len(df)\n",
    "    count_text_in = len(df[df[column_name].str.contains(text)])\n",
    "    if count == count_text_in: # All rows contain text\n",
    "        print('{} can be deleted from {}'.format(text, column_name))\n",
    "    else:\n",
    "        print('{} is neccesary data in {}'.format(text, column_name))\n",
    "    \n",
    "\n",
    "checkTextNeccesary(df_train, 'date', 'T000000')"
   ]
  },
  {
   "cell_type": "code",
   "execution_count": 6,
   "metadata": {},
   "outputs": [],
   "source": [
    "def deleteTextFromColumn(df, column_name, text):\n",
    "    df[column_name] = df[column_name].str.replace(text, '')\n",
    "    return df\n",
    "\n",
    "df_train = deleteTextFromColumn(df_train, 'date', 'T000000')\n",
    "df_test = deleteTextFromColumn(df_test, 'date', 'T000000')"
   ]
  },
  {
   "cell_type": "code",
   "execution_count": 7,
   "metadata": {},
   "outputs": [],
   "source": [
    "def splitTextDate(df):\n",
    "    if 'date' not in df.columns:\n",
    "        text = 'No date column is in dataframe'\n",
    "        raise ValueError(text)\n",
    "    \n",
    "    df['year'] = pd.to_numeric(df['date'].str[0:4])\n",
    "    df['month'] = pd.to_numeric(df['date'].str[4:6])\n",
    "    df['day'] = pd.to_numeric(df['date'].str[6:])\n",
    "    \n",
    "    return df\n",
    "    \n",
    "df_train = splitTextDate(df_train)\n",
    "df_test = splitTextDate(df_test)"
   ]
  },
  {
   "cell_type": "markdown",
   "metadata": {},
   "source": [
    "### convert int zipcode to string\n",
    "이제 편하게 연도와 월 일을 확인할 수 있습니다.\n",
    "다른 feature들을 확인하기 위해서 waterfront와 zipcode의 unique value를 확인해보았습니다.\n",
    "\n",
    "zipcode는 위에서 확인했듯이 in64로 되어있지만 numerical data로서 연속성을 가지기 어렵다고 생각됬습니다. ->이를 확인하는 과정 추가\n",
    "해서 앞의 98을 삭제하고 string으로 변환하여 categorical data로 변환하였습니다. 이때 98이 모든 row에 있는지 위에서 만들어둔 `checkTextNeccesary`로 확인합니다. 모든 row에 98이 들어있으므로 slice를 통해서 삭제합니다."
   ]
  },
  {
   "cell_type": "code",
   "execution_count": 8,
   "metadata": {},
   "outputs": [
    {
     "name": "stdout",
     "output_type": "stream",
     "text": [
      "[2014 2015]\n",
      "[ 1  2  3  4  5  6  7  8  9 10 11 12]\n",
      "[ 1  2  3  4  5  6  7  8  9 10 11 12 13 14 15 16 17 18 19 20 21 22 23 24\n",
      " 25 26 27 28 29 30 31]\n",
      "[0 1]\n",
      "[98178 98028 98074 98003 98198 98007 98115 98107 98126 98019 98103 98002\n",
      " 98133 98040 98030 98119 98112 98027 98117 98058 98001 98056 98166 98053\n",
      " 98023 98105 98042 98008 98148 98122 98004 98005 98034 98125 98075 98010\n",
      " 98038 98059 98092 98136 98199 98032 98045 98102 98077 98108 98168 98177\n",
      " 98118 98006 98146 98033 98052 98155 98024 98116 98144 98011 98031 98106\n",
      " 98065 98022 98070 98014 98055 98072 98029 98188 98109 98039]\n"
     ]
    }
   ],
   "source": [
    "print(np.sort(df_train['year'].unique()))\n",
    "print(np.sort(df_train['month'].unique()))\n",
    "print(np.sort(df_train['day'].unique()))\n",
    "print(df_train['waterfront'].unique())\n",
    "print(df_train['zipcode'].unique())"
   ]
  },
  {
   "cell_type": "code",
   "execution_count": 9,
   "metadata": {},
   "outputs": [
    {
     "name": "stdout",
     "output_type": "stream",
     "text": [
      "98178\n"
     ]
    }
   ],
   "source": [
    "# df_train['zipcode'] = df_train['zipcode'].astype(str)\n",
    "# df_test['zipcode'] = df_test['zipcode'].astype(str)\n",
    "# checkTextNeccesary(df_train, 'zipcode', '98')\n",
    "\n",
    "df_train['zipcode'] = df_train['zipcode']\n",
    "df_test['zipcode'] = df_test['zipcode']\n",
    "\n",
    "print(df_train['zipcode'][0])"
   ]
  },
  {
   "cell_type": "code",
   "execution_count": 10,
   "metadata": {},
   "outputs": [
    {
     "name": "stdout",
     "output_type": "stream",
     "text": [
      "count    15035.000000\n",
      "mean      -122.213677\n",
      "std          0.141294\n",
      "min       -122.519000\n",
      "25%       -122.328000\n",
      "50%       -122.231000\n",
      "75%       -122.126000\n",
      "max       -121.315000\n",
      "Name: long, dtype: float64\n"
     ]
    },
    {
     "data": {
      "text/plain": [
       "count    15035.000000\n",
       "mean        47.560721\n",
       "std          0.138164\n",
       "min         47.155900\n",
       "25%         47.472700\n",
       "50%         47.571900\n",
       "75%         47.678300\n",
       "max         47.777600\n",
       "Name: lat, dtype: float64"
      ]
     },
     "execution_count": 10,
     "metadata": {},
     "output_type": "execute_result"
    }
   ],
   "source": [
    "print(df_train['long'].describe())\n",
    "df_train['lat'].describe()"
   ]
  },
  {
   "cell_type": "markdown",
   "metadata": {},
   "source": [
    "대략적인 지도는 아래와 같이 생겼을 것으로 추정되고 평균인 latitude와 longitude를 확인해보면 4748 Fernridge Lane, Mercer Island, WA 98040, United States of America\n",
    "Latitude: 47.560661 | Longitude: -122.213641로 미국 Seatle 근처의 도시임을 알 수 있습니다."
   ]
  },
  {
   "cell_type": "code",
   "execution_count": 11,
   "metadata": {},
   "outputs": [
    {
     "data": {
      "image/png": "[encoded data removed]",
      "text/plain": [
       "<Figure size 432x288 with 1 Axes>"
      ]
     },
     "metadata": {
      "needs_background": "light"
     },
     "output_type": "display_data"
    }
   ],
   "source": [
    "#scatter plot totalbsmtsf/saleprice\n",
    "var = 'long'\n",
    "data = pd.concat([df_train['lat'], df_train[var]], axis=1)\n",
    "data.plot.scatter(x=var, y='lat', ylim=(47.1, 47.8));"
   ]
  },
  {
   "cell_type": "markdown",
   "metadata": {},
   "source": [
    "### absolute to `long`\n",
    "`long`은 경도로서 negative값을 가지면 남반구를 의미합니다. 하지만 전체가 negative인 것으로 확인해되서 log를 적용하기 위한 편의상 이를 절댓값으로 변경해주었습니다."
   ]
  },
  {
   "cell_type": "code",
   "execution_count": 12,
   "metadata": {},
   "outputs": [
    {
     "name": "stdout",
     "output_type": "stream",
     "text": [
      "15035 15035\n",
      "all values are negative in long\n",
      "6468 6468\n",
      "all values are negative in long\n"
     ]
    }
   ],
   "source": [
    "def checkAllNegative(df, column_name):\n",
    "    count = len(df)\n",
    "    count_text_in = len(df[(df[column_name] < 0)])\n",
    "    print(count, count_text_in)\n",
    "    if count == count_text_in: # All rows contain text\n",
    "        print('all values are negative in {}'.format(column_name))\n",
    "    else:\n",
    "        print('Not all of values negative in {}'.format(column_name))\n",
    "\n",
    "checkAllNegative(df_train, 'long')\n",
    "checkAllNegative(df_test, 'long')\n",
    "\n",
    "df_train['long'] = np.abs(df_train['long'])\n",
    "df_test['long'] = np.abs(df_test['long'])"
   ]
  },
  {
   "cell_type": "markdown",
   "metadata": {},
   "source": [
    "### correlation to price\n",
    "\n",
    "위 처럼 변환한 후에는 기존의 catergorical data였던 date를 numerical하게 볼 수 있고 correlation을 바로 확인할 수 있습니다.\n"
   ]
  },
  {
   "cell_type": "code",
   "execution_count": 13,
   "metadata": {},
   "outputs": [
    {
     "data": {
      "text/plain": [
       "zipcode           -5.149843\n",
       "long              -2.354651\n",
       "day               -1.362531\n",
       "month             -1.035161\n",
       "year               0.801202\n",
       "id                 2.089860\n",
       "condition          3.973980\n",
       "yr_built           4.729033\n",
       "sqft_lot15         8.638433\n",
       "sqft_lot           9.679270\n",
       "yr_renovated      14.080798\n",
       "floors            26.258787\n",
       "waterfront        26.573832\n",
       "lat               30.160389\n",
       "sqft_basement     32.221833\n",
       "bedrooms          32.367177\n",
       "view              40.080591\n",
       "bathrooms         52.547945\n",
       "sqft_living15     58.641920\n",
       "sqft_above        60.857740\n",
       "grade             66.721077\n",
       "sqft_living       70.289898\n",
       "price            100.000000\n",
       "Name: price, dtype: float64"
      ]
     },
     "execution_count": 13,
     "metadata": {},
     "output_type": "execute_result"
    }
   ],
   "source": [
    "#correlation matrix\n",
    "corrmat = df_train.corr()\n",
    "corrmat['price'].sort_values()*100"
   ]
  },
  {
   "cell_type": "code",
   "execution_count": 14,
   "metadata": {},
   "outputs": [
    {
     "data": {
      "text/plain": [
       "0"
      ]
     },
     "execution_count": 14,
     "metadata": {},
     "output_type": "execute_result"
    }
   ],
   "source": [
    "df_train['view'][0]"
   ]
  },
  {
   "cell_type": "code",
   "execution_count": 15,
   "metadata": {},
   "outputs": [
    {
     "data": {
      "text/html": [
       "<div>\n",
       "<style scoped>\n",
       "    .dataframe tbody tr th:only-of-type {\n",
       "        vertical-align: middle;\n",
       "    }\n",
       "\n",
       "    .dataframe tbody tr th {\n",
       "        vertical-align: top;\n",
       "    }\n",
       "\n",
       "    .dataframe thead th {\n",
       "        text-align: right;\n",
       "    }\n",
       "</style>\n",
       "<table border=\"1\" class=\"dataframe\">\n",
       "  <thead>\n",
       "    <tr style=\"text-align: right;\">\n",
       "      <th></th>\n",
       "      <th>id</th>\n",
       "      <th>date</th>\n",
       "      <th>price</th>\n",
       "      <th>bedrooms</th>\n",
       "      <th>bathrooms</th>\n",
       "      <th>sqft_living</th>\n",
       "      <th>sqft_lot</th>\n",
       "      <th>floors</th>\n",
       "      <th>waterfront</th>\n",
       "      <th>view</th>\n",
       "      <th>...</th>\n",
       "      <th>yr_built</th>\n",
       "      <th>yr_renovated</th>\n",
       "      <th>zipcode</th>\n",
       "      <th>lat</th>\n",
       "      <th>long</th>\n",
       "      <th>sqft_living15</th>\n",
       "      <th>sqft_lot15</th>\n",
       "      <th>year</th>\n",
       "      <th>month</th>\n",
       "      <th>day</th>\n",
       "    </tr>\n",
       "  </thead>\n",
       "  <tbody>\n",
       "    <tr>\n",
       "      <th>0</th>\n",
       "      <td>0</td>\n",
       "      <td>20141013</td>\n",
       "      <td>221900.0</td>\n",
       "      <td>3</td>\n",
       "      <td>1.00</td>\n",
       "      <td>1180</td>\n",
       "      <td>5650</td>\n",
       "      <td>1.0</td>\n",
       "      <td>0</td>\n",
       "      <td>0</td>\n",
       "      <td>...</td>\n",
       "      <td>1955</td>\n",
       "      <td>0</td>\n",
       "      <td>98178</td>\n",
       "      <td>47.5112</td>\n",
       "      <td>122.257</td>\n",
       "      <td>1340</td>\n",
       "      <td>5650</td>\n",
       "      <td>2014</td>\n",
       "      <td>10</td>\n",
       "      <td>13</td>\n",
       "    </tr>\n",
       "    <tr>\n",
       "      <th>1</th>\n",
       "      <td>1</td>\n",
       "      <td>20150225</td>\n",
       "      <td>180000.0</td>\n",
       "      <td>2</td>\n",
       "      <td>1.00</td>\n",
       "      <td>770</td>\n",
       "      <td>10000</td>\n",
       "      <td>1.0</td>\n",
       "      <td>0</td>\n",
       "      <td>0</td>\n",
       "      <td>...</td>\n",
       "      <td>1933</td>\n",
       "      <td>0</td>\n",
       "      <td>98028</td>\n",
       "      <td>47.7379</td>\n",
       "      <td>122.233</td>\n",
       "      <td>2720</td>\n",
       "      <td>8062</td>\n",
       "      <td>2015</td>\n",
       "      <td>2</td>\n",
       "      <td>25</td>\n",
       "    </tr>\n",
       "    <tr>\n",
       "      <th>2</th>\n",
       "      <td>2</td>\n",
       "      <td>20150218</td>\n",
       "      <td>510000.0</td>\n",
       "      <td>3</td>\n",
       "      <td>2.00</td>\n",
       "      <td>1680</td>\n",
       "      <td>8080</td>\n",
       "      <td>1.0</td>\n",
       "      <td>0</td>\n",
       "      <td>0</td>\n",
       "      <td>...</td>\n",
       "      <td>1987</td>\n",
       "      <td>0</td>\n",
       "      <td>98074</td>\n",
       "      <td>47.6168</td>\n",
       "      <td>122.045</td>\n",
       "      <td>1800</td>\n",
       "      <td>7503</td>\n",
       "      <td>2015</td>\n",
       "      <td>2</td>\n",
       "      <td>18</td>\n",
       "    </tr>\n",
       "    <tr>\n",
       "      <th>3</th>\n",
       "      <td>3</td>\n",
       "      <td>20140627</td>\n",
       "      <td>257500.0</td>\n",
       "      <td>3</td>\n",
       "      <td>2.25</td>\n",
       "      <td>1715</td>\n",
       "      <td>6819</td>\n",
       "      <td>2.0</td>\n",
       "      <td>0</td>\n",
       "      <td>0</td>\n",
       "      <td>...</td>\n",
       "      <td>1995</td>\n",
       "      <td>0</td>\n",
       "      <td>98003</td>\n",
       "      <td>47.3097</td>\n",
       "      <td>122.327</td>\n",
       "      <td>2238</td>\n",
       "      <td>6819</td>\n",
       "      <td>2014</td>\n",
       "      <td>6</td>\n",
       "      <td>27</td>\n",
       "    </tr>\n",
       "    <tr>\n",
       "      <th>4</th>\n",
       "      <td>4</td>\n",
       "      <td>20150115</td>\n",
       "      <td>291850.0</td>\n",
       "      <td>3</td>\n",
       "      <td>1.50</td>\n",
       "      <td>1060</td>\n",
       "      <td>9711</td>\n",
       "      <td>1.0</td>\n",
       "      <td>0</td>\n",
       "      <td>0</td>\n",
       "      <td>...</td>\n",
       "      <td>1963</td>\n",
       "      <td>0</td>\n",
       "      <td>98198</td>\n",
       "      <td>47.4095</td>\n",
       "      <td>122.315</td>\n",
       "      <td>1650</td>\n",
       "      <td>9711</td>\n",
       "      <td>2015</td>\n",
       "      <td>1</td>\n",
       "      <td>15</td>\n",
       "    </tr>\n",
       "    <tr>\n",
       "      <th>5</th>\n",
       "      <td>5</td>\n",
       "      <td>20150403</td>\n",
       "      <td>662500.0</td>\n",
       "      <td>3</td>\n",
       "      <td>2.50</td>\n",
       "      <td>3560</td>\n",
       "      <td>9796</td>\n",
       "      <td>1.0</td>\n",
       "      <td>0</td>\n",
       "      <td>0</td>\n",
       "      <td>...</td>\n",
       "      <td>1965</td>\n",
       "      <td>0</td>\n",
       "      <td>98007</td>\n",
       "      <td>47.6007</td>\n",
       "      <td>122.145</td>\n",
       "      <td>2210</td>\n",
       "      <td>8925</td>\n",
       "      <td>2015</td>\n",
       "      <td>4</td>\n",
       "      <td>3</td>\n",
       "    </tr>\n",
       "    <tr>\n",
       "      <th>6</th>\n",
       "      <td>6</td>\n",
       "      <td>20140527</td>\n",
       "      <td>468000.0</td>\n",
       "      <td>2</td>\n",
       "      <td>1.00</td>\n",
       "      <td>1160</td>\n",
       "      <td>6000</td>\n",
       "      <td>1.0</td>\n",
       "      <td>0</td>\n",
       "      <td>0</td>\n",
       "      <td>...</td>\n",
       "      <td>1942</td>\n",
       "      <td>0</td>\n",
       "      <td>98115</td>\n",
       "      <td>47.6900</td>\n",
       "      <td>122.292</td>\n",
       "      <td>1330</td>\n",
       "      <td>6000</td>\n",
       "      <td>2014</td>\n",
       "      <td>5</td>\n",
       "      <td>27</td>\n",
       "    </tr>\n",
       "    <tr>\n",
       "      <th>7</th>\n",
       "      <td>7</td>\n",
       "      <td>20140528</td>\n",
       "      <td>310000.0</td>\n",
       "      <td>3</td>\n",
       "      <td>1.00</td>\n",
       "      <td>1430</td>\n",
       "      <td>19901</td>\n",
       "      <td>1.5</td>\n",
       "      <td>0</td>\n",
       "      <td>0</td>\n",
       "      <td>...</td>\n",
       "      <td>1927</td>\n",
       "      <td>0</td>\n",
       "      <td>98028</td>\n",
       "      <td>47.7558</td>\n",
       "      <td>122.229</td>\n",
       "      <td>1780</td>\n",
       "      <td>12697</td>\n",
       "      <td>2014</td>\n",
       "      <td>5</td>\n",
       "      <td>28</td>\n",
       "    </tr>\n",
       "    <tr>\n",
       "      <th>8</th>\n",
       "      <td>8</td>\n",
       "      <td>20141007</td>\n",
       "      <td>400000.0</td>\n",
       "      <td>3</td>\n",
       "      <td>1.75</td>\n",
       "      <td>1370</td>\n",
       "      <td>9680</td>\n",
       "      <td>1.0</td>\n",
       "      <td>0</td>\n",
       "      <td>0</td>\n",
       "      <td>...</td>\n",
       "      <td>1977</td>\n",
       "      <td>0</td>\n",
       "      <td>98074</td>\n",
       "      <td>47.6127</td>\n",
       "      <td>122.045</td>\n",
       "      <td>1370</td>\n",
       "      <td>10208</td>\n",
       "      <td>2014</td>\n",
       "      <td>10</td>\n",
       "      <td>7</td>\n",
       "    </tr>\n",
       "    <tr>\n",
       "      <th>9</th>\n",
       "      <td>9</td>\n",
       "      <td>20150312</td>\n",
       "      <td>530000.0</td>\n",
       "      <td>5</td>\n",
       "      <td>2.00</td>\n",
       "      <td>1810</td>\n",
       "      <td>4850</td>\n",
       "      <td>1.5</td>\n",
       "      <td>0</td>\n",
       "      <td>0</td>\n",
       "      <td>...</td>\n",
       "      <td>1900</td>\n",
       "      <td>0</td>\n",
       "      <td>98107</td>\n",
       "      <td>47.6700</td>\n",
       "      <td>122.394</td>\n",
       "      <td>1360</td>\n",
       "      <td>4850</td>\n",
       "      <td>2015</td>\n",
       "      <td>3</td>\n",
       "      <td>12</td>\n",
       "    </tr>\n",
       "    <tr>\n",
       "      <th>10</th>\n",
       "      <td>10</td>\n",
       "      <td>20150124</td>\n",
       "      <td>650000.0</td>\n",
       "      <td>4</td>\n",
       "      <td>3.00</td>\n",
       "      <td>2950</td>\n",
       "      <td>5000</td>\n",
       "      <td>2.0</td>\n",
       "      <td>0</td>\n",
       "      <td>3</td>\n",
       "      <td>...</td>\n",
       "      <td>1979</td>\n",
       "      <td>0</td>\n",
       "      <td>98126</td>\n",
       "      <td>47.5714</td>\n",
       "      <td>122.375</td>\n",
       "      <td>2140</td>\n",
       "      <td>4000</td>\n",
       "      <td>2015</td>\n",
       "      <td>1</td>\n",
       "      <td>24</td>\n",
       "    </tr>\n",
       "    <tr>\n",
       "      <th>11</th>\n",
       "      <td>11</td>\n",
       "      <td>20140731</td>\n",
       "      <td>395000.0</td>\n",
       "      <td>3</td>\n",
       "      <td>2.00</td>\n",
       "      <td>1890</td>\n",
       "      <td>14040</td>\n",
       "      <td>2.0</td>\n",
       "      <td>0</td>\n",
       "      <td>0</td>\n",
       "      <td>...</td>\n",
       "      <td>1994</td>\n",
       "      <td>0</td>\n",
       "      <td>98019</td>\n",
       "      <td>47.7277</td>\n",
       "      <td>121.962</td>\n",
       "      <td>1890</td>\n",
       "      <td>14018</td>\n",
       "      <td>2014</td>\n",
       "      <td>7</td>\n",
       "      <td>31</td>\n",
       "    </tr>\n",
       "    <tr>\n",
       "      <th>12</th>\n",
       "      <td>12</td>\n",
       "      <td>20140529</td>\n",
       "      <td>485000.0</td>\n",
       "      <td>4</td>\n",
       "      <td>1.00</td>\n",
       "      <td>1600</td>\n",
       "      <td>4300</td>\n",
       "      <td>1.5</td>\n",
       "      <td>0</td>\n",
       "      <td>0</td>\n",
       "      <td>...</td>\n",
       "      <td>1916</td>\n",
       "      <td>0</td>\n",
       "      <td>98103</td>\n",
       "      <td>47.6648</td>\n",
       "      <td>122.343</td>\n",
       "      <td>1610</td>\n",
       "      <td>4300</td>\n",
       "      <td>2014</td>\n",
       "      <td>5</td>\n",
       "      <td>29</td>\n",
       "    </tr>\n",
       "    <tr>\n",
       "      <th>13</th>\n",
       "      <td>13</td>\n",
       "      <td>20141205</td>\n",
       "      <td>189000.0</td>\n",
       "      <td>2</td>\n",
       "      <td>1.00</td>\n",
       "      <td>1200</td>\n",
       "      <td>9850</td>\n",
       "      <td>1.0</td>\n",
       "      <td>0</td>\n",
       "      <td>0</td>\n",
       "      <td>...</td>\n",
       "      <td>1921</td>\n",
       "      <td>0</td>\n",
       "      <td>98002</td>\n",
       "      <td>47.3089</td>\n",
       "      <td>122.210</td>\n",
       "      <td>1060</td>\n",
       "      <td>5095</td>\n",
       "      <td>2014</td>\n",
       "      <td>12</td>\n",
       "      <td>5</td>\n",
       "    </tr>\n",
       "    <tr>\n",
       "      <th>14</th>\n",
       "      <td>14</td>\n",
       "      <td>20150424</td>\n",
       "      <td>230000.0</td>\n",
       "      <td>3</td>\n",
       "      <td>1.00</td>\n",
       "      <td>1250</td>\n",
       "      <td>9774</td>\n",
       "      <td>1.0</td>\n",
       "      <td>0</td>\n",
       "      <td>0</td>\n",
       "      <td>...</td>\n",
       "      <td>1969</td>\n",
       "      <td>0</td>\n",
       "      <td>98003</td>\n",
       "      <td>47.3343</td>\n",
       "      <td>122.306</td>\n",
       "      <td>1280</td>\n",
       "      <td>8850</td>\n",
       "      <td>2015</td>\n",
       "      <td>4</td>\n",
       "      <td>24</td>\n",
       "    </tr>\n",
       "    <tr>\n",
       "      <th>15</th>\n",
       "      <td>15</td>\n",
       "      <td>20140514</td>\n",
       "      <td>385000.0</td>\n",
       "      <td>4</td>\n",
       "      <td>1.75</td>\n",
       "      <td>1620</td>\n",
       "      <td>4980</td>\n",
       "      <td>1.0</td>\n",
       "      <td>0</td>\n",
       "      <td>0</td>\n",
       "      <td>...</td>\n",
       "      <td>1947</td>\n",
       "      <td>0</td>\n",
       "      <td>98133</td>\n",
       "      <td>47.7025</td>\n",
       "      <td>122.341</td>\n",
       "      <td>1400</td>\n",
       "      <td>4980</td>\n",
       "      <td>2014</td>\n",
       "      <td>5</td>\n",
       "      <td>14</td>\n",
       "    </tr>\n",
       "    <tr>\n",
       "      <th>16</th>\n",
       "      <td>16</td>\n",
       "      <td>20140826</td>\n",
       "      <td>2000000.0</td>\n",
       "      <td>3</td>\n",
       "      <td>2.75</td>\n",
       "      <td>3050</td>\n",
       "      <td>44867</td>\n",
       "      <td>1.0</td>\n",
       "      <td>0</td>\n",
       "      <td>4</td>\n",
       "      <td>...</td>\n",
       "      <td>1968</td>\n",
       "      <td>0</td>\n",
       "      <td>98040</td>\n",
       "      <td>47.5316</td>\n",
       "      <td>122.233</td>\n",
       "      <td>4110</td>\n",
       "      <td>20336</td>\n",
       "      <td>2014</td>\n",
       "      <td>8</td>\n",
       "      <td>26</td>\n",
       "    </tr>\n",
       "    <tr>\n",
       "      <th>17</th>\n",
       "      <td>17</td>\n",
       "      <td>20140516</td>\n",
       "      <td>252700.0</td>\n",
       "      <td>2</td>\n",
       "      <td>1.50</td>\n",
       "      <td>1070</td>\n",
       "      <td>9643</td>\n",
       "      <td>1.0</td>\n",
       "      <td>0</td>\n",
       "      <td>0</td>\n",
       "      <td>...</td>\n",
       "      <td>1985</td>\n",
       "      <td>0</td>\n",
       "      <td>98030</td>\n",
       "      <td>47.3533</td>\n",
       "      <td>122.166</td>\n",
       "      <td>1220</td>\n",
       "      <td>8386</td>\n",
       "      <td>2014</td>\n",
       "      <td>5</td>\n",
       "      <td>16</td>\n",
       "    </tr>\n",
       "    <tr>\n",
       "      <th>18</th>\n",
       "      <td>18</td>\n",
       "      <td>20141120</td>\n",
       "      <td>329000.0</td>\n",
       "      <td>3</td>\n",
       "      <td>2.25</td>\n",
       "      <td>2450</td>\n",
       "      <td>6500</td>\n",
       "      <td>2.0</td>\n",
       "      <td>0</td>\n",
       "      <td>0</td>\n",
       "      <td>...</td>\n",
       "      <td>1985</td>\n",
       "      <td>0</td>\n",
       "      <td>98030</td>\n",
       "      <td>47.3739</td>\n",
       "      <td>122.172</td>\n",
       "      <td>2200</td>\n",
       "      <td>6865</td>\n",
       "      <td>2014</td>\n",
       "      <td>11</td>\n",
       "      <td>20</td>\n",
       "    </tr>\n",
       "    <tr>\n",
       "      <th>19</th>\n",
       "      <td>19</td>\n",
       "      <td>20141103</td>\n",
       "      <td>233000.0</td>\n",
       "      <td>3</td>\n",
       "      <td>2.00</td>\n",
       "      <td>1710</td>\n",
       "      <td>4697</td>\n",
       "      <td>1.5</td>\n",
       "      <td>0</td>\n",
       "      <td>0</td>\n",
       "      <td>...</td>\n",
       "      <td>1941</td>\n",
       "      <td>0</td>\n",
       "      <td>98002</td>\n",
       "      <td>47.3048</td>\n",
       "      <td>122.218</td>\n",
       "      <td>1030</td>\n",
       "      <td>4705</td>\n",
       "      <td>2014</td>\n",
       "      <td>11</td>\n",
       "      <td>3</td>\n",
       "    </tr>\n",
       "    <tr>\n",
       "      <th>20</th>\n",
       "      <td>20</td>\n",
       "      <td>20140626</td>\n",
       "      <td>937000.0</td>\n",
       "      <td>3</td>\n",
       "      <td>1.75</td>\n",
       "      <td>2450</td>\n",
       "      <td>2691</td>\n",
       "      <td>2.0</td>\n",
       "      <td>0</td>\n",
       "      <td>0</td>\n",
       "      <td>...</td>\n",
       "      <td>1915</td>\n",
       "      <td>0</td>\n",
       "      <td>98119</td>\n",
       "      <td>47.6386</td>\n",
       "      <td>122.360</td>\n",
       "      <td>1760</td>\n",
       "      <td>3573</td>\n",
       "      <td>2014</td>\n",
       "      <td>6</td>\n",
       "      <td>26</td>\n",
       "    </tr>\n",
       "    <tr>\n",
       "      <th>21</th>\n",
       "      <td>21</td>\n",
       "      <td>20141201</td>\n",
       "      <td>667000.0</td>\n",
       "      <td>3</td>\n",
       "      <td>1.00</td>\n",
       "      <td>1400</td>\n",
       "      <td>1581</td>\n",
       "      <td>1.5</td>\n",
       "      <td>0</td>\n",
       "      <td>0</td>\n",
       "      <td>...</td>\n",
       "      <td>1909</td>\n",
       "      <td>0</td>\n",
       "      <td>98112</td>\n",
       "      <td>47.6221</td>\n",
       "      <td>122.314</td>\n",
       "      <td>1860</td>\n",
       "      <td>3861</td>\n",
       "      <td>2014</td>\n",
       "      <td>12</td>\n",
       "      <td>1</td>\n",
       "    </tr>\n",
       "    <tr>\n",
       "      <th>22</th>\n",
       "      <td>22</td>\n",
       "      <td>20141110</td>\n",
       "      <td>580500.0</td>\n",
       "      <td>3</td>\n",
       "      <td>2.50</td>\n",
       "      <td>2320</td>\n",
       "      <td>3980</td>\n",
       "      <td>2.0</td>\n",
       "      <td>0</td>\n",
       "      <td>0</td>\n",
       "      <td>...</td>\n",
       "      <td>2003</td>\n",
       "      <td>0</td>\n",
       "      <td>98027</td>\n",
       "      <td>47.5391</td>\n",
       "      <td>122.070</td>\n",
       "      <td>2580</td>\n",
       "      <td>3980</td>\n",
       "      <td>2014</td>\n",
       "      <td>11</td>\n",
       "      <td>10</td>\n",
       "    </tr>\n",
       "    <tr>\n",
       "      <th>23</th>\n",
       "      <td>23</td>\n",
       "      <td>20140624</td>\n",
       "      <td>687500.0</td>\n",
       "      <td>4</td>\n",
       "      <td>1.75</td>\n",
       "      <td>2330</td>\n",
       "      <td>5000</td>\n",
       "      <td>1.5</td>\n",
       "      <td>0</td>\n",
       "      <td>0</td>\n",
       "      <td>...</td>\n",
       "      <td>1929</td>\n",
       "      <td>0</td>\n",
       "      <td>98117</td>\n",
       "      <td>47.6823</td>\n",
       "      <td>122.368</td>\n",
       "      <td>1460</td>\n",
       "      <td>5000</td>\n",
       "      <td>2014</td>\n",
       "      <td>6</td>\n",
       "      <td>24</td>\n",
       "    </tr>\n",
       "    <tr>\n",
       "      <th>24</th>\n",
       "      <td>24</td>\n",
       "      <td>20141110</td>\n",
       "      <td>535000.0</td>\n",
       "      <td>3</td>\n",
       "      <td>1.00</td>\n",
       "      <td>1090</td>\n",
       "      <td>3000</td>\n",
       "      <td>1.5</td>\n",
       "      <td>0</td>\n",
       "      <td>0</td>\n",
       "      <td>...</td>\n",
       "      <td>1929</td>\n",
       "      <td>0</td>\n",
       "      <td>98117</td>\n",
       "      <td>47.6889</td>\n",
       "      <td>122.375</td>\n",
       "      <td>1570</td>\n",
       "      <td>5080</td>\n",
       "      <td>2014</td>\n",
       "      <td>11</td>\n",
       "      <td>10</td>\n",
       "    </tr>\n",
       "    <tr>\n",
       "      <th>25</th>\n",
       "      <td>25</td>\n",
       "      <td>20141203</td>\n",
       "      <td>322500.0</td>\n",
       "      <td>4</td>\n",
       "      <td>2.75</td>\n",
       "      <td>2060</td>\n",
       "      <td>6659</td>\n",
       "      <td>1.0</td>\n",
       "      <td>0</td>\n",
       "      <td>0</td>\n",
       "      <td>...</td>\n",
       "      <td>1981</td>\n",
       "      <td>0</td>\n",
       "      <td>98058</td>\n",
       "      <td>47.4276</td>\n",
       "      <td>122.157</td>\n",
       "      <td>2020</td>\n",
       "      <td>8720</td>\n",
       "      <td>2014</td>\n",
       "      <td>12</td>\n",
       "      <td>3</td>\n",
       "    </tr>\n",
       "    <tr>\n",
       "      <th>26</th>\n",
       "      <td>26</td>\n",
       "      <td>20140613</td>\n",
       "      <td>696000.0</td>\n",
       "      <td>3</td>\n",
       "      <td>2.50</td>\n",
       "      <td>2300</td>\n",
       "      <td>3060</td>\n",
       "      <td>1.5</td>\n",
       "      <td>0</td>\n",
       "      <td>0</td>\n",
       "      <td>...</td>\n",
       "      <td>1930</td>\n",
       "      <td>2002</td>\n",
       "      <td>98115</td>\n",
       "      <td>47.6827</td>\n",
       "      <td>122.310</td>\n",
       "      <td>1590</td>\n",
       "      <td>3264</td>\n",
       "      <td>2014</td>\n",
       "      <td>6</td>\n",
       "      <td>13</td>\n",
       "    </tr>\n",
       "    <tr>\n",
       "      <th>27</th>\n",
       "      <td>27</td>\n",
       "      <td>20141230</td>\n",
       "      <td>640000.0</td>\n",
       "      <td>4</td>\n",
       "      <td>2.00</td>\n",
       "      <td>2360</td>\n",
       "      <td>6000</td>\n",
       "      <td>2.0</td>\n",
       "      <td>0</td>\n",
       "      <td>0</td>\n",
       "      <td>...</td>\n",
       "      <td>1904</td>\n",
       "      <td>0</td>\n",
       "      <td>98107</td>\n",
       "      <td>47.6702</td>\n",
       "      <td>122.362</td>\n",
       "      <td>1730</td>\n",
       "      <td>4700</td>\n",
       "      <td>2014</td>\n",
       "      <td>12</td>\n",
       "      <td>30</td>\n",
       "    </tr>\n",
       "    <tr>\n",
       "      <th>28</th>\n",
       "      <td>28</td>\n",
       "      <td>20150213</td>\n",
       "      <td>240000.0</td>\n",
       "      <td>4</td>\n",
       "      <td>1.00</td>\n",
       "      <td>1220</td>\n",
       "      <td>8075</td>\n",
       "      <td>1.0</td>\n",
       "      <td>0</td>\n",
       "      <td>0</td>\n",
       "      <td>...</td>\n",
       "      <td>1969</td>\n",
       "      <td>0</td>\n",
       "      <td>98001</td>\n",
       "      <td>47.3341</td>\n",
       "      <td>122.282</td>\n",
       "      <td>1290</td>\n",
       "      <td>7800</td>\n",
       "      <td>2015</td>\n",
       "      <td>2</td>\n",
       "      <td>13</td>\n",
       "    </tr>\n",
       "    <tr>\n",
       "      <th>29</th>\n",
       "      <td>29</td>\n",
       "      <td>20140620</td>\n",
       "      <td>605000.0</td>\n",
       "      <td>4</td>\n",
       "      <td>2.50</td>\n",
       "      <td>2620</td>\n",
       "      <td>7553</td>\n",
       "      <td>2.0</td>\n",
       "      <td>0</td>\n",
       "      <td>0</td>\n",
       "      <td>...</td>\n",
       "      <td>1996</td>\n",
       "      <td>0</td>\n",
       "      <td>98056</td>\n",
       "      <td>47.5301</td>\n",
       "      <td>122.180</td>\n",
       "      <td>2620</td>\n",
       "      <td>11884</td>\n",
       "      <td>2014</td>\n",
       "      <td>6</td>\n",
       "      <td>20</td>\n",
       "    </tr>\n",
       "  </tbody>\n",
       "</table>\n",
       "<p>30 rows × 24 columns</p>\n",
       "</div>"
      ],
      "text/plain": [
       "    id      date      price  bedrooms  bathrooms  sqft_living  sqft_lot  \\\n",
       "0    0  20141013   221900.0         3       1.00         1180      5650   \n",
       "1    1  20150225   180000.0         2       1.00          770     10000   \n",
       "2    2  20150218   510000.0         3       2.00         1680      8080   \n",
       "3    3  20140627   257500.0         3       2.25         1715      6819   \n",
       "4    4  20150115   291850.0         3       1.50         1060      9711   \n",
       "5    5  20150403   662500.0         3       2.50         3560      9796   \n",
       "6    6  20140527   468000.0         2       1.00         1160      6000   \n",
       "7    7  20140528   310000.0         3       1.00         1430     19901   \n",
       "8    8  20141007   400000.0         3       1.75         1370      9680   \n",
       "9    9  20150312   530000.0         5       2.00         1810      4850   \n",
       "10  10  20150124   650000.0         4       3.00         2950      5000   \n",
       "11  11  20140731   395000.0         3       2.00         1890     14040   \n",
       "12  12  20140529   485000.0         4       1.00         1600      4300   \n",
       "13  13  20141205   189000.0         2       1.00         1200      9850   \n",
       "14  14  20150424   230000.0         3       1.00         1250      9774   \n",
       "15  15  20140514   385000.0         4       1.75         1620      4980   \n",
       "16  16  20140826  2000000.0         3       2.75         3050     44867   \n",
       "17  17  20140516   252700.0         2       1.50         1070      9643   \n",
       "18  18  20141120   329000.0         3       2.25         2450      6500   \n",
       "19  19  20141103   233000.0         3       2.00         1710      4697   \n",
       "20  20  20140626   937000.0         3       1.75         2450      2691   \n",
       "21  21  20141201   667000.0         3       1.00         1400      1581   \n",
       "22  22  20141110   580500.0         3       2.50         2320      3980   \n",
       "23  23  20140624   687500.0         4       1.75         2330      5000   \n",
       "24  24  20141110   535000.0         3       1.00         1090      3000   \n",
       "25  25  20141203   322500.0         4       2.75         2060      6659   \n",
       "26  26  20140613   696000.0         3       2.50         2300      3060   \n",
       "27  27  20141230   640000.0         4       2.00         2360      6000   \n",
       "28  28  20150213   240000.0         4       1.00         1220      8075   \n",
       "29  29  20140620   605000.0         4       2.50         2620      7553   \n",
       "\n",
       "    floors  waterfront  view  ...  yr_built  yr_renovated  zipcode      lat  \\\n",
       "0      1.0           0     0  ...      1955             0    98178  47.5112   \n",
       "1      1.0           0     0  ...      1933             0    98028  47.7379   \n",
       "2      1.0           0     0  ...      1987             0    98074  47.6168   \n",
       "3      2.0           0     0  ...      1995             0    98003  47.3097   \n",
       "4      1.0           0     0  ...      1963             0    98198  47.4095   \n",
       "5      1.0           0     0  ...      1965             0    98007  47.6007   \n",
       "6      1.0           0     0  ...      1942             0    98115  47.6900   \n",
       "7      1.5           0     0  ...      1927             0    98028  47.7558   \n",
       "8      1.0           0     0  ...      1977             0    98074  47.6127   \n",
       "9      1.5           0     0  ...      1900             0    98107  47.6700   \n",
       "10     2.0           0     3  ...      1979             0    98126  47.5714   \n",
       "11     2.0           0     0  ...      1994             0    98019  47.7277   \n",
       "12     1.5           0     0  ...      1916             0    98103  47.6648   \n",
       "13     1.0           0     0  ...      1921             0    98002  47.3089   \n",
       "14     1.0           0     0  ...      1969             0    98003  47.3343   \n",
       "15     1.0           0     0  ...      1947             0    98133  47.7025   \n",
       "16     1.0           0     4  ...      1968             0    98040  47.5316   \n",
       "17     1.0           0     0  ...      1985             0    98030  47.3533   \n",
       "18     2.0           0     0  ...      1985             0    98030  47.3739   \n",
       "19     1.5           0     0  ...      1941             0    98002  47.3048   \n",
       "20     2.0           0     0  ...      1915             0    98119  47.6386   \n",
       "21     1.5           0     0  ...      1909             0    98112  47.6221   \n",
       "22     2.0           0     0  ...      2003             0    98027  47.5391   \n",
       "23     1.5           0     0  ...      1929             0    98117  47.6823   \n",
       "24     1.5           0     0  ...      1929             0    98117  47.6889   \n",
       "25     1.0           0     0  ...      1981             0    98058  47.4276   \n",
       "26     1.5           0     0  ...      1930          2002    98115  47.6827   \n",
       "27     2.0           0     0  ...      1904             0    98107  47.6702   \n",
       "28     1.0           0     0  ...      1969             0    98001  47.3341   \n",
       "29     2.0           0     0  ...      1996             0    98056  47.5301   \n",
       "\n",
       "       long  sqft_living15  sqft_lot15  year  month  day  \n",
       "0   122.257           1340        5650  2014     10   13  \n",
       "1   122.233           2720        8062  2015      2   25  \n",
       "2   122.045           1800        7503  2015      2   18  \n",
       "3   122.327           2238        6819  2014      6   27  \n",
       "4   122.315           1650        9711  2015      1   15  \n",
       "5   122.145           2210        8925  2015      4    3  \n",
       "6   122.292           1330        6000  2014      5   27  \n",
       "7   122.229           1780       12697  2014      5   28  \n",
       "8   122.045           1370       10208  2014     10    7  \n",
       "9   122.394           1360        4850  2015      3   12  \n",
       "10  122.375           2140        4000  2015      1   24  \n",
       "11  121.962           1890       14018  2014      7   31  \n",
       "12  122.343           1610        4300  2014      5   29  \n",
       "13  122.210           1060        5095  2014     12    5  \n",
       "14  122.306           1280        8850  2015      4   24  \n",
       "15  122.341           1400        4980  2014      5   14  \n",
       "16  122.233           4110       20336  2014      8   26  \n",
       "17  122.166           1220        8386  2014      5   16  \n",
       "18  122.172           2200        6865  2014     11   20  \n",
       "19  122.218           1030        4705  2014     11    3  \n",
       "20  122.360           1760        3573  2014      6   26  \n",
       "21  122.314           1860        3861  2014     12    1  \n",
       "22  122.070           2580        3980  2014     11   10  \n",
       "23  122.368           1460        5000  2014      6   24  \n",
       "24  122.375           1570        5080  2014     11   10  \n",
       "25  122.157           2020        8720  2014     12    3  \n",
       "26  122.310           1590        3264  2014      6   13  \n",
       "27  122.362           1730        4700  2014     12   30  \n",
       "28  122.282           1290        7800  2015      2   13  \n",
       "29  122.180           2620       11884  2014      6   20  \n",
       "\n",
       "[30 rows x 24 columns]"
      ]
     },
     "execution_count": 15,
     "metadata": {},
     "output_type": "execute_result"
    }
   ],
   "source": [
    "df_train.head(30)"
   ]
  },
  {
   "cell_type": "code",
   "execution_count": 16,
   "metadata": {
    "scrolled": true
   },
   "outputs": [
    {
     "data": {
      "text/plain": [
       "zipcode           -5.149843\n",
       "long              -2.354651\n",
       "day               -1.362531\n",
       "month             -1.035161\n",
       "year               0.801202\n",
       "id                 2.089860\n",
       "condition          3.973980\n",
       "yr_built           4.729033\n",
       "sqft_lot15         8.638433\n",
       "sqft_lot           9.679270\n",
       "yr_renovated      14.080798\n",
       "floors            26.258787\n",
       "waterfront        26.573832\n",
       "lat               30.160389\n",
       "sqft_basement     32.221833\n",
       "bedrooms          32.367177\n",
       "view              40.080591\n",
       "bathrooms         52.547945\n",
       "sqft_living15     58.641920\n",
       "sqft_above        60.857740\n",
       "grade             66.721077\n",
       "sqft_living       70.289898\n",
       "price            100.000000\n",
       "Name: price, dtype: float64"
      ]
     },
     "execution_count": 16,
     "metadata": {},
     "output_type": "execute_result"
    }
   ],
   "source": [
    "#correlation matrix\n",
    "loged_corrmat = df_train.corr()\n",
    "loged_corrmat['price'].sort_values()*100"
   ]
  },
  {
   "cell_type": "code",
   "execution_count": 17,
   "metadata": {},
   "outputs": [
    {
     "data": {
      "text/plain": [
       "count    1.503500e+04\n",
       "mean     5.406827e+05\n",
       "std      3.715247e+05\n",
       "min      7.800000e+04\n",
       "25%      3.220000e+05\n",
       "50%      4.500000e+05\n",
       "75%      6.450000e+05\n",
       "max      7.700000e+06\n",
       "Name: price, dtype: float64"
      ]
     },
     "execution_count": 17,
     "metadata": {},
     "output_type": "execute_result"
    }
   ],
   "source": [
    "df_train['price'].describe()"
   ]
  },
  {
   "cell_type": "code",
   "execution_count": 18,
   "metadata": {},
   "outputs": [
    {
     "data": {
      "image/png": "[encoded data removed]",
      "text/plain": [
       "<Figure size 576x432 with 1 Axes>"
      ]
     },
     "metadata": {
      "needs_background": "light"
     },
     "output_type": "display_data"
    },
    {
     "data": {
      "image/png": "[encoded data removed]",
      "text/plain": [
       "<Figure size 576x432 with 1 Axes>"
      ]
     },
     "metadata": {
      "needs_background": "light"
     },
     "output_type": "display_data"
    },
    {
     "data": {
      "image/png": "[encoded data removed]",
      "text/plain": [
       "<Figure size 576x432 with 1 Axes>"
      ]
     },
     "metadata": {
      "needs_background": "light"
     },
     "output_type": "display_data"
    },
    {
     "data": {
      "image/png": "[encoded data removed]",
      "text/plain": [
       "<Figure size 576x432 with 1 Axes>"
      ]
     },
     "metadata": {
      "needs_background": "light"
     },
     "output_type": "display_data"
    },
    {
     "data": {
      "image/png": "[encoded data removed]",
      "text/plain": [
       "<Figure size 576x432 with 1 Axes>"
      ]
     },
     "metadata": {
      "needs_background": "light"
     },
     "output_type": "display_data"
    },
    {
     "data": {
      "image/png": "[encoded data removed]",
      "text/plain": [
       "<Figure size 576x432 with 1 Axes>"
      ]
     },
     "metadata": {
      "needs_background": "light"
     },
     "output_type": "display_data"
    },
    {
     "data": {
      "image/png": "[encoded data removed]",
      "text/plain": [
       "<Figure size 576x432 with 1 Axes>"
      ]
     },
     "metadata": {
      "needs_background": "light"
     },
     "output_type": "display_data"
    },
    {
     "data": {
      "image/png": "[encoded data removed]",
      "text/plain": [
       "<Figure size 576x432 with 1 Axes>"
      ]
     },
     "metadata": {
      "needs_background": "light"
     },
     "output_type": "display_data"
    },
    {
     "data": {
      "image/png": "[encoded data removed]",
      "text/plain": [
       "<Figure size 576x432 with 1 Axes>"
      ]
     },
     "metadata": {
      "needs_background": "light"
     },
     "output_type": "display_data"
    },
    {
     "data": {
      "image/png": "[encoded data removed]",
      "text/plain": [
       "<Figure size 576x432 with 1 Axes>"
      ]
     },
     "metadata": {
      "needs_background": "light"
     },
     "output_type": "display_data"
    },
    {
     "data": {
      "image/png": "[encoded data removed]",
      "text/plain": [
       "<Figure size 576x432 with 1 Axes>"
      ]
     },
     "metadata": {
      "needs_background": "light"
     },
     "output_type": "display_data"
    },
    {
     "data": {
      "image/png": "[encoded data removed]",
      "text/plain": [
       "<Figure size 576x432 with 1 Axes>"
      ]
     },
     "metadata": {
      "needs_background": "light"
     },
     "output_type": "display_data"
    },
    {
     "data": {
      "image/png": "[encoded data removed]",
      "text/plain": [
       "<Figure size 576x432 with 1 Axes>"
      ]
     },
     "metadata": {
      "needs_background": "light"
     },
     "output_type": "display_data"
    }
   ],
   "source": [
    "#box plot overallqual/saleprice\n",
    "boxplot_list = ['zipcode', 'year', 'month', 'day', 'grade', 'floors', 'waterfront', 'view', 'condition', \n",
    "               'grade', 'yr_renovated', 'yr_renovated', 'bedrooms']\n",
    "for var in boxplot_list:\n",
    "    data = pd.concat([df_train['price'], df_train[var]], axis=1)\n",
    "    f, ax = plt.subplots(figsize=(8, 6))\n",
    "    fig = sns.boxplot(x=var, y=\"price\", data=data)\n",
    "    fig.axis(ymin=7.800000e+04, ymax=7.700000e+06);"
   ]
  },
  {
   "cell_type": "code",
   "execution_count": null,
   "metadata": {},
   "outputs": [
    {
     "data": {
      "image/png": "[encoded data removed]",
      "text/plain": [
       "<Figure size 432x288 with 1 Axes>"
      ]
     },
     "metadata": {
      "needs_background": "light"
     },
     "output_type": "display_data"
    },
    {
     "data": {
      "image/png": "[encoded data removed]",
      "text/plain": [
       "<Figure size 432x288 with 1 Axes>"
      ]
     },
     "metadata": {
      "needs_background": "light"
     },
     "output_type": "display_data"
    },
    {
     "data": {
      "image/png": "[encoded data removed]",
      "text/plain": [
       "<Figure size 432x288 with 1 Axes>"
      ]
     },
     "metadata": {
      "needs_background": "light"
     },
     "output_type": "display_data"
    },
    {
     "data": {
      "image/png": "[encoded data removed]",
      "text/plain": [
       "<Figure size 432x288 with 1 Axes>"
      ]
     },
     "metadata": {
      "needs_background": "light"
     },
     "output_type": "display_data"
    },
    {
     "data": {
      "image/png": "[encoded data removed]",
      "text/plain": [
       "<Figure size 432x288 with 1 Axes>"
      ]
     },
     "metadata": {
      "needs_background": "light"
     },
     "output_type": "display_data"
    },
    {
     "data": {
      "image/png": "[encoded data removed]",
      "text/plain": [
       "<Figure size 432x288 with 1 Axes>"
      ]
     },
     "metadata": {
      "needs_background": "light"
     },
     "output_type": "display_data"
    },
    {
     "data": {
      "image/png": "[encoded data removed]",
      "text/plain": [
       "<Figure size 432x288 with 1 Axes>"
      ]
     },
     "metadata": {
      "needs_background": "light"
     },
     "output_type": "display_data"
    },
    {
     "data": {
      "image/png": "[encoded data removed]",
      "text/plain": [
       "<Figure size 432x288 with 1 Axes>"
      ]
     },
     "metadata": {
      "needs_background": "light"
     },
     "output_type": "display_data"
    },
    {
     "data": {
      "image/png": "[encoded data removed]",
      "text/plain": [
       "<Figure size 432x288 with 1 Axes>"
      ]
     },
     "metadata": {
      "needs_background": "light"
     },
     "output_type": "display_data"
    },
    {
     "data": {
      "image/png": "[encoded data removed]",
      "text/plain": [
       "<Figure size 432x288 with 1 Axes>"
      ]
     },
     "metadata": {
      "needs_background": "light"
     },
     "output_type": "display_data"
    },
    {
     "data": {
      "image/png": "[encoded data removed]",
      "text/plain": [
       "<Figure size 432x288 with 1 Axes>"
      ]
     },
     "metadata": {
      "needs_background": "light"
     },
     "output_type": "display_data"
    },
    {
     "data": {
      "image/png": "[encoded data removed]",
      "text/plain": [
       "<Figure size 432x288 with 1 Axes>"
      ]
     },
     "metadata": {
      "needs_background": "light"
     },
     "output_type": "display_data"
    },
    {
     "data": {
      "image/png": "[encoded data removed]",
      "text/plain": [
       "<Figure size 432x288 with 1 Axes>"
      ]
     },
     "metadata": {
      "needs_background": "light"
     },
     "output_type": "display_data"
    },
    {
     "data": {
      "image/png": "[encoded data removed]",
      "text/plain": [
       "<Figure size 432x288 with 1 Axes>"
      ]
     },
     "metadata": {
      "needs_background": "light"
     },
     "output_type": "display_data"
    },
    {
     "data": {
      "image/png": "[encoded data removed]",
      "text/plain": [
       "<Figure size 432x288 with 1 Axes>"
      ]
     },
     "metadata": {
      "needs_background": "light"
     },
     "output_type": "display_data"
    },
    {
     "data": {
      "image/png": "[encoded data removed]",
      "text/plain": [
       "<Figure size 432x288 with 1 Axes>"
      ]
     },
     "metadata": {
      "needs_background": "light"
     },
     "output_type": "display_data"
    },
    {
     "data": {
      "image/png": "[encoded data removed]",
      "text/plain": [
       "<Figure size 432x288 with 1 Axes>"
      ]
     },
     "metadata": {
      "needs_background": "light"
     },
     "output_type": "display_data"
    },
    {
     "data": {
      "image/png": "[encoded data removed]",
      "text/plain": [
       "<Figure size 432x288 with 1 Axes>"
      ]
     },
     "metadata": {
      "needs_background": "light"
     },
     "output_type": "display_data"
    },
    {
     "data": {
      "image/png": "[encoded data removed]",
      "text/plain": [
       "<Figure size 432x288 with 1 Axes>"
      ]
     },
     "metadata": {
      "needs_background": "light"
     },
     "output_type": "display_data"
    },
    {
     "data": {
      "image/png": "[encoded data removed]",
      "text/plain": [
       "<Figure size 432x288 with 1 Axes>"
      ]
     },
     "metadata": {
      "needs_background": "light"
     },
     "output_type": "display_data"
    },
    {
     "data": {
      "image/png": "[encoded data removed]",
      "text/plain": [
       "<Figure size 432x288 with 1 Axes>"
      ]
     },
     "metadata": {
      "needs_background": "light"
     },
     "output_type": "display_data"
    },
    {
     "data": {
      "image/png": "[encoded data removed]",
      "text/plain": [
       "<Figure size 432x288 with 1 Axes>"
      ]
     },
     "metadata": {
      "needs_background": "light"
     },
     "output_type": "display_data"
    }
   ],
   "source": [
    "distplot_list = ['price', 'long', 'lat', 'bathrooms', 'sqft_living', 'sqft_lot', 'sqft_above',\n",
    "                 'sqft_basement', 'yr_built', 'sqft_living15', 'sqft_lot15']\n",
    "\n",
    "skwed = distplot_list\n",
    "for var in distplot_list:\n",
    "    plt.figure()\n",
    "    sns.distplot(df_train[var], fit=norm)\n",
    "    fig = plt.figure()\n",
    "    res = stats.probplot(df_train[var], plot=plt)"
   ]
  },
  {
   "cell_type": "code",
   "execution_count": null,
   "metadata": {},
   "outputs": [],
   "source": [
    "#apply log to all data\n",
    "column_names = df_train.columns\n",
    "for name in distplot_list:\n",
    "    df_train[name] = np.log(df_train[name] + 1)\n",
    "    if name is not 'price':\n",
    "        df_test[name] = np.log(df_test[name] + 1)"
   ]
  },
  {
   "cell_type": "code",
   "execution_count": null,
   "metadata": {},
   "outputs": [
    {
     "data": {
      "text/html": [
       "<div>\n",
       "<style scoped>\n",
       "    .dataframe tbody tr th:only-of-type {\n",
       "        vertical-align: middle;\n",
       "    }\n",
       "\n",
       "    .dataframe tbody tr th {\n",
       "        vertical-align: top;\n",
       "    }\n",
       "\n",
       "    .dataframe thead th {\n",
       "        text-align: right;\n",
       "    }\n",
       "</style>\n",
       "<table border=\"1\" class=\"dataframe\">\n",
       "  <thead>\n",
       "    <tr style=\"text-align: right;\">\n",
       "      <th></th>\n",
       "      <th>id</th>\n",
       "      <th>date</th>\n",
       "      <th>price</th>\n",
       "      <th>bedrooms</th>\n",
       "      <th>bathrooms</th>\n",
       "      <th>sqft_living</th>\n",
       "      <th>sqft_lot</th>\n",
       "      <th>floors</th>\n",
       "      <th>waterfront</th>\n",
       "      <th>view</th>\n",
       "      <th>...</th>\n",
       "      <th>yr_built</th>\n",
       "      <th>yr_renovated</th>\n",
       "      <th>zipcode</th>\n",
       "      <th>lat</th>\n",
       "      <th>long</th>\n",
       "      <th>sqft_living15</th>\n",
       "      <th>sqft_lot15</th>\n",
       "      <th>year</th>\n",
       "      <th>month</th>\n",
       "      <th>day</th>\n",
       "    </tr>\n",
       "  </thead>\n",
       "  <tbody>\n",
       "    <tr>\n",
       "      <th>0</th>\n",
       "      <td>0</td>\n",
       "      <td>20141013</td>\n",
       "      <td>12.309987</td>\n",
       "      <td>3</td>\n",
       "      <td>0.693147</td>\n",
       "      <td>7.074117</td>\n",
       "      <td>8.639588</td>\n",
       "      <td>1.0</td>\n",
       "      <td>0</td>\n",
       "      <td>0</td>\n",
       "      <td>...</td>\n",
       "      <td>7.578657</td>\n",
       "      <td>0</td>\n",
       "      <td>98178</td>\n",
       "      <td>3.881795</td>\n",
       "      <td>4.814272</td>\n",
       "      <td>7.201171</td>\n",
       "      <td>8.639588</td>\n",
       "      <td>2014</td>\n",
       "      <td>10</td>\n",
       "      <td>13</td>\n",
       "    </tr>\n",
       "    <tr>\n",
       "      <th>1</th>\n",
       "      <td>1</td>\n",
       "      <td>20150225</td>\n",
       "      <td>12.100718</td>\n",
       "      <td>2</td>\n",
       "      <td>0.693147</td>\n",
       "      <td>6.647688</td>\n",
       "      <td>9.210440</td>\n",
       "      <td>1.0</td>\n",
       "      <td>0</td>\n",
       "      <td>0</td>\n",
       "      <td>...</td>\n",
       "      <td>7.567346</td>\n",
       "      <td>0</td>\n",
       "      <td>98028</td>\n",
       "      <td>3.886457</td>\n",
       "      <td>4.814077</td>\n",
       "      <td>7.908755</td>\n",
       "      <td>8.995041</td>\n",
       "      <td>2015</td>\n",
       "      <td>2</td>\n",
       "      <td>25</td>\n",
       "    </tr>\n",
       "    <tr>\n",
       "      <th>2</th>\n",
       "      <td>2</td>\n",
       "      <td>20150218</td>\n",
       "      <td>13.142168</td>\n",
       "      <td>3</td>\n",
       "      <td>1.098612</td>\n",
       "      <td>7.427144</td>\n",
       "      <td>8.997271</td>\n",
       "      <td>1.0</td>\n",
       "      <td>0</td>\n",
       "      <td>0</td>\n",
       "      <td>...</td>\n",
       "      <td>7.594884</td>\n",
       "      <td>0</td>\n",
       "      <td>98074</td>\n",
       "      <td>3.883969</td>\n",
       "      <td>4.812550</td>\n",
       "      <td>7.496097</td>\n",
       "      <td>8.923191</td>\n",
       "      <td>2015</td>\n",
       "      <td>2</td>\n",
       "      <td>18</td>\n",
       "    </tr>\n",
       "    <tr>\n",
       "      <th>3</th>\n",
       "      <td>3</td>\n",
       "      <td>20140627</td>\n",
       "      <td>12.458779</td>\n",
       "      <td>3</td>\n",
       "      <td>1.178655</td>\n",
       "      <td>7.447751</td>\n",
       "      <td>8.827615</td>\n",
       "      <td>2.0</td>\n",
       "      <td>0</td>\n",
       "      <td>0</td>\n",
       "      <td>...</td>\n",
       "      <td>7.598900</td>\n",
       "      <td>0</td>\n",
       "      <td>98003</td>\n",
       "      <td>3.877632</td>\n",
       "      <td>4.814839</td>\n",
       "      <td>7.713785</td>\n",
       "      <td>8.827615</td>\n",
       "      <td>2014</td>\n",
       "      <td>6</td>\n",
       "      <td>27</td>\n",
       "    </tr>\n",
       "    <tr>\n",
       "      <th>4</th>\n",
       "      <td>4</td>\n",
       "      <td>20150115</td>\n",
       "      <td>12.583999</td>\n",
       "      <td>3</td>\n",
       "      <td>0.916291</td>\n",
       "      <td>6.966967</td>\n",
       "      <td>9.181118</td>\n",
       "      <td>1.0</td>\n",
       "      <td>0</td>\n",
       "      <td>0</td>\n",
       "      <td>...</td>\n",
       "      <td>7.582738</td>\n",
       "      <td>0</td>\n",
       "      <td>98198</td>\n",
       "      <td>3.879696</td>\n",
       "      <td>4.814742</td>\n",
       "      <td>7.409136</td>\n",
       "      <td>9.181118</td>\n",
       "      <td>2015</td>\n",
       "      <td>1</td>\n",
       "      <td>15</td>\n",
       "    </tr>\n",
       "  </tbody>\n",
       "</table>\n",
       "<p>5 rows × 24 columns</p>\n",
       "</div>"
      ],
      "text/plain": [
       "   id      date      price  bedrooms  bathrooms  sqft_living  sqft_lot  \\\n",
       "0   0  20141013  12.309987         3   0.693147     7.074117  8.639588   \n",
       "1   1  20150225  12.100718         2   0.693147     6.647688  9.210440   \n",
       "2   2  20150218  13.142168         3   1.098612     7.427144  8.997271   \n",
       "3   3  20140627  12.458779         3   1.178655     7.447751  8.827615   \n",
       "4   4  20150115  12.583999         3   0.916291     6.966967  9.181118   \n",
       "\n",
       "   floors  waterfront  view  ...  yr_built  yr_renovated  zipcode       lat  \\\n",
       "0     1.0           0     0  ...  7.578657             0    98178  3.881795   \n",
       "1     1.0           0     0  ...  7.567346             0    98028  3.886457   \n",
       "2     1.0           0     0  ...  7.594884             0    98074  3.883969   \n",
       "3     2.0           0     0  ...  7.598900             0    98003  3.877632   \n",
       "4     1.0           0     0  ...  7.582738             0    98198  3.879696   \n",
       "\n",
       "       long  sqft_living15  sqft_lot15  year  month  day  \n",
       "0  4.814272       7.201171    8.639588  2014     10   13  \n",
       "1  4.814077       7.908755    8.995041  2015      2   25  \n",
       "2  4.812550       7.496097    8.923191  2015      2   18  \n",
       "3  4.814839       7.713785    8.827615  2014      6   27  \n",
       "4  4.814742       7.409136    9.181118  2015      1   15  \n",
       "\n",
       "[5 rows x 24 columns]"
      ]
     },
     "execution_count": 21,
     "metadata": {},
     "output_type": "execute_result"
    }
   ],
   "source": [
    "df_train.head()"
   ]
  },
  {
   "cell_type": "code",
   "execution_count": null,
   "metadata": {},
   "outputs": [
    {
     "data": {
      "text/html": [
       "<div>\n",
       "<style scoped>\n",
       "    .dataframe tbody tr th:only-of-type {\n",
       "        vertical-align: middle;\n",
       "    }\n",
       "\n",
       "    .dataframe tbody tr th {\n",
       "        vertical-align: top;\n",
       "    }\n",
       "\n",
       "    .dataframe thead th {\n",
       "        text-align: right;\n",
       "    }\n",
       "</style>\n",
       "<table border=\"1\" class=\"dataframe\">\n",
       "  <thead>\n",
       "    <tr style=\"text-align: right;\">\n",
       "      <th></th>\n",
       "      <th>id</th>\n",
       "      <th>date</th>\n",
       "      <th>bedrooms</th>\n",
       "      <th>bathrooms</th>\n",
       "      <th>sqft_living</th>\n",
       "      <th>sqft_lot</th>\n",
       "      <th>floors</th>\n",
       "      <th>waterfront</th>\n",
       "      <th>view</th>\n",
       "      <th>condition</th>\n",
       "      <th>...</th>\n",
       "      <th>yr_built</th>\n",
       "      <th>yr_renovated</th>\n",
       "      <th>zipcode</th>\n",
       "      <th>lat</th>\n",
       "      <th>long</th>\n",
       "      <th>sqft_living15</th>\n",
       "      <th>sqft_lot15</th>\n",
       "      <th>year</th>\n",
       "      <th>month</th>\n",
       "      <th>day</th>\n",
       "    </tr>\n",
       "  </thead>\n",
       "  <tbody>\n",
       "    <tr>\n",
       "      <th>0</th>\n",
       "      <td>15035</td>\n",
       "      <td>20141209</td>\n",
       "      <td>3</td>\n",
       "      <td>1.178655</td>\n",
       "      <td>7.852050</td>\n",
       "      <td>8.887791</td>\n",
       "      <td>2.0</td>\n",
       "      <td>0</td>\n",
       "      <td>0</td>\n",
       "      <td>3</td>\n",
       "      <td>...</td>\n",
       "      <td>7.576610</td>\n",
       "      <td>1991</td>\n",
       "      <td>98125</td>\n",
       "      <td>3.886110</td>\n",
       "      <td>4.814774</td>\n",
       "      <td>7.433075</td>\n",
       "      <td>8.941153</td>\n",
       "      <td>2014</td>\n",
       "      <td>12</td>\n",
       "      <td>9</td>\n",
       "    </tr>\n",
       "    <tr>\n",
       "      <th>1</th>\n",
       "      <td>15036</td>\n",
       "      <td>20141209</td>\n",
       "      <td>4</td>\n",
       "      <td>1.386294</td>\n",
       "      <td>7.581210</td>\n",
       "      <td>8.517393</td>\n",
       "      <td>1.0</td>\n",
       "      <td>0</td>\n",
       "      <td>0</td>\n",
       "      <td>5</td>\n",
       "      <td>...</td>\n",
       "      <td>7.583756</td>\n",
       "      <td>0</td>\n",
       "      <td>98136</td>\n",
       "      <td>3.881993</td>\n",
       "      <td>4.815374</td>\n",
       "      <td>7.215975</td>\n",
       "      <td>8.517393</td>\n",
       "      <td>2014</td>\n",
       "      <td>12</td>\n",
       "      <td>9</td>\n",
       "    </tr>\n",
       "    <tr>\n",
       "      <th>2</th>\n",
       "      <td>15037</td>\n",
       "      <td>20140512</td>\n",
       "      <td>4</td>\n",
       "      <td>1.704748</td>\n",
       "      <td>8.598036</td>\n",
       "      <td>11.532051</td>\n",
       "      <td>1.0</td>\n",
       "      <td>0</td>\n",
       "      <td>0</td>\n",
       "      <td>3</td>\n",
       "      <td>...</td>\n",
       "      <td>7.601902</td>\n",
       "      <td>0</td>\n",
       "      <td>98053</td>\n",
       "      <td>3.884777</td>\n",
       "      <td>4.812225</td>\n",
       "      <td>8.468213</td>\n",
       "      <td>11.532051</td>\n",
       "      <td>2014</td>\n",
       "      <td>5</td>\n",
       "      <td>12</td>\n",
       "    </tr>\n",
       "    <tr>\n",
       "      <th>3</th>\n",
       "      <td>15038</td>\n",
       "      <td>20150415</td>\n",
       "      <td>3</td>\n",
       "      <td>0.693147</td>\n",
       "      <td>7.484930</td>\n",
       "      <td>8.918784</td>\n",
       "      <td>1.0</td>\n",
       "      <td>0</td>\n",
       "      <td>0</td>\n",
       "      <td>3</td>\n",
       "      <td>...</td>\n",
       "      <td>7.581210</td>\n",
       "      <td>0</td>\n",
       "      <td>98146</td>\n",
       "      <td>3.881817</td>\n",
       "      <td>4.814920</td>\n",
       "      <td>7.484930</td>\n",
       "      <td>9.001346</td>\n",
       "      <td>2015</td>\n",
       "      <td>4</td>\n",
       "      <td>15</td>\n",
       "    </tr>\n",
       "    <tr>\n",
       "      <th>4</th>\n",
       "      <td>15039</td>\n",
       "      <td>20150312</td>\n",
       "      <td>3</td>\n",
       "      <td>1.252763</td>\n",
       "      <td>7.544861</td>\n",
       "      <td>8.788898</td>\n",
       "      <td>2.0</td>\n",
       "      <td>0</td>\n",
       "      <td>0</td>\n",
       "      <td>3</td>\n",
       "      <td>...</td>\n",
       "      <td>7.602900</td>\n",
       "      <td>0</td>\n",
       "      <td>98038</td>\n",
       "      <td>3.878847</td>\n",
       "      <td>4.812436</td>\n",
       "      <td>7.779467</td>\n",
       "      <td>8.932080</td>\n",
       "      <td>2015</td>\n",
       "      <td>3</td>\n",
       "      <td>12</td>\n",
       "    </tr>\n",
       "  </tbody>\n",
       "</table>\n",
       "<p>5 rows × 23 columns</p>\n",
       "</div>"
      ],
      "text/plain": [
       "      id      date  bedrooms  bathrooms  sqft_living   sqft_lot  floors  \\\n",
       "0  15035  20141209         3   1.178655     7.852050   8.887791     2.0   \n",
       "1  15036  20141209         4   1.386294     7.581210   8.517393     1.0   \n",
       "2  15037  20140512         4   1.704748     8.598036  11.532051     1.0   \n",
       "3  15038  20150415         3   0.693147     7.484930   8.918784     1.0   \n",
       "4  15039  20150312         3   1.252763     7.544861   8.788898     2.0   \n",
       "\n",
       "   waterfront  view  condition  ...  yr_built  yr_renovated  zipcode  \\\n",
       "0           0     0          3  ...  7.576610          1991    98125   \n",
       "1           0     0          5  ...  7.583756             0    98136   \n",
       "2           0     0          3  ...  7.601902             0    98053   \n",
       "3           0     0          3  ...  7.581210             0    98146   \n",
       "4           0     0          3  ...  7.602900             0    98038   \n",
       "\n",
       "        lat      long  sqft_living15  sqft_lot15  year  month  day  \n",
       "0  3.886110  4.814774       7.433075    8.941153  2014     12    9  \n",
       "1  3.881993  4.815374       7.215975    8.517393  2014     12    9  \n",
       "2  3.884777  4.812225       8.468213   11.532051  2014      5   12  \n",
       "3  3.881817  4.814920       7.484930    9.001346  2015      4   15  \n",
       "4  3.878847  4.812436       7.779467    8.932080  2015      3   12  \n",
       "\n",
       "[5 rows x 23 columns]"
      ]
     },
     "execution_count": 22,
     "metadata": {},
     "output_type": "execute_result"
    }
   ],
   "source": [
    "df_test.head()"
   ]
  },
  {
   "cell_type": "code",
   "execution_count": null,
   "metadata": {},
   "outputs": [
    {
     "name": "stdout",
     "output_type": "stream",
     "text": [
      "23\n"
     ]
    },
    {
     "data": {
      "text/html": [
       "<div>\n",
       "<style scoped>\n",
       "    .dataframe tbody tr th:only-of-type {\n",
       "        vertical-align: middle;\n",
       "    }\n",
       "\n",
       "    .dataframe tbody tr th {\n",
       "        vertical-align: top;\n",
       "    }\n",
       "\n",
       "    .dataframe thead th {\n",
       "        text-align: right;\n",
       "    }\n",
       "</style>\n",
       "<table border=\"1\" class=\"dataframe\">\n",
       "  <thead>\n",
       "    <tr style=\"text-align: right;\">\n",
       "      <th></th>\n",
       "      <th>id</th>\n",
       "      <th>price</th>\n",
       "      <th>bedrooms</th>\n",
       "      <th>bathrooms</th>\n",
       "      <th>sqft_living</th>\n",
       "      <th>sqft_lot</th>\n",
       "      <th>floors</th>\n",
       "      <th>waterfront</th>\n",
       "      <th>view</th>\n",
       "      <th>condition</th>\n",
       "      <th>...</th>\n",
       "      <th>yr_built</th>\n",
       "      <th>yr_renovated</th>\n",
       "      <th>zipcode</th>\n",
       "      <th>lat</th>\n",
       "      <th>long</th>\n",
       "      <th>sqft_living15</th>\n",
       "      <th>sqft_lot15</th>\n",
       "      <th>year</th>\n",
       "      <th>month</th>\n",
       "      <th>day</th>\n",
       "    </tr>\n",
       "  </thead>\n",
       "  <tbody>\n",
       "    <tr>\n",
       "      <th>0</th>\n",
       "      <td>0</td>\n",
       "      <td>12.309987</td>\n",
       "      <td>3</td>\n",
       "      <td>0.693147</td>\n",
       "      <td>7.074117</td>\n",
       "      <td>8.639588</td>\n",
       "      <td>1.0</td>\n",
       "      <td>0</td>\n",
       "      <td>0</td>\n",
       "      <td>3</td>\n",
       "      <td>...</td>\n",
       "      <td>7.578657</td>\n",
       "      <td>0</td>\n",
       "      <td>98178</td>\n",
       "      <td>3.881795</td>\n",
       "      <td>4.814272</td>\n",
       "      <td>7.201171</td>\n",
       "      <td>8.639588</td>\n",
       "      <td>2014</td>\n",
       "      <td>10</td>\n",
       "      <td>13</td>\n",
       "    </tr>\n",
       "    <tr>\n",
       "      <th>1</th>\n",
       "      <td>1</td>\n",
       "      <td>12.100718</td>\n",
       "      <td>2</td>\n",
       "      <td>0.693147</td>\n",
       "      <td>6.647688</td>\n",
       "      <td>9.210440</td>\n",
       "      <td>1.0</td>\n",
       "      <td>0</td>\n",
       "      <td>0</td>\n",
       "      <td>3</td>\n",
       "      <td>...</td>\n",
       "      <td>7.567346</td>\n",
       "      <td>0</td>\n",
       "      <td>98028</td>\n",
       "      <td>3.886457</td>\n",
       "      <td>4.814077</td>\n",
       "      <td>7.908755</td>\n",
       "      <td>8.995041</td>\n",
       "      <td>2015</td>\n",
       "      <td>2</td>\n",
       "      <td>25</td>\n",
       "    </tr>\n",
       "    <tr>\n",
       "      <th>2</th>\n",
       "      <td>2</td>\n",
       "      <td>13.142168</td>\n",
       "      <td>3</td>\n",
       "      <td>1.098612</td>\n",
       "      <td>7.427144</td>\n",
       "      <td>8.997271</td>\n",
       "      <td>1.0</td>\n",
       "      <td>0</td>\n",
       "      <td>0</td>\n",
       "      <td>3</td>\n",
       "      <td>...</td>\n",
       "      <td>7.594884</td>\n",
       "      <td>0</td>\n",
       "      <td>98074</td>\n",
       "      <td>3.883969</td>\n",
       "      <td>4.812550</td>\n",
       "      <td>7.496097</td>\n",
       "      <td>8.923191</td>\n",
       "      <td>2015</td>\n",
       "      <td>2</td>\n",
       "      <td>18</td>\n",
       "    </tr>\n",
       "    <tr>\n",
       "      <th>3</th>\n",
       "      <td>3</td>\n",
       "      <td>12.458779</td>\n",
       "      <td>3</td>\n",
       "      <td>1.178655</td>\n",
       "      <td>7.447751</td>\n",
       "      <td>8.827615</td>\n",
       "      <td>2.0</td>\n",
       "      <td>0</td>\n",
       "      <td>0</td>\n",
       "      <td>3</td>\n",
       "      <td>...</td>\n",
       "      <td>7.598900</td>\n",
       "      <td>0</td>\n",
       "      <td>98003</td>\n",
       "      <td>3.877632</td>\n",
       "      <td>4.814839</td>\n",
       "      <td>7.713785</td>\n",
       "      <td>8.827615</td>\n",
       "      <td>2014</td>\n",
       "      <td>6</td>\n",
       "      <td>27</td>\n",
       "    </tr>\n",
       "    <tr>\n",
       "      <th>4</th>\n",
       "      <td>4</td>\n",
       "      <td>12.583999</td>\n",
       "      <td>3</td>\n",
       "      <td>0.916291</td>\n",
       "      <td>6.966967</td>\n",
       "      <td>9.181118</td>\n",
       "      <td>1.0</td>\n",
       "      <td>0</td>\n",
       "      <td>0</td>\n",
       "      <td>3</td>\n",
       "      <td>...</td>\n",
       "      <td>7.582738</td>\n",
       "      <td>0</td>\n",
       "      <td>98198</td>\n",
       "      <td>3.879696</td>\n",
       "      <td>4.814742</td>\n",
       "      <td>7.409136</td>\n",
       "      <td>9.181118</td>\n",
       "      <td>2015</td>\n",
       "      <td>1</td>\n",
       "      <td>15</td>\n",
       "    </tr>\n",
       "  </tbody>\n",
       "</table>\n",
       "<p>5 rows × 23 columns</p>\n",
       "</div>"
      ],
      "text/plain": [
       "   id      price  bedrooms  bathrooms  sqft_living  sqft_lot  floors  \\\n",
       "0   0  12.309987         3   0.693147     7.074117  8.639588     1.0   \n",
       "1   1  12.100718         2   0.693147     6.647688  9.210440     1.0   \n",
       "2   2  13.142168         3   1.098612     7.427144  8.997271     1.0   \n",
       "3   3  12.458779         3   1.178655     7.447751  8.827615     2.0   \n",
       "4   4  12.583999         3   0.916291     6.966967  9.181118     1.0   \n",
       "\n",
       "   waterfront  view  condition  ...  yr_built  yr_renovated  zipcode  \\\n",
       "0           0     0          3  ...  7.578657             0    98178   \n",
       "1           0     0          3  ...  7.567346             0    98028   \n",
       "2           0     0          3  ...  7.594884             0    98074   \n",
       "3           0     0          3  ...  7.598900             0    98003   \n",
       "4           0     0          3  ...  7.582738             0    98198   \n",
       "\n",
       "        lat      long  sqft_living15  sqft_lot15  year  month  day  \n",
       "0  3.881795  4.814272       7.201171    8.639588  2014     10   13  \n",
       "1  3.886457  4.814077       7.908755    8.995041  2015      2   25  \n",
       "2  3.883969  4.812550       7.496097    8.923191  2015      2   18  \n",
       "3  3.877632  4.814839       7.713785    8.827615  2014      6   27  \n",
       "4  3.879696  4.814742       7.409136    9.181118  2015      1   15  \n",
       "\n",
       "[5 rows x 23 columns]"
      ]
     },
     "execution_count": 23,
     "metadata": {},
     "output_type": "execute_result"
    }
   ],
   "source": [
    "df_train_dummy = pd.get_dummies(df_train.drop(['date'], axis=1))\n",
    "df_test_dummy = pd.get_dummies(df_test.drop(['date'], axis=1))\n",
    "print(len(df_train_dummy.columns))\n",
    "df_train_dummy.head()"
   ]
  },
  {
   "cell_type": "code",
   "execution_count": null,
   "metadata": {},
   "outputs": [
    {
     "data": {
      "text/html": [
       "<div>\n",
       "<style scoped>\n",
       "    .dataframe tbody tr th:only-of-type {\n",
       "        vertical-align: middle;\n",
       "    }\n",
       "\n",
       "    .dataframe tbody tr th {\n",
       "        vertical-align: top;\n",
       "    }\n",
       "\n",
       "    .dataframe thead th {\n",
       "        text-align: right;\n",
       "    }\n",
       "</style>\n",
       "<table border=\"1\" class=\"dataframe\">\n",
       "  <thead>\n",
       "    <tr style=\"text-align: right;\">\n",
       "      <th></th>\n",
       "      <th>id</th>\n",
       "      <th>bedrooms</th>\n",
       "      <th>bathrooms</th>\n",
       "      <th>sqft_living</th>\n",
       "      <th>sqft_lot</th>\n",
       "      <th>floors</th>\n",
       "      <th>waterfront</th>\n",
       "      <th>view</th>\n",
       "      <th>condition</th>\n",
       "      <th>grade</th>\n",
       "      <th>...</th>\n",
       "      <th>yr_built</th>\n",
       "      <th>yr_renovated</th>\n",
       "      <th>zipcode</th>\n",
       "      <th>lat</th>\n",
       "      <th>long</th>\n",
       "      <th>sqft_living15</th>\n",
       "      <th>sqft_lot15</th>\n",
       "      <th>year</th>\n",
       "      <th>month</th>\n",
       "      <th>day</th>\n",
       "    </tr>\n",
       "  </thead>\n",
       "  <tbody>\n",
       "    <tr>\n",
       "      <th>0</th>\n",
       "      <td>15035</td>\n",
       "      <td>3</td>\n",
       "      <td>1.178655</td>\n",
       "      <td>7.852050</td>\n",
       "      <td>8.887791</td>\n",
       "      <td>2.0</td>\n",
       "      <td>0</td>\n",
       "      <td>0</td>\n",
       "      <td>3</td>\n",
       "      <td>7</td>\n",
       "      <td>...</td>\n",
       "      <td>7.576610</td>\n",
       "      <td>1991</td>\n",
       "      <td>98125</td>\n",
       "      <td>3.886110</td>\n",
       "      <td>4.814774</td>\n",
       "      <td>7.433075</td>\n",
       "      <td>8.941153</td>\n",
       "      <td>2014</td>\n",
       "      <td>12</td>\n",
       "      <td>9</td>\n",
       "    </tr>\n",
       "    <tr>\n",
       "      <th>1</th>\n",
       "      <td>15036</td>\n",
       "      <td>4</td>\n",
       "      <td>1.386294</td>\n",
       "      <td>7.581210</td>\n",
       "      <td>8.517393</td>\n",
       "      <td>1.0</td>\n",
       "      <td>0</td>\n",
       "      <td>0</td>\n",
       "      <td>5</td>\n",
       "      <td>7</td>\n",
       "      <td>...</td>\n",
       "      <td>7.583756</td>\n",
       "      <td>0</td>\n",
       "      <td>98136</td>\n",
       "      <td>3.881993</td>\n",
       "      <td>4.815374</td>\n",
       "      <td>7.215975</td>\n",
       "      <td>8.517393</td>\n",
       "      <td>2014</td>\n",
       "      <td>12</td>\n",
       "      <td>9</td>\n",
       "    </tr>\n",
       "    <tr>\n",
       "      <th>2</th>\n",
       "      <td>15037</td>\n",
       "      <td>4</td>\n",
       "      <td>1.704748</td>\n",
       "      <td>8.598036</td>\n",
       "      <td>11.532051</td>\n",
       "      <td>1.0</td>\n",
       "      <td>0</td>\n",
       "      <td>0</td>\n",
       "      <td>3</td>\n",
       "      <td>11</td>\n",
       "      <td>...</td>\n",
       "      <td>7.601902</td>\n",
       "      <td>0</td>\n",
       "      <td>98053</td>\n",
       "      <td>3.884777</td>\n",
       "      <td>4.812225</td>\n",
       "      <td>8.468213</td>\n",
       "      <td>11.532051</td>\n",
       "      <td>2014</td>\n",
       "      <td>5</td>\n",
       "      <td>12</td>\n",
       "    </tr>\n",
       "    <tr>\n",
       "      <th>3</th>\n",
       "      <td>15038</td>\n",
       "      <td>3</td>\n",
       "      <td>0.693147</td>\n",
       "      <td>7.484930</td>\n",
       "      <td>8.918784</td>\n",
       "      <td>1.0</td>\n",
       "      <td>0</td>\n",
       "      <td>0</td>\n",
       "      <td>3</td>\n",
       "      <td>7</td>\n",
       "      <td>...</td>\n",
       "      <td>7.581210</td>\n",
       "      <td>0</td>\n",
       "      <td>98146</td>\n",
       "      <td>3.881817</td>\n",
       "      <td>4.814920</td>\n",
       "      <td>7.484930</td>\n",
       "      <td>9.001346</td>\n",
       "      <td>2015</td>\n",
       "      <td>4</td>\n",
       "      <td>15</td>\n",
       "    </tr>\n",
       "    <tr>\n",
       "      <th>4</th>\n",
       "      <td>15039</td>\n",
       "      <td>3</td>\n",
       "      <td>1.252763</td>\n",
       "      <td>7.544861</td>\n",
       "      <td>8.788898</td>\n",
       "      <td>2.0</td>\n",
       "      <td>0</td>\n",
       "      <td>0</td>\n",
       "      <td>3</td>\n",
       "      <td>7</td>\n",
       "      <td>...</td>\n",
       "      <td>7.602900</td>\n",
       "      <td>0</td>\n",
       "      <td>98038</td>\n",
       "      <td>3.878847</td>\n",
       "      <td>4.812436</td>\n",
       "      <td>7.779467</td>\n",
       "      <td>8.932080</td>\n",
       "      <td>2015</td>\n",
       "      <td>3</td>\n",
       "      <td>12</td>\n",
       "    </tr>\n",
       "  </tbody>\n",
       "</table>\n",
       "<p>5 rows × 22 columns</p>\n",
       "</div>"
      ],
      "text/plain": [
       "      id  bedrooms  bathrooms  sqft_living   sqft_lot  floors  waterfront  \\\n",
       "0  15035         3   1.178655     7.852050   8.887791     2.0           0   \n",
       "1  15036         4   1.386294     7.581210   8.517393     1.0           0   \n",
       "2  15037         4   1.704748     8.598036  11.532051     1.0           0   \n",
       "3  15038         3   0.693147     7.484930   8.918784     1.0           0   \n",
       "4  15039         3   1.252763     7.544861   8.788898     2.0           0   \n",
       "\n",
       "   view  condition  grade  ...  yr_built  yr_renovated  zipcode       lat  \\\n",
       "0     0          3      7  ...  7.576610          1991    98125  3.886110   \n",
       "1     0          5      7  ...  7.583756             0    98136  3.881993   \n",
       "2     0          3     11  ...  7.601902             0    98053  3.884777   \n",
       "3     0          3      7  ...  7.581210             0    98146  3.881817   \n",
       "4     0          3      7  ...  7.602900             0    98038  3.878847   \n",
       "\n",
       "       long  sqft_living15  sqft_lot15  year  month  day  \n",
       "0  4.814774       7.433075    8.941153  2014     12    9  \n",
       "1  4.815374       7.215975    8.517393  2014     12    9  \n",
       "2  4.812225       8.468213   11.532051  2014      5   12  \n",
       "3  4.814920       7.484930    9.001346  2015      4   15  \n",
       "4  4.812436       7.779467    8.932080  2015      3   12  \n",
       "\n",
       "[5 rows x 22 columns]"
      ]
     },
     "execution_count": 24,
     "metadata": {},
     "output_type": "execute_result"
    }
   ],
   "source": [
    "df_test_dummy.head()"
   ]
  },
  {
   "cell_type": "code",
   "execution_count": null,
   "metadata": {},
   "outputs": [],
   "source": [
    "x_train = df_train_dummy.drop(['price', 'id'], axis=1)\n",
    "x_test = df_test_dummy.drop(['id'], axis=1)\n",
    "y_train = df_train_dummy['price']\n",
    "y_train = y_train.values.reshape(-1,1)"
   ]
  },
  {
   "cell_type": "code",
   "execution_count": null,
   "metadata": {},
   "outputs": [],
   "source": [
    "x_scaler = StandardScaler().fit(x_train)\n",
    "y_scaler = StandardScaler().fit(y_train)\n",
    "\n",
    "x_train = x_scaler.transform(x_train)\n",
    "x_test = x_scaler.transform(x_test)\n",
    "y_train = y_scaler.transform(y_train)"
   ]
  },
  {
   "cell_type": "code",
   "execution_count": null,
   "metadata": {},
   "outputs": [
    {
     "name": "stdout",
     "output_type": "stream",
     "text": [
      "[-0.40893146 -1.64318736 -1.12358591 -0.38995761 -0.92491678 -0.0846625\n",
      " -0.3068752  -0.62902049 -0.56004847 -0.75458854 -0.79638126 -0.54026181\n",
      " -0.2092958   1.87571666 -0.35693906  0.30698402 -1.03852689 -0.39637045\n",
      " -0.68544923  1.10082132 -0.3115816 ]\n"
     ]
    }
   ],
   "source": [
    "print(x_train[0])"
   ]
  },
  {
   "cell_type": "code",
   "execution_count": null,
   "metadata": {},
   "outputs": [],
   "source": [
    "import tensorflow as tf\n",
    "from tensorflow.keras import models\n",
    "from tensorflow.keras import layers\n",
    "from tensorflow.keras import optimizers\n",
    "from tensorflow.keras.callbacks import EarlyStopping, ModelCheckpoint, ReduceLROnPlateau, TensorBoard\n",
    "from tensorflow.keras import backend as K"
   ]
  },
  {
   "cell_type": "code",
   "execution_count": null,
   "metadata": {},
   "outputs": [],
   "source": [
    "def make_model1():\n",
    "    model = models.Sequential()\n",
    "    model.add(layers.Dense(8, activation='elu',\tinput_dim=x_train.shape[1]))\n",
    "    model.add(layers.Dense(8, activation='elu'))\n",
    "    model.add(layers.Dense(1))\n",
    "\n",
    "    optimizer = optimizers.Adam(lr=0.001)\n",
    "    model.compile(optimizer= optimizer, loss = 'mse', metrics=['mae'])\n",
    "    return model"
   ]
  },
  {
   "cell_type": "code",
   "execution_count": null,
   "metadata": {},
   "outputs": [],
   "source": [
    "def make_model2():\n",
    "    model = models.Sequential()\n",
    "    model.add(layers.Dense(8, activation='elu',\tinput_dim=x_train.shape[1]))\n",
    "    model.add(layers.Dense(8, activation='elu'))\n",
    "    model.add(layers.Dense(1))\n",
    "\n",
    "    optimizer = optimizers.RMSprop(lr=0.001)\n",
    "    model.compile(optimizer= optimizer, loss = 'mse', metrics=['mae'])\n",
    "    return model"
   ]
  },
  {
   "cell_type": "code",
   "execution_count": null,
   "metadata": {},
   "outputs": [],
   "source": [
    "epoch = 200\n",
    "patient = 20\n",
    "k = 4\n",
    "num_val_samples = len(x_train) // k"
   ]
  },
  {
   "cell_type": "code",
   "execution_count": null,
   "metadata": {},
   "outputs": [],
   "source": [
    "import os\n",
    "model_path = './model/'\n",
    "if not os.path.exists(model_path):\n",
    "    os.mkdir(model_path)\n",
    "\n",
    "model_path1 = model_path + 'best_model1.hdf5'\n",
    "model_path2 = model_path + 'best_model2.hdf5'"
   ]
  },
  {
   "cell_type": "code",
   "execution_count": null,
   "metadata": {},
   "outputs": [],
   "source": [
    "callbacks1 = [\n",
    "    # EarlyStopping(monitor='mse', patience=patient, mode='min', verbose=1),\n",
    "    ModelCheckpoint(filepath=model_path1, monitor='mse', verbose=1, save_best_only=True, mode='min'),\n",
    "    ReduceLROnPlateau(monitor = 'val_loss', factor = 0.5, patience = patient / 3, min_lr=0.000001, verbose=1, mode='min')\n",
    "    ]"
   ]
  },
  {
   "cell_type": "code",
   "execution_count": null,
   "metadata": {},
   "outputs": [],
   "source": [
    "callbacks2 = [\n",
    "    # EarlyStopping(monitor='mse', patience=patient, mode='min', verbose=1),\n",
    "    ModelCheckpoint(filepath=model_path2, monitor='min', verbose=1, save_best_only=True, mode='max'),\n",
    "    ReduceLROnPlateau(monitor = 'val_loss', factor = 0.5, patience = patient / 3, min_lr=0.000001, verbose=1, mode='min')\n",
    "    ]"
   ]
  },
  {
   "cell_type": "code",
   "execution_count": null,
   "metadata": {},
   "outputs": [
    {
     "name": "stdout",
     "output_type": "stream",
     "text": [
      "Fold num # 1\n",
      "Train on 11277 samples, validate on 3758 samples\n",
      "Epoch 1/200\n",
      "10880/11277 [===========================>..] - ETA: 0s - loss: 0.3451 - mae: 0.4429"
     ]
    },
    {
     "name": "stderr",
     "output_type": "stream",
     "text": [
      "WARNING: Logging before flag parsing goes to stderr.\n",
      "W0323 22:42:10.604885 4472681920 callbacks.py:872] Can save best model only with mse available, skipping.\n"
     ]
    },
    {
     "name": "stdout",
     "output_type": "stream",
     "text": [
      "11277/11277 [==============================] - 1s 120us/sample - loss: 0.3410 - mae: 0.4403 - val_loss: 0.2439 - val_mae: 0.3794\n",
      "Epoch 2/200\n",
      "11200/11277 [============================>.] - ETA: 0s - loss: 0.2242 - mae: 0.3616"
     ]
    },
    {
     "name": "stderr",
     "output_type": "stream",
     "text": [
      "W0323 22:42:11.547703 4472681920 callbacks.py:872] Can save best model only with mse available, skipping.\n"
     ]
    },
    {
     "name": "stdout",
     "output_type": "stream",
     "text": [
      "11277/11277 [==============================] - 1s 83us/sample - loss: 0.2241 - mae: 0.3615 - val_loss: 0.2153 - val_mae: 0.3567\n",
      "Epoch 3/200\n",
      "10720/11277 [===========================>..] - ETA: 0s - loss: 0.2034 - mae: 0.3441"
     ]
    },
    {
     "name": "stderr",
     "output_type": "stream",
     "text": [
      "W0323 22:42:12.468076 4472681920 callbacks.py:872] Can save best model only with mse available, skipping.\n"
     ]
    },
    {
     "name": "stdout",
     "output_type": "stream",
     "text": [
      "11277/11277 [==============================] - 1s 81us/sample - loss: 0.2057 - mae: 0.3456 - val_loss: 0.2004 - val_mae: 0.3442\n",
      "Epoch 4/200\n",
      "10656/11277 [===========================>..] - ETA: 0s - loss: 0.1929 - mae: 0.3331- ETA: 0s - loss: 0.1937 - mae: 0.33"
     ]
    },
    {
     "name": "stderr",
     "output_type": "stream",
     "text": [
      "W0323 22:42:13.386862 4472681920 callbacks.py:872] Can save best model only with mse available, skipping.\n"
     ]
    },
    {
     "name": "stdout",
     "output_type": "stream",
     "text": [
      "11277/11277 [==============================] - 1s 81us/sample - loss: 0.1919 - mae: 0.3324 - val_loss: 0.1853 - val_mae: 0.3303\n",
      "Epoch 5/200\n",
      "10816/11277 [===========================>..] - ETA: 0s - loss: 0.1769 - mae: 0.3186"
     ]
    },
    {
     "name": "stderr",
     "output_type": "stream",
     "text": [
      "W0323 22:42:14.295395 4472681920 callbacks.py:872] Can save best model only with mse available, skipping.\n"
     ]
    },
    {
     "name": "stdout",
     "output_type": "stream",
     "text": [
      "11277/11277 [==============================] - 1s 80us/sample - loss: 0.1772 - mae: 0.3187 - val_loss: 0.1687 - val_mae: 0.3116\n",
      "Epoch 6/200\n",
      "11024/11277 [============================>.] - ETA: 0s - loss: 0.1633 - mae: 0.3046"
     ]
    },
    {
     "name": "stderr",
     "output_type": "stream",
     "text": [
      "W0323 22:42:15.192179 4472681920 callbacks.py:872] Can save best model only with mse available, skipping.\n"
     ]
    },
    {
     "name": "stdout",
     "output_type": "stream",
     "text": [
      "11277/11277 [==============================] - 1s 79us/sample - loss: 0.1642 - mae: 0.3052 - val_loss: 0.1573 - val_mae: 0.2985\n",
      "Epoch 7/200\n",
      "10752/11277 [===========================>..] - ETA: 0s - loss: 0.1535 - mae: 0.2934"
     ]
    },
    {
     "name": "stderr",
     "output_type": "stream",
     "text": [
      "W0323 22:42:16.124344 4472681920 callbacks.py:872] Can save best model only with mse available, skipping.\n"
     ]
    },
    {
     "name": "stdout",
     "output_type": "stream",
     "text": [
      "11277/11277 [==============================] - 1s 82us/sample - loss: 0.1529 - mae: 0.2925 - val_loss: 0.1469 - val_mae: 0.2877\n",
      "Epoch 8/200\n",
      "11024/11277 [============================>.] - ETA: 0s - loss: 0.1462 - mae: 0.2849"
     ]
    },
    {
     "name": "stderr",
     "output_type": "stream",
     "text": [
      "W0323 22:42:17.024932 4472681920 callbacks.py:872] Can save best model only with mse available, skipping.\n"
     ]
    },
    {
     "name": "stdout",
     "output_type": "stream",
     "text": [
      "11277/11277 [==============================] - 1s 80us/sample - loss: 0.1452 - mae: 0.2840 - val_loss: 0.1399 - val_mae: 0.2803\n",
      "Epoch 9/200\n",
      "10960/11277 [============================>.] - ETA: 0s - loss: 0.1399 - mae: 0.2773- ETA: 0s - loss: 0.1424 - mae: 0.2"
     ]
    },
    {
     "name": "stderr",
     "output_type": "stream",
     "text": [
      "W0323 22:42:17.927119 4472681920 callbacks.py:872] Can save best model only with mse available, skipping.\n"
     ]
    },
    {
     "name": "stdout",
     "output_type": "stream",
     "text": [
      "11277/11277 [==============================] - 1s 80us/sample - loss: 0.1390 - mae: 0.2766 - val_loss: 0.1371 - val_mae: 0.2768\n",
      "Epoch 10/200\n",
      "10576/11277 [===========================>..] - ETA: 0s - loss: 0.1350 - mae: 0.2720- ETA: 0s - loss: 0.1348 - mae"
     ]
    },
    {
     "name": "stderr",
     "output_type": "stream",
     "text": [
      "W0323 22:42:18.853934 4472681920 callbacks.py:872] Can save best model only with mse available, skipping.\n"
     ]
    },
    {
     "name": "stdout",
     "output_type": "stream",
     "text": [
      "11277/11277 [==============================] - 1s 82us/sample - loss: 0.1347 - mae: 0.2718 - val_loss: 0.1321 - val_mae: 0.2714\n",
      "Epoch 11/200\n",
      "10736/11277 [===========================>..] - ETA: 0s - loss: 0.1315 - mae: 0.2682- ETA: 0s - loss: 0.1336 - ma"
     ]
    },
    {
     "name": "stderr",
     "output_type": "stream",
     "text": [
      "W0323 22:42:19.769471 4472681920 callbacks.py:872] Can save best model only with mse available, skipping.\n"
     ]
    },
    {
     "name": "stdout",
     "output_type": "stream",
     "text": [
      "11277/11277 [==============================] - 1s 81us/sample - loss: 0.1315 - mae: 0.2684 - val_loss: 0.1317 - val_mae: 0.2685\n",
      "Epoch 12/200\n",
      "10848/11277 [===========================>..] - ETA: 0s - loss: 0.1282 - mae: 0.2658- ETA: 0s - loss: 0.1287 - mae: 0.26 - ETA: 0s - loss: 0.1290 - mae: 0.2657"
     ]
    },
    {
     "name": "stderr",
     "output_type": "stream",
     "text": [
      "W0323 22:42:20.676842 4472681920 callbacks.py:872] Can save best model only with mse available, skipping.\n"
     ]
    },
    {
     "name": "stdout",
     "output_type": "stream",
     "text": [
      "11277/11277 [==============================] - 1s 80us/sample - loss: 0.1294 - mae: 0.2661 - val_loss: 0.1286 - val_mae: 0.2667\n",
      "Epoch 13/200\n",
      "10880/11277 [===========================>..] - ETA: 0s - loss: 0.1274 - mae: 0.2645"
     ]
    },
    {
     "name": "stderr",
     "output_type": "stream",
     "text": [
      "W0323 22:42:21.585845 4472681920 callbacks.py:872] Can save best model only with mse available, skipping.\n"
     ]
    },
    {
     "name": "stdout",
     "output_type": "stream",
     "text": [
      "11277/11277 [==============================] - 1s 80us/sample - loss: 0.1275 - mae: 0.2644 - val_loss: 0.1284 - val_mae: 0.2660\n",
      "Epoch 14/200\n",
      "10960/11277 [============================>.] - ETA: 0s - loss: 0.1269 - mae: 0.2638- ETA: 0s - loss: 0.1275 - mae: 0."
     ]
    },
    {
     "name": "stderr",
     "output_type": "stream",
     "text": [
      "W0323 22:42:22.484515 4472681920 callbacks.py:872] Can save best model only with mse available, skipping.\n"
     ]
    },
    {
     "name": "stdout",
     "output_type": "stream",
     "text": [
      "11277/11277 [==============================] - 1s 80us/sample - loss: 0.1264 - mae: 0.2636 - val_loss: 0.1266 - val_mae: 0.2647\n",
      "Epoch 15/200\n",
      "10848/11277 [===========================>..] - ETA: 0s - loss: 0.1238 - mae: 0.2611"
     ]
    },
    {
     "name": "stderr",
     "output_type": "stream",
     "text": [
      "W0323 22:42:23.396844 4472681920 callbacks.py:872] Can save best model only with mse available, skipping.\n"
     ]
    },
    {
     "name": "stdout",
     "output_type": "stream",
     "text": [
      "11277/11277 [==============================] - 1s 81us/sample - loss: 0.1253 - mae: 0.2625 - val_loss: 0.1279 - val_mae: 0.2649\n",
      "Epoch 16/200\n",
      "10784/11277 [===========================>..] - ETA: 0s - loss: 0.1258 - mae: 0.2629"
     ]
    },
    {
     "name": "stderr",
     "output_type": "stream",
     "text": [
      "W0323 22:42:24.479598 4472681920 callbacks.py:872] Can save best model only with mse available, skipping.\n"
     ]
    },
    {
     "name": "stdout",
     "output_type": "stream",
     "text": [
      "11277/11277 [==============================] - 1s 95us/sample - loss: 0.1250 - mae: 0.2623 - val_loss: 0.1252 - val_mae: 0.2625\n",
      "Epoch 17/200\n",
      "10544/11277 [===========================>..] - ETA: 0s - loss: 0.1243 - mae: 0.2618"
     ]
    },
    {
     "name": "stderr",
     "output_type": "stream",
     "text": [
      "W0323 22:42:25.522608 4472681920 callbacks.py:872] Can save best model only with mse available, skipping.\n"
     ]
    },
    {
     "name": "stdout",
     "output_type": "stream",
     "text": [
      "11277/11277 [==============================] - 1s 92us/sample - loss: 0.1242 - mae: 0.2613 - val_loss: 0.1242 - val_mae: 0.2613\n",
      "Epoch 18/200\n",
      "10560/11277 [===========================>..] - ETA: 0s - loss: 0.1218 - mae: 0.2587"
     ]
    },
    {
     "name": "stderr",
     "output_type": "stream",
     "text": [
      "W0323 22:42:26.460765 4472681920 callbacks.py:872] Can save best model only with mse available, skipping.\n"
     ]
    },
    {
     "name": "stdout",
     "output_type": "stream",
     "text": [
      "11277/11277 [==============================] - 1s 83us/sample - loss: 0.1227 - mae: 0.2592 - val_loss: 0.1261 - val_mae: 0.2656\n",
      "Epoch 19/200\n",
      "10592/11277 [===========================>..] - ETA: 0s - loss: 0.1229 - mae: 0.2592"
     ]
    },
    {
     "name": "stderr",
     "output_type": "stream",
     "text": [
      "W0323 22:42:27.388273 4472681920 callbacks.py:872] Can save best model only with mse available, skipping.\n"
     ]
    },
    {
     "name": "stdout",
     "output_type": "stream",
     "text": [
      "11277/11277 [==============================] - 1s 82us/sample - loss: 0.1226 - mae: 0.2591 - val_loss: 0.1236 - val_mae: 0.2610\n",
      "Epoch 20/200\n",
      "11248/11277 [============================>.] - ETA: 0s - loss: 0.1217 - mae: 0.2577"
     ]
    },
    {
     "name": "stderr",
     "output_type": "stream",
     "text": [
      "W0323 22:42:28.428318 4472681920 callbacks.py:872] Can save best model only with mse available, skipping.\n"
     ]
    },
    {
     "name": "stdout",
     "output_type": "stream",
     "text": [
      "11277/11277 [==============================] - 1s 92us/sample - loss: 0.1217 - mae: 0.2578 - val_loss: 0.1239 - val_mae: 0.2613\n",
      "Epoch 21/200\n",
      "10880/11277 [===========================>..] - ETA: 0s - loss: 0.1207 - mae: 0.2568"
     ]
    },
    {
     "name": "stderr",
     "output_type": "stream",
     "text": [
      "W0323 22:42:29.440605 4472681920 callbacks.py:872] Can save best model only with mse available, skipping.\n"
     ]
    },
    {
     "name": "stdout",
     "output_type": "stream",
     "text": [
      "11277/11277 [==============================] - 1s 89us/sample - loss: 0.1211 - mae: 0.2572 - val_loss: 0.1219 - val_mae: 0.2590\n",
      "Epoch 22/200\n",
      "10880/11277 [===========================>..] - ETA: 0s - loss: 0.1201 - mae: 0.2566- ETA: 0s - loss: 0.1197 - mae: 0.25 - ETA: 0s - loss: 0.1202 - mae: 0"
     ]
    },
    {
     "name": "stderr",
     "output_type": "stream",
     "text": [
      "W0323 22:42:30.351950 4472681920 callbacks.py:872] Can save best model only with mse available, skipping.\n"
     ]
    },
    {
     "name": "stdout",
     "output_type": "stream",
     "text": [
      "11277/11277 [==============================] - 1s 81us/sample - loss: 0.1207 - mae: 0.2568 - val_loss: 0.1227 - val_mae: 0.2600\n",
      "Epoch 23/200\n",
      "10672/11277 [===========================>..] - ETA: 0s - loss: 0.1205 - mae: 0.2563- ETA: 0s - loss: 0.1199 - mae: "
     ]
    },
    {
     "name": "stderr",
     "output_type": "stream",
     "text": [
      "W0323 22:42:31.291338 4472681920 callbacks.py:872] Can save best model only with mse available, skipping.\n"
     ]
    },
    {
     "name": "stdout",
     "output_type": "stream",
     "text": [
      "11277/11277 [==============================] - 1s 83us/sample - loss: 0.1202 - mae: 0.2558 - val_loss: 0.1232 - val_mae: 0.2613\n",
      "Epoch 24/200\n",
      "11056/11277 [============================>.] - ETA: 0s - loss: 0.1191 - mae: 0.2559"
     ]
    },
    {
     "name": "stderr",
     "output_type": "stream",
     "text": [
      "W0323 22:42:32.402240 4472681920 callbacks.py:872] Can save best model only with mse available, skipping.\n"
     ]
    },
    {
     "name": "stdout",
     "output_type": "stream",
     "text": [
      "11277/11277 [==============================] - 1s 98us/sample - loss: 0.1194 - mae: 0.2559 - val_loss: 0.1260 - val_mae: 0.2642\n",
      "Epoch 25/200\n",
      "10848/11277 [===========================>..] - ETA: 0s - loss: 0.1196 - mae: 0.2556"
     ]
    },
    {
     "name": "stderr",
     "output_type": "stream",
     "text": [
      "W0323 22:42:33.416580 4472681920 callbacks.py:872] Can save best model only with mse available, skipping.\n"
     ]
    },
    {
     "name": "stdout",
     "output_type": "stream",
     "text": [
      "11277/11277 [==============================] - 1s 90us/sample - loss: 0.1192 - mae: 0.2552 - val_loss: 0.1214 - val_mae: 0.2574\n",
      "Epoch 26/200\n",
      "10672/11277 [===========================>..] - ETA: 0s - loss: 0.1190 - mae: 0.2546"
     ]
    },
    {
     "name": "stderr",
     "output_type": "stream",
     "text": [
      "W0323 22:42:34.340202 4472681920 callbacks.py:872] Can save best model only with mse available, skipping.\n"
     ]
    },
    {
     "name": "stdout",
     "output_type": "stream",
     "text": [
      "11277/11277 [==============================] - 1s 82us/sample - loss: 0.1184 - mae: 0.2542 - val_loss: 0.1205 - val_mae: 0.2569\n",
      "Epoch 27/200\n",
      "10880/11277 [===========================>..] - ETA: 0s - loss: 0.1174 - mae: 0.2532"
     ]
    },
    {
     "name": "stderr",
     "output_type": "stream",
     "text": [
      "W0323 22:42:35.262773 4472681920 callbacks.py:872] Can save best model only with mse available, skipping.\n"
     ]
    },
    {
     "name": "stdout",
     "output_type": "stream",
     "text": [
      "11277/11277 [==============================] - 1s 82us/sample - loss: 0.1183 - mae: 0.2537 - val_loss: 0.1214 - val_mae: 0.2576\n",
      "Epoch 28/200\n",
      "10976/11277 [============================>.] - ETA: 0s - loss: 0.1184 - mae: 0.2532"
     ]
    },
    {
     "name": "stderr",
     "output_type": "stream",
     "text": [
      "W0323 22:42:36.179272 4472681920 callbacks.py:872] Can save best model only with mse available, skipping.\n"
     ]
    },
    {
     "name": "stdout",
     "output_type": "stream",
     "text": [
      "11277/11277 [==============================] - 1s 81us/sample - loss: 0.1183 - mae: 0.2534 - val_loss: 0.1199 - val_mae: 0.2566\n",
      "Epoch 29/200\n",
      "10832/11277 [===========================>..] - ETA: 0s - loss: 0.1169 - mae: 0.2518"
     ]
    },
    {
     "name": "stderr",
     "output_type": "stream",
     "text": [
      "W0323 22:42:37.212808 4472681920 callbacks.py:872] Can save best model only with mse available, skipping.\n"
     ]
    },
    {
     "name": "stdout",
     "output_type": "stream",
     "text": [
      "11277/11277 [==============================] - 1s 91us/sample - loss: 0.1175 - mae: 0.2526 - val_loss: 0.1253 - val_mae: 0.2639\n",
      "Epoch 30/200\n",
      "10688/11277 [===========================>..] - ETA: 0s - loss: 0.1172 - mae: 0.2526"
     ]
    },
    {
     "name": "stderr",
     "output_type": "stream",
     "text": [
      "W0323 22:42:38.137169 4472681920 callbacks.py:872] Can save best model only with mse available, skipping.\n"
     ]
    },
    {
     "name": "stdout",
     "output_type": "stream",
     "text": [
      "11277/11277 [==============================] - 1s 82us/sample - loss: 0.1171 - mae: 0.2526 - val_loss: 0.1212 - val_mae: 0.2589\n",
      "Epoch 31/200\n",
      "10848/11277 [===========================>..] - ETA: 0s - loss: 0.1174 - mae: 0.2525"
     ]
    },
    {
     "name": "stderr",
     "output_type": "stream",
     "text": [
      "W0323 22:42:39.047858 4472681920 callbacks.py:872] Can save best model only with mse available, skipping.\n"
     ]
    },
    {
     "name": "stdout",
     "output_type": "stream",
     "text": [
      "11277/11277 [==============================] - 1s 81us/sample - loss: 0.1172 - mae: 0.2525 - val_loss: 0.1201 - val_mae: 0.2567\n",
      "Epoch 32/200\n",
      "11072/11277 [============================>.] - ETA: 0s - loss: 0.1165 - mae: 0.2514"
     ]
    },
    {
     "name": "stderr",
     "output_type": "stream",
     "text": [
      "W0323 22:42:39.940980 4472681920 callbacks.py:872] Can save best model only with mse available, skipping.\n"
     ]
    },
    {
     "name": "stdout",
     "output_type": "stream",
     "text": [
      "11277/11277 [==============================] - 1s 79us/sample - loss: 0.1165 - mae: 0.2515 - val_loss: 0.1209 - val_mae: 0.2580\n",
      "Epoch 33/200\n",
      "11136/11277 [============================>.] - ETA: 0s - loss: 0.1159 - mae: 0.2510"
     ]
    },
    {
     "name": "stderr",
     "output_type": "stream",
     "text": [
      "W0323 22:42:40.829730 4472681920 callbacks.py:872] Can save best model only with mse available, skipping.\n"
     ]
    },
    {
     "name": "stdout",
     "output_type": "stream",
     "text": [
      "11277/11277 [==============================] - 1s 79us/sample - loss: 0.1160 - mae: 0.2511 - val_loss: 0.1196 - val_mae: 0.2563\n",
      "Epoch 34/200\n",
      "10944/11277 [============================>.] - ETA: 0s - loss: 0.1155 - mae: 0.2506- ETA: 0s - loss: 0.1159 - mae: 0.250"
     ]
    },
    {
     "name": "stderr",
     "output_type": "stream",
     "text": [
      "W0323 22:42:41.732810 4472681920 callbacks.py:872] Can save best model only with mse available, skipping.\n"
     ]
    },
    {
     "name": "stdout",
     "output_type": "stream",
     "text": [
      "11277/11277 [==============================] - 1s 80us/sample - loss: 0.1155 - mae: 0.2506 - val_loss: 0.1241 - val_mae: 0.2609\n",
      "Epoch 35/200\n",
      "11072/11277 [============================>.] - ETA: 0s - loss: 0.1163 - mae: 0.251 - ETA: 0s - loss: 0.1157 - mae: 0.2504"
     ]
    },
    {
     "name": "stderr",
     "output_type": "stream",
     "text": [
      "W0323 22:42:42.635635 4472681920 callbacks.py:872] Can save best model only with mse available, skipping.\n"
     ]
    },
    {
     "name": "stdout",
     "output_type": "stream",
     "text": [
      "11277/11277 [==============================] - 1s 80us/sample - loss: 0.1152 - mae: 0.2500 - val_loss: 0.1210 - val_mae: 0.2583\n",
      "Epoch 36/200\n",
      "10928/11277 [============================>.] - ETA: 0s - loss: 0.1154 - mae: 0.2502- ETA: 0s - loss: 0.1154 - mae: 0.25"
     ]
    },
    {
     "name": "stderr",
     "output_type": "stream",
     "text": [
      "W0323 22:42:43.538522 4472681920 callbacks.py:872] Can save best model only with mse available, skipping.\n"
     ]
    },
    {
     "name": "stdout",
     "output_type": "stream",
     "text": [
      "11277/11277 [==============================] - 1s 80us/sample - loss: 0.1150 - mae: 0.2497 - val_loss: 0.1206 - val_mae: 0.2577\n",
      "Epoch 37/200\n",
      "10800/11277 [===========================>..] - ETA: 0s - loss: 0.1148 - mae: 0.2497"
     ]
    },
    {
     "name": "stderr",
     "output_type": "stream",
     "text": [
      "W0323 22:42:44.500993 4472681920 callbacks.py:872] Can save best model only with mse available, skipping.\n"
     ]
    },
    {
     "name": "stdout",
     "output_type": "stream",
     "text": [
      "11277/11277 [==============================] - 1s 85us/sample - loss: 0.1151 - mae: 0.2498 - val_loss: 0.1187 - val_mae: 0.2548\n",
      "Epoch 38/200\n",
      "11072/11277 [============================>.] - ETA: 0s - loss: 0.1138 - mae: 0.2483"
     ]
    },
    {
     "name": "stderr",
     "output_type": "stream",
     "text": [
      "W0323 22:42:45.400696 4472681920 callbacks.py:872] Can save best model only with mse available, skipping.\n"
     ]
    },
    {
     "name": "stdout",
     "output_type": "stream",
     "text": [
      "11277/11277 [==============================] - 1s 80us/sample - loss: 0.1137 - mae: 0.2483 - val_loss: 0.1205 - val_mae: 0.2572\n",
      "Epoch 39/200\n",
      "10816/11277 [===========================>..] - ETA: 0s - loss: 0.1139 - mae: 0.2483"
     ]
    },
    {
     "name": "stderr",
     "output_type": "stream",
     "text": [
      "W0323 22:42:46.313337 4472681920 callbacks.py:872] Can save best model only with mse available, skipping.\n"
     ]
    },
    {
     "name": "stdout",
     "output_type": "stream",
     "text": [
      "11277/11277 [==============================] - 1s 81us/sample - loss: 0.1137 - mae: 0.2478 - val_loss: 0.1193 - val_mae: 0.2552\n",
      "Epoch 40/200\n",
      "10832/11277 [===========================>..] - ETA: 0s - loss: 0.1130 - mae: 0.2474"
     ]
    },
    {
     "name": "stderr",
     "output_type": "stream",
     "text": [
      "W0323 22:42:47.394399 4472681920 callbacks.py:872] Can save best model only with mse available, skipping.\n"
     ]
    },
    {
     "name": "stdout",
     "output_type": "stream",
     "text": [
      "11277/11277 [==============================] - 1s 95us/sample - loss: 0.1132 - mae: 0.2476 - val_loss: 0.1170 - val_mae: 0.2510\n",
      "Epoch 41/200\n",
      "10992/11277 [============================>.] - ETA: 0s - loss: 0.1133 - mae: 0.2475"
     ]
    },
    {
     "name": "stderr",
     "output_type": "stream",
     "text": [
      "W0323 22:42:48.466742 4472681920 callbacks.py:872] Can save best model only with mse available, skipping.\n"
     ]
    },
    {
     "name": "stdout",
     "output_type": "stream",
     "text": [
      "11277/11277 [==============================] - 1s 95us/sample - loss: 0.1132 - mae: 0.2474 - val_loss: 0.1195 - val_mae: 0.2564\n",
      "Epoch 42/200\n",
      "10832/11277 [===========================>..] - ETA: 0s - loss: 0.1123 - mae: 0.2469- ETA: 0s - loss: 0.1138 - mae: 0"
     ]
    },
    {
     "name": "stderr",
     "output_type": "stream",
     "text": [
      "W0323 22:42:49.433093 4472681920 callbacks.py:872] Can save best model only with mse available, skipping.\n"
     ]
    },
    {
     "name": "stdout",
     "output_type": "stream",
     "text": [
      "11277/11277 [==============================] - 1s 86us/sample - loss: 0.1123 - mae: 0.2467 - val_loss: 0.1170 - val_mae: 0.2528\n",
      "Epoch 43/200\n",
      "10800/11277 [===========================>..] - ETA: 0s - loss: 0.1119 - mae: 0.2458"
     ]
    },
    {
     "name": "stderr",
     "output_type": "stream",
     "text": [
      "W0323 22:42:50.348336 4472681920 callbacks.py:872] Can save best model only with mse available, skipping.\n"
     ]
    },
    {
     "name": "stdout",
     "output_type": "stream",
     "text": [
      "11277/11277 [==============================] - 1s 81us/sample - loss: 0.1119 - mae: 0.2461 - val_loss: 0.1161 - val_mae: 0.2516\n",
      "Epoch 44/200\n",
      "10752/11277 [===========================>..] - ETA: 0s - loss: 0.1123 - mae: 0.2467"
     ]
    },
    {
     "name": "stderr",
     "output_type": "stream",
     "text": [
      "W0323 22:42:51.287199 4472681920 callbacks.py:872] Can save best model only with mse available, skipping.\n"
     ]
    },
    {
     "name": "stdout",
     "output_type": "stream",
     "text": [
      "11277/11277 [==============================] - 1s 83us/sample - loss: 0.1120 - mae: 0.2461 - val_loss: 0.1168 - val_mae: 0.2524\n",
      "Epoch 45/200\n",
      "10800/11277 [===========================>..] - ETA: 0s - loss: 0.1123 - mae: 0.2458"
     ]
    },
    {
     "name": "stderr",
     "output_type": "stream",
     "text": [
      "W0323 22:42:52.327814 4472681920 callbacks.py:872] Can save best model only with mse available, skipping.\n"
     ]
    },
    {
     "name": "stdout",
     "output_type": "stream",
     "text": [
      "11277/11277 [==============================] - 1s 92us/sample - loss: 0.1114 - mae: 0.2451 - val_loss: 0.1170 - val_mae: 0.2529\n",
      "Epoch 46/200\n",
      "11072/11277 [============================>.] - ETA: 0s - loss: 0.1105 - mae: 0.2442"
     ]
    },
    {
     "name": "stderr",
     "output_type": "stream",
     "text": [
      "W0323 22:42:53.502534 4472681920 callbacks.py:872] Can save best model only with mse available, skipping.\n"
     ]
    },
    {
     "name": "stdout",
     "output_type": "stream",
     "text": [
      "11277/11277 [==============================] - 1s 104us/sample - loss: 0.1109 - mae: 0.2447 - val_loss: 0.1198 - val_mae: 0.2559\n",
      "Epoch 47/200\n",
      "11264/11277 [============================>.] - ETA: 0s - loss: 0.1109 - mae: 0.2441"
     ]
    },
    {
     "name": "stderr",
     "output_type": "stream",
     "text": [
      "W0323 22:42:54.945250 4472681920 callbacks.py:872] Can save best model only with mse available, skipping.\n"
     ]
    },
    {
     "name": "stdout",
     "output_type": "stream",
     "text": [
      "11277/11277 [==============================] - 1s 128us/sample - loss: 0.1109 - mae: 0.2440 - val_loss: 0.1160 - val_mae: 0.2509\n",
      "Epoch 48/200\n",
      "11168/11277 [============================>.] - ETA: 0s - loss: 0.1113 - mae: 0.2454"
     ]
    },
    {
     "name": "stderr",
     "output_type": "stream",
     "text": [
      "W0323 22:42:56.390013 4472681920 callbacks.py:872] Can save best model only with mse available, skipping.\n"
     ]
    },
    {
     "name": "stdout",
     "output_type": "stream",
     "text": [
      "11277/11277 [==============================] - 1s 128us/sample - loss: 0.1109 - mae: 0.2450 - val_loss: 0.1162 - val_mae: 0.2509\n",
      "Epoch 49/200\n",
      "11152/11277 [============================>.] - ETA: 0s - loss: 0.1107 - mae: 0.2447"
     ]
    },
    {
     "name": "stderr",
     "output_type": "stream",
     "text": [
      "W0323 22:42:57.624275 4472681920 callbacks.py:872] Can save best model only with mse available, skipping.\n"
     ]
    },
    {
     "name": "stdout",
     "output_type": "stream",
     "text": [
      "11277/11277 [==============================] - 1s 109us/sample - loss: 0.1109 - mae: 0.2448 - val_loss: 0.1134 - val_mae: 0.2474\n",
      "Epoch 50/200\n",
      "11232/11277 [============================>.] - ETA: 0s - loss: 0.1098 - mae: 0.2436"
     ]
    },
    {
     "name": "stderr",
     "output_type": "stream",
     "text": [
      "W0323 22:42:58.875363 4472681920 callbacks.py:872] Can save best model only with mse available, skipping.\n"
     ]
    },
    {
     "name": "stdout",
     "output_type": "stream",
     "text": [
      "11277/11277 [==============================] - 1s 111us/sample - loss: 0.1102 - mae: 0.2439 - val_loss: 0.1141 - val_mae: 0.2486\n",
      "Epoch 51/200\n",
      "10832/11277 [===========================>..] - ETA: 0s - loss: 0.1101 - mae: 0.2431"
     ]
    },
    {
     "name": "stderr",
     "output_type": "stream",
     "text": [
      "W0323 22:43:00.277728 4472681920 callbacks.py:872] Can save best model only with mse available, skipping.\n"
     ]
    },
    {
     "name": "stdout",
     "output_type": "stream",
     "text": [
      "11277/11277 [==============================] - 1s 124us/sample - loss: 0.1102 - mae: 0.2432 - val_loss: 0.1152 - val_mae: 0.2492\n",
      "Epoch 52/200\n",
      "10992/11277 [============================>.] - ETA: 0s - loss: 0.1097 - mae: 0.2421"
     ]
    },
    {
     "name": "stderr",
     "output_type": "stream",
     "text": [
      "W0323 22:43:01.678106 4472681920 callbacks.py:872] Can save best model only with mse available, skipping.\n"
     ]
    },
    {
     "name": "stdout",
     "output_type": "stream",
     "text": [
      "11277/11277 [==============================] - 1s 124us/sample - loss: 0.1099 - mae: 0.2426 - val_loss: 0.1166 - val_mae: 0.2507\n",
      "Epoch 53/200\n",
      "10800/11277 [===========================>..] - ETA: 0s - loss: 0.1097 - mae: 0.2426- ETA: 0s - loss: 0.1101 - mae: 0.242"
     ]
    },
    {
     "name": "stderr",
     "output_type": "stream",
     "text": [
      "W0323 22:43:03.026252 4472681920 callbacks.py:872] Can save best model only with mse available, skipping.\n"
     ]
    },
    {
     "name": "stdout",
     "output_type": "stream",
     "text": [
      "11277/11277 [==============================] - 1s 119us/sample - loss: 0.1094 - mae: 0.2423 - val_loss: 0.1145 - val_mae: 0.2496\n",
      "Epoch 54/200\n",
      "10752/11277 [===========================>..] - ETA: 0s - loss: 0.1097 - mae: 0.2438"
     ]
    },
    {
     "name": "stderr",
     "output_type": "stream",
     "text": [
      "W0323 22:43:04.097894 4472681920 callbacks.py:872] Can save best model only with mse available, skipping.\n"
     ]
    },
    {
     "name": "stdout",
     "output_type": "stream",
     "text": [
      "11277/11277 [==============================] - 1s 95us/sample - loss: 0.1096 - mae: 0.2433 - val_loss: 0.1143 - val_mae: 0.2487\n",
      "Epoch 55/200\n",
      "11168/11277 [============================>.] - ETA: 0s - loss: 0.1091 - mae: 0.2423"
     ]
    },
    {
     "name": "stderr",
     "output_type": "stream",
     "text": [
      "W0323 22:43:05.461539 4472681920 callbacks.py:872] Can save best model only with mse available, skipping.\n"
     ]
    },
    {
     "name": "stdout",
     "output_type": "stream",
     "text": [
      "11277/11277 [==============================] - 1s 121us/sample - loss: 0.1090 - mae: 0.2422 - val_loss: 0.1139 - val_mae: 0.2488\n",
      "Epoch 56/200\n",
      "10832/11277 [===========================>..] - ETA: 0s - loss: 0.1086 - mae: 0.2419"
     ]
    },
    {
     "name": "stderr",
     "output_type": "stream",
     "text": [
      "W0323 22:43:06.869922 4472681920 callbacks.py:872] Can save best model only with mse available, skipping.\n"
     ]
    },
    {
     "name": "stdout",
     "output_type": "stream",
     "text": [
      "\n",
      "Epoch 00056: ReduceLROnPlateau reducing learning rate to 0.0005000000237487257.\n",
      "11277/11277 [==============================] - 1s 125us/sample - loss: 0.1089 - mae: 0.2422 - val_loss: 0.1158 - val_mae: 0.2490\n",
      "Epoch 57/200\n",
      "11072/11277 [============================>.] - ETA: 0s - loss: 0.1069 - mae: 0.2393"
     ]
    },
    {
     "name": "stderr",
     "output_type": "stream",
     "text": [
      "W0323 22:43:08.105206 4472681920 callbacks.py:872] Can save best model only with mse available, skipping.\n"
     ]
    },
    {
     "name": "stdout",
     "output_type": "stream",
     "text": [
      "11277/11277 [==============================] - 1s 109us/sample - loss: 0.1072 - mae: 0.2395 - val_loss: 0.1130 - val_mae: 0.2470\n",
      "Epoch 58/200\n",
      "11216/11277 [============================>.] - ETA: 0s - loss: 0.1071 - mae: 0.2395"
     ]
    },
    {
     "name": "stderr",
     "output_type": "stream",
     "text": [
      "W0323 22:43:09.472980 4472681920 callbacks.py:872] Can save best model only with mse available, skipping.\n"
     ]
    },
    {
     "name": "stdout",
     "output_type": "stream",
     "text": [
      "11277/11277 [==============================] - 1s 121us/sample - loss: 0.1071 - mae: 0.2395 - val_loss: 0.1128 - val_mae: 0.2464\n",
      "Epoch 59/200\n",
      "11264/11277 [============================>.] - ETA: 0s - loss: 0.1068 - mae: 0.2393"
     ]
    },
    {
     "name": "stderr",
     "output_type": "stream",
     "text": [
      "W0323 22:43:10.752594 4472681920 callbacks.py:872] Can save best model only with mse available, skipping.\n"
     ]
    },
    {
     "name": "stdout",
     "output_type": "stream",
     "text": [
      "11277/11277 [==============================] - 1s 114us/sample - loss: 0.1068 - mae: 0.2392 - val_loss: 0.1129 - val_mae: 0.2474\n",
      "Epoch 60/200\n",
      "11264/11277 [============================>.] - ETA: 0s - loss: 0.1069 - mae: 0.2395"
     ]
    },
    {
     "name": "stderr",
     "output_type": "stream",
     "text": [
      "W0323 22:43:12.270821 4472681920 callbacks.py:872] Can save best model only with mse available, skipping.\n"
     ]
    },
    {
     "name": "stdout",
     "output_type": "stream",
     "text": [
      "11277/11277 [==============================] - 2s 134us/sample - loss: 0.1070 - mae: 0.2396 - val_loss: 0.1138 - val_mae: 0.2482\n",
      "Epoch 61/200\n",
      "11168/11277 [============================>.] - ETA: 0s - loss: 0.1069 - mae: 0.2392"
     ]
    },
    {
     "name": "stderr",
     "output_type": "stream",
     "text": [
      "W0323 22:43:13.573049 4472681920 callbacks.py:872] Can save best model only with mse available, skipping.\n"
     ]
    },
    {
     "name": "stdout",
     "output_type": "stream",
     "text": [
      "11277/11277 [==============================] - 1s 115us/sample - loss: 0.1068 - mae: 0.2392 - val_loss: 0.1137 - val_mae: 0.2483\n",
      "Epoch 62/200\n",
      "11200/11277 [============================>.] - ETA: 0s - loss: 0.1072 - mae: 0.2394- ETA: 0s - loss: 0.1033 "
     ]
    },
    {
     "name": "stderr",
     "output_type": "stream",
     "text": [
      "W0323 22:43:14.813008 4472681920 callbacks.py:872] Can save best model only with mse available, skipping.\n"
     ]
    },
    {
     "name": "stdout",
     "output_type": "stream",
     "text": [
      "11277/11277 [==============================] - 1s 110us/sample - loss: 0.1070 - mae: 0.2392 - val_loss: 0.1131 - val_mae: 0.2475\n",
      "Epoch 63/200\n",
      "11200/11277 [============================>.] - ETA: 0s - loss: 0.1067 - mae: 0.2390"
     ]
    },
    {
     "name": "stderr",
     "output_type": "stream",
     "text": [
      "W0323 22:43:16.021822 4472681920 callbacks.py:872] Can save best model only with mse available, skipping.\n"
     ]
    },
    {
     "name": "stdout",
     "output_type": "stream",
     "text": [
      "11277/11277 [==============================] - 1s 107us/sample - loss: 0.1065 - mae: 0.2389 - val_loss: 0.1118 - val_mae: 0.2453\n",
      "Epoch 64/200\n",
      "11168/11277 [============================>.] - ETA: 0s - loss: 0.1064 - mae: 0.2388"
     ]
    },
    {
     "name": "stderr",
     "output_type": "stream",
     "text": [
      "W0323 22:43:17.321377 4472681920 callbacks.py:872] Can save best model only with mse available, skipping.\n"
     ]
    },
    {
     "name": "stdout",
     "output_type": "stream",
     "text": [
      "11277/11277 [==============================] - 1s 115us/sample - loss: 0.1066 - mae: 0.2390 - val_loss: 0.1129 - val_mae: 0.2470\n",
      "Epoch 65/200\n",
      "11072/11277 [============================>.] - ETA: 0s - loss: 0.1062 - mae: 0.2384"
     ]
    },
    {
     "name": "stderr",
     "output_type": "stream",
     "text": [
      "W0323 22:43:18.707981 4472681920 callbacks.py:872] Can save best model only with mse available, skipping.\n"
     ]
    },
    {
     "name": "stdout",
     "output_type": "stream",
     "text": [
      "11277/11277 [==============================] - 1s 123us/sample - loss: 0.1064 - mae: 0.2385 - val_loss: 0.1120 - val_mae: 0.2452\n",
      "Epoch 66/200\n",
      "11136/11277 [============================>.] - ETA: 0s - loss: 0.1069 - mae: 0.2394"
     ]
    },
    {
     "name": "stderr",
     "output_type": "stream",
     "text": [
      "W0323 22:43:19.922586 4472681920 callbacks.py:872] Can save best model only with mse available, skipping.\n"
     ]
    },
    {
     "name": "stdout",
     "output_type": "stream",
     "text": [
      "11277/11277 [==============================] - 1s 108us/sample - loss: 0.1065 - mae: 0.2390 - val_loss: 0.1119 - val_mae: 0.2455\n",
      "Epoch 67/200\n",
      "11120/11277 [============================>.] - ETA: 0s - loss: 0.1063 - mae: 0.2384"
     ]
    },
    {
     "name": "stderr",
     "output_type": "stream",
     "text": [
      "W0323 22:43:21.152670 4472681920 callbacks.py:872] Can save best model only with mse available, skipping.\n"
     ]
    },
    {
     "name": "stdout",
     "output_type": "stream",
     "text": [
      "11277/11277 [==============================] - 1s 109us/sample - loss: 0.1063 - mae: 0.2385 - val_loss: 0.1133 - val_mae: 0.2472\n",
      "Epoch 68/200\n",
      "10992/11277 [============================>.] - ETA: 0s - loss: 0.1062 - mae: 0.2386- ETA: 0s - loss: 0.1066 - mae: 0."
     ]
    },
    {
     "name": "stderr",
     "output_type": "stream",
     "text": [
      "W0323 22:43:22.345917 4472681920 callbacks.py:872] Can save best model only with mse available, skipping.\n"
     ]
    },
    {
     "name": "stdout",
     "output_type": "stream",
     "text": [
      "11277/11277 [==============================] - 1s 106us/sample - loss: 0.1063 - mae: 0.2384 - val_loss: 0.1127 - val_mae: 0.2462\n",
      "Epoch 69/200\n",
      "10896/11277 [===========================>..] - ETA: 0s - loss: 0.1062 - mae: 0.2388- ETA: 0s - loss: 0.1043"
     ]
    },
    {
     "name": "stderr",
     "output_type": "stream",
     "text": [
      "W0323 22:43:23.609501 4472681920 callbacks.py:872] Can save best model only with mse available, skipping.\n"
     ]
    },
    {
     "name": "stdout",
     "output_type": "stream",
     "text": [
      "11277/11277 [==============================] - 1s 112us/sample - loss: 0.1063 - mae: 0.2386 - val_loss: 0.1129 - val_mae: 0.2471\n",
      "Epoch 70/200\n",
      "10912/11277 [============================>.] - ETA: 0s - loss: 0.1069 - mae: 0.2389"
     ]
    },
    {
     "name": "stderr",
     "output_type": "stream",
     "text": [
      "W0323 22:43:24.919837 4472681920 callbacks.py:872] Can save best model only with mse available, skipping.\n"
     ]
    },
    {
     "name": "stdout",
     "output_type": "stream",
     "text": [
      "\n",
      "Epoch 00070: ReduceLROnPlateau reducing learning rate to 0.0002500000118743628.\n",
      "11277/11277 [==============================] - 1s 116us/sample - loss: 0.1063 - mae: 0.2382 - val_loss: 0.1118 - val_mae: 0.2453\n",
      "Epoch 71/200\n",
      "11184/11277 [============================>.] - ETA: 0s - loss: 0.1050 - mae: 0.2375"
     ]
    },
    {
     "name": "stderr",
     "output_type": "stream",
     "text": [
      "W0323 22:43:26.255072 4472681920 callbacks.py:872] Can save best model only with mse available, skipping.\n"
     ]
    },
    {
     "name": "stdout",
     "output_type": "stream",
     "text": [
      "11277/11277 [==============================] - 1s 118us/sample - loss: 0.1052 - mae: 0.2375 - val_loss: 0.1119 - val_mae: 0.2461\n",
      "Epoch 72/200\n",
      "10736/11277 [===========================>..] - ETA: 0s - loss: 0.1052 - mae: 0.2376"
     ]
    },
    {
     "name": "stderr",
     "output_type": "stream",
     "text": [
      "W0323 22:43:27.269800 4472681920 callbacks.py:872] Can save best model only with mse available, skipping.\n"
     ]
    },
    {
     "name": "stdout",
     "output_type": "stream",
     "text": [
      "11277/11277 [==============================] - 1s 90us/sample - loss: 0.1051 - mae: 0.2374 - val_loss: 0.1116 - val_mae: 0.2452\n",
      "Epoch 73/200\n",
      "11104/11277 [============================>.] - ETA: 0s - loss: 0.1051 - mae: 0.2371"
     ]
    },
    {
     "name": "stderr",
     "output_type": "stream",
     "text": [
      "W0323 22:43:28.414381 4472681920 callbacks.py:872] Can save best model only with mse available, skipping.\n"
     ]
    },
    {
     "name": "stdout",
     "output_type": "stream",
     "text": [
      "11277/11277 [==============================] - 1s 101us/sample - loss: 0.1052 - mae: 0.2372 - val_loss: 0.1120 - val_mae: 0.2457\n",
      "Epoch 74/200\n",
      "11168/11277 [============================>.] - ETA: 0s - loss: 0.1055 - mae: 0.2377"
     ]
    },
    {
     "name": "stderr",
     "output_type": "stream",
     "text": [
      "W0323 22:43:29.523847 4472681920 callbacks.py:872] Can save best model only with mse available, skipping.\n"
     ]
    },
    {
     "name": "stdout",
     "output_type": "stream",
     "text": [
      "11277/11277 [==============================] - 1s 98us/sample - loss: 0.1051 - mae: 0.2374 - val_loss: 0.1124 - val_mae: 0.2460\n",
      "Epoch 75/200\n",
      "11200/11277 [============================>.] - ETA: 0s - loss: 0.1051 - mae: 0.2372"
     ]
    },
    {
     "name": "stderr",
     "output_type": "stream",
     "text": [
      "W0323 22:43:30.657882 4472681920 callbacks.py:872] Can save best model only with mse available, skipping.\n"
     ]
    },
    {
     "name": "stdout",
     "output_type": "stream",
     "text": [
      "11277/11277 [==============================] - 1s 100us/sample - loss: 0.1050 - mae: 0.2370 - val_loss: 0.1122 - val_mae: 0.2462\n",
      "Epoch 76/200\n",
      "10640/11277 [===========================>..] - ETA: 0s - loss: 0.1053 - mae: 0.2371"
     ]
    },
    {
     "name": "stderr",
     "output_type": "stream",
     "text": [
      "W0323 22:43:31.816953 4472681920 callbacks.py:872] Can save best model only with mse available, skipping.\n"
     ]
    },
    {
     "name": "stdout",
     "output_type": "stream",
     "text": [
      "11277/11277 [==============================] - 1s 103us/sample - loss: 0.1050 - mae: 0.2371 - val_loss: 0.1117 - val_mae: 0.2452\n",
      "Epoch 77/200\n",
      "11184/11277 [============================>.] - ETA: 0s - loss: 0.1051 - mae: 0.2373"
     ]
    },
    {
     "name": "stderr",
     "output_type": "stream",
     "text": [
      "W0323 22:43:32.952950 4472681920 callbacks.py:872] Can save best model only with mse available, skipping.\n"
     ]
    },
    {
     "name": "stdout",
     "output_type": "stream",
     "text": [
      "11277/11277 [==============================] - 1s 101us/sample - loss: 0.1049 - mae: 0.2371 - val_loss: 0.1121 - val_mae: 0.2457\n",
      "Epoch 78/200\n",
      "10784/11277 [===========================>..] - ETA: 0s - loss: 0.1055 - mae: 0.2372- ETA: 0s - loss: 0.1"
     ]
    },
    {
     "name": "stderr",
     "output_type": "stream",
     "text": [
      "W0323 22:43:34.382956 4472681920 callbacks.py:872] Can save best model only with mse available, skipping.\n"
     ]
    },
    {
     "name": "stdout",
     "output_type": "stream",
     "text": [
      "11277/11277 [==============================] - 1s 126us/sample - loss: 0.1050 - mae: 0.2368 - val_loss: 0.1126 - val_mae: 0.2469\n",
      "Epoch 79/200\n",
      "10928/11277 [============================>.] - ETA: 0s - loss: 0.1050 - mae: 0.2366"
     ]
    },
    {
     "name": "stderr",
     "output_type": "stream",
     "text": [
      "W0323 22:43:35.846906 4472681920 callbacks.py:872] Can save best model only with mse available, skipping.\n"
     ]
    },
    {
     "name": "stdout",
     "output_type": "stream",
     "text": [
      "\n",
      "Epoch 00079: ReduceLROnPlateau reducing learning rate to 0.0001250000059371814.\n",
      "11277/11277 [==============================] - 1s 129us/sample - loss: 0.1050 - mae: 0.2368 - val_loss: 0.1119 - val_mae: 0.2460\n",
      "Epoch 80/200\n",
      "11008/11277 [============================>.] - ETA: 0s - loss: 0.1049 - mae: 0.2368"
     ]
    },
    {
     "name": "stderr",
     "output_type": "stream",
     "text": [
      "W0323 22:43:37.298241 4472681920 callbacks.py:872] Can save best model only with mse available, skipping.\n"
     ]
    },
    {
     "name": "stdout",
     "output_type": "stream",
     "text": [
      "11277/11277 [==============================] - 1s 128us/sample - loss: 0.1046 - mae: 0.2365 - val_loss: 0.1116 - val_mae: 0.2453\n",
      "Epoch 81/200\n",
      "10800/11277 [===========================>..] - ETA: 0s - loss: 0.1047 - mae: 0.2364"
     ]
    },
    {
     "name": "stderr",
     "output_type": "stream",
     "text": [
      "W0323 22:43:38.262722 4472681920 callbacks.py:872] Can save best model only with mse available, skipping.\n"
     ]
    },
    {
     "name": "stdout",
     "output_type": "stream",
     "text": [
      "11277/11277 [==============================] - 1s 85us/sample - loss: 0.1044 - mae: 0.2362 - val_loss: 0.1115 - val_mae: 0.2454\n",
      "Epoch 82/200\n",
      "10544/11277 [===========================>..] - ETA: 0s - loss: 0.1053 - mae: 0.2368"
     ]
    },
    {
     "name": "stderr",
     "output_type": "stream",
     "text": [
      "W0323 22:43:39.248883 4472681920 callbacks.py:872] Can save best model only with mse available, skipping.\n"
     ]
    },
    {
     "name": "stdout",
     "output_type": "stream",
     "text": [
      "11277/11277 [==============================] - 1s 87us/sample - loss: 0.1045 - mae: 0.2364 - val_loss: 0.1119 - val_mae: 0.2456\n",
      "Epoch 83/200\n",
      "11136/11277 [============================>.] - ETA: 0s - loss: 0.1046 - mae: 0.2366"
     ]
    },
    {
     "name": "stderr",
     "output_type": "stream",
     "text": [
      "W0323 22:43:40.194241 4472681920 callbacks.py:872] Can save best model only with mse available, skipping.\n"
     ]
    },
    {
     "name": "stdout",
     "output_type": "stream",
     "text": [
      "11277/11277 [==============================] - 1s 84us/sample - loss: 0.1044 - mae: 0.2364 - val_loss: 0.1115 - val_mae: 0.2451\n",
      "Epoch 84/200\n",
      "11056/11277 [============================>.] - ETA: 0s - loss: 0.1046 - mae: 0.2365- ETA: 0s - loss: 0.1047 - mae: 0"
     ]
    },
    {
     "name": "stderr",
     "output_type": "stream",
     "text": [
      "W0323 22:43:41.543990 4472681920 callbacks.py:872] Can save best model only with mse available, skipping.\n"
     ]
    },
    {
     "name": "stdout",
     "output_type": "stream",
     "text": [
      "11277/11277 [==============================] - 1s 120us/sample - loss: 0.1044 - mae: 0.2363 - val_loss: 0.1116 - val_mae: 0.2452\n",
      "Epoch 85/200\n",
      "10848/11277 [===========================>..] - ETA: 0s - loss: 0.1047 - mae: 0.2368"
     ]
    },
    {
     "name": "stderr",
     "output_type": "stream",
     "text": [
      "W0323 22:43:42.813139 4472681920 callbacks.py:872] Can save best model only with mse available, skipping.\n"
     ]
    },
    {
     "name": "stdout",
     "output_type": "stream",
     "text": [
      "11277/11277 [==============================] - 1s 111us/sample - loss: 0.1043 - mae: 0.2363 - val_loss: 0.1121 - val_mae: 0.2458\n",
      "Epoch 86/200\n",
      "10656/11277 [===========================>..] - ETA: 0s - loss: 0.1038 - mae: 0.2356"
     ]
    },
    {
     "name": "stderr",
     "output_type": "stream",
     "text": [
      "W0323 22:43:43.738051 4472681920 callbacks.py:872] Can save best model only with mse available, skipping.\n"
     ]
    },
    {
     "name": "stdout",
     "output_type": "stream",
     "text": [
      "11277/11277 [==============================] - 1s 82us/sample - loss: 0.1044 - mae: 0.2362 - val_loss: 0.1124 - val_mae: 0.2466\n",
      "Epoch 87/200\n",
      "10496/11277 [==========================>...] - ETA: 0s - loss: 0.1051 - mae: 0.2370- ETA: 0s - loss: 0.1050 - mae: 0.236"
     ]
    },
    {
     "name": "stderr",
     "output_type": "stream",
     "text": [
      "W0323 22:43:44.655375 4472681920 callbacks.py:872] Can save best model only with mse available, skipping.\n"
     ]
    },
    {
     "name": "stdout",
     "output_type": "stream",
     "text": [
      "11277/11277 [==============================] - 1s 81us/sample - loss: 0.1044 - mae: 0.2363 - val_loss: 0.1122 - val_mae: 0.2459\n",
      "Epoch 88/200\n",
      "10448/11277 [==========================>...] - ETA: 0s - loss: 0.1044 - mae: 0.2357"
     ]
    },
    {
     "name": "stderr",
     "output_type": "stream",
     "text": [
      "W0323 22:43:45.586941 4472681920 callbacks.py:872] Can save best model only with mse available, skipping.\n"
     ]
    },
    {
     "name": "stdout",
     "output_type": "stream",
     "text": [
      "11277/11277 [==============================] - 1s 82us/sample - loss: 0.1044 - mae: 0.2363 - val_loss: 0.1120 - val_mae: 0.2460\n",
      "Epoch 89/200\n",
      "11120/11277 [============================>.] - ETA: 0s - loss: 0.1041 - mae: 0.2359"
     ]
    },
    {
     "name": "stderr",
     "output_type": "stream",
     "text": [
      "W0323 22:43:46.538176 4472681920 callbacks.py:872] Can save best model only with mse available, skipping.\n"
     ]
    },
    {
     "name": "stdout",
     "output_type": "stream",
     "text": [
      "11277/11277 [==============================] - 1s 84us/sample - loss: 0.1043 - mae: 0.2362 - val_loss: 0.1116 - val_mae: 0.2451\n",
      "Epoch 90/200\n",
      "11184/11277 [============================>.] - ETA: 0s - loss: 0.1043 - mae: 0.2364"
     ]
    },
    {
     "name": "stderr",
     "output_type": "stream",
     "text": [
      "W0323 22:43:47.487846 4472681920 callbacks.py:872] Can save best model only with mse available, skipping.\n"
     ]
    },
    {
     "name": "stdout",
     "output_type": "stream",
     "text": [
      "\n",
      "Epoch 00090: ReduceLROnPlateau reducing learning rate to 6.25000029685907e-05.\n",
      "11277/11277 [==============================] - 1s 84us/sample - loss: 0.1044 - mae: 0.2363 - val_loss: 0.1115 - val_mae: 0.2451\n",
      "Epoch 91/200\n",
      "10592/11277 [===========================>..] - ETA: 0s - loss: 0.1031 - mae: 0.2348"
     ]
    },
    {
     "name": "stderr",
     "output_type": "stream",
     "text": [
      "W0323 22:43:48.400896 4472681920 callbacks.py:872] Can save best model only with mse available, skipping.\n"
     ]
    },
    {
     "name": "stdout",
     "output_type": "stream",
     "text": [
      "11277/11277 [==============================] - 1s 81us/sample - loss: 0.1041 - mae: 0.2358 - val_loss: 0.1118 - val_mae: 0.2456\n",
      "Epoch 92/200\n",
      "11056/11277 [============================>.] - ETA: 0s - loss: 0.1033 - mae: 0.2354"
     ]
    },
    {
     "name": "stderr",
     "output_type": "stream",
     "text": [
      "W0323 22:43:49.366793 4472681920 callbacks.py:872] Can save best model only with mse available, skipping.\n"
     ]
    },
    {
     "name": "stdout",
     "output_type": "stream",
     "text": [
      "11277/11277 [==============================] - 1s 85us/sample - loss: 0.1041 - mae: 0.2359 - val_loss: 0.1119 - val_mae: 0.2457\n",
      "Epoch 93/200\n",
      "10928/11277 [============================>.] - ETA: 0s - loss: 0.1037 - mae: 0.2354"
     ]
    },
    {
     "name": "stderr",
     "output_type": "stream",
     "text": [
      "W0323 22:43:50.272411 4472681920 callbacks.py:872] Can save best model only with mse available, skipping.\n"
     ]
    },
    {
     "name": "stdout",
     "output_type": "stream",
     "text": [
      "11277/11277 [==============================] - 1s 80us/sample - loss: 0.1040 - mae: 0.2358 - val_loss: 0.1115 - val_mae: 0.2454\n",
      "Epoch 94/200\n",
      "10544/11277 [===========================>..] - ETA: 0s - loss: 0.1039 - mae: 0.2358"
     ]
    },
    {
     "name": "stderr",
     "output_type": "stream",
     "text": [
      "W0323 22:43:51.205435 4472681920 callbacks.py:872] Can save best model only with mse available, skipping.\n"
     ]
    },
    {
     "name": "stdout",
     "output_type": "stream",
     "text": [
      "11277/11277 [==============================] - 1s 83us/sample - loss: 0.1041 - mae: 0.2359 - val_loss: 0.1115 - val_mae: 0.2452\n",
      "Epoch 95/200\n",
      "10848/11277 [===========================>..] - ETA: 0s - loss: 0.1039 - mae: 0.2358"
     ]
    },
    {
     "name": "stderr",
     "output_type": "stream",
     "text": [
      "W0323 22:43:52.120146 4472681920 callbacks.py:872] Can save best model only with mse available, skipping.\n"
     ]
    },
    {
     "name": "stdout",
     "output_type": "stream",
     "text": [
      "11277/11277 [==============================] - 1s 81us/sample - loss: 0.1040 - mae: 0.2359 - val_loss: 0.1116 - val_mae: 0.2451\n",
      "Epoch 96/200\n",
      "11120/11277 [============================>.] - ETA: 0s - loss: 0.1041 - mae: 0.2360"
     ]
    },
    {
     "name": "stderr",
     "output_type": "stream",
     "text": [
      "W0323 22:43:53.006481 4472681920 callbacks.py:872] Can save best model only with mse available, skipping.\n"
     ]
    },
    {
     "name": "stdout",
     "output_type": "stream",
     "text": [
      "11277/11277 [==============================] - 1s 78us/sample - loss: 0.1040 - mae: 0.2357 - val_loss: 0.1113 - val_mae: 0.2448\n",
      "Epoch 97/200\n",
      "10864/11277 [===========================>..] - ETA: 0s - loss: 0.1045 - mae: 0.2364"
     ]
    },
    {
     "name": "stderr",
     "output_type": "stream",
     "text": [
      "W0323 22:43:53.910444 4472681920 callbacks.py:872] Can save best model only with mse available, skipping.\n"
     ]
    },
    {
     "name": "stdout",
     "output_type": "stream",
     "text": [
      "11277/11277 [==============================] - 1s 80us/sample - loss: 0.1040 - mae: 0.2358 - val_loss: 0.1119 - val_mae: 0.2457\n",
      "Epoch 98/200\n",
      "10512/11277 [==========================>...] - ETA: 0s - loss: 0.1038 - mae: 0.2358"
     ]
    },
    {
     "name": "stderr",
     "output_type": "stream",
     "text": [
      "W0323 22:43:54.842021 4472681920 callbacks.py:872] Can save best model only with mse available, skipping.\n"
     ]
    },
    {
     "name": "stdout",
     "output_type": "stream",
     "text": [
      "11277/11277 [==============================] - 1s 83us/sample - loss: 0.1040 - mae: 0.2359 - val_loss: 0.1115 - val_mae: 0.2450\n",
      "Epoch 99/200\n",
      "10464/11277 [==========================>...] - ETA: 0s - loss: 0.1038 - mae: 0.2357"
     ]
    },
    {
     "name": "stderr",
     "output_type": "stream",
     "text": [
      "W0323 22:43:55.712831 4472681920 callbacks.py:872] Can save best model only with mse available, skipping.\n"
     ]
    },
    {
     "name": "stdout",
     "output_type": "stream",
     "text": [
      "11277/11277 [==============================] - 1s 77us/sample - loss: 0.1040 - mae: 0.2358 - val_loss: 0.1117 - val_mae: 0.2454\n",
      "Epoch 100/200\n",
      "11216/11277 [============================>.] - ETA: 0s - loss: 0.1040 - mae: 0.2360"
     ]
    },
    {
     "name": "stderr",
     "output_type": "stream",
     "text": [
      "W0323 22:43:56.594208 4472681920 callbacks.py:872] Can save best model only with mse available, skipping.\n"
     ]
    },
    {
     "name": "stdout",
     "output_type": "stream",
     "text": [
      "11277/11277 [==============================] - 1s 78us/sample - loss: 0.1040 - mae: 0.2359 - val_loss: 0.1118 - val_mae: 0.2455\n",
      "Epoch 101/200\n",
      "10672/11277 [===========================>..] - ETA: 0s - loss: 0.1043 - mae: 0.2362"
     ]
    },
    {
     "name": "stderr",
     "output_type": "stream",
     "text": [
      "W0323 22:43:57.566604 4472681920 callbacks.py:872] Can save best model only with mse available, skipping.\n"
     ]
    },
    {
     "name": "stdout",
     "output_type": "stream",
     "text": [
      "11277/11277 [==============================] - 1s 86us/sample - loss: 0.1040 - mae: 0.2359 - val_loss: 0.1115 - val_mae: 0.2451\n",
      "Epoch 102/200\n",
      "10784/11277 [===========================>..] - ETA: 0s - loss: 0.1043 - mae: 0.2360"
     ]
    },
    {
     "name": "stderr",
     "output_type": "stream",
     "text": [
      "W0323 22:43:58.488044 4472681920 callbacks.py:872] Can save best model only with mse available, skipping.\n"
     ]
    },
    {
     "name": "stdout",
     "output_type": "stream",
     "text": [
      "11277/11277 [==============================] - 1s 82us/sample - loss: 0.1039 - mae: 0.2356 - val_loss: 0.1118 - val_mae: 0.2456\n",
      "Epoch 103/200\n",
      "11088/11277 [============================>.] - ETA: 0s - loss: 0.1039 - mae: 0.2358"
     ]
    },
    {
     "name": "stderr",
     "output_type": "stream",
     "text": [
      "W0323 22:43:59.387135 4472681920 callbacks.py:872] Can save best model only with mse available, skipping.\n"
     ]
    },
    {
     "name": "stdout",
     "output_type": "stream",
     "text": [
      "\n",
      "Epoch 00103: ReduceLROnPlateau reducing learning rate to 3.125000148429535e-05.\n",
      "11277/11277 [==============================] - 1s 80us/sample - loss: 0.1040 - mae: 0.2359 - val_loss: 0.1116 - val_mae: 0.2452\n",
      "Epoch 104/200\n",
      "11056/11277 [============================>.] - ETA: 0s - loss: 0.1039 - mae: 0.2357"
     ]
    },
    {
     "name": "stderr",
     "output_type": "stream",
     "text": [
      "W0323 22:44:00.282987 4472681920 callbacks.py:872] Can save best model only with mse available, skipping.\n"
     ]
    },
    {
     "name": "stdout",
     "output_type": "stream",
     "text": [
      "11277/11277 [==============================] - 1s 79us/sample - loss: 0.1038 - mae: 0.2356 - val_loss: 0.1116 - val_mae: 0.2453\n",
      "Epoch 105/200\n",
      "10528/11277 [===========================>..] - ETA: 0s - loss: 0.1028 - mae: 0.2348"
     ]
    },
    {
     "name": "stderr",
     "output_type": "stream",
     "text": [
      "W0323 22:44:01.161403 4472681920 callbacks.py:872] Can save best model only with mse available, skipping.\n"
     ]
    },
    {
     "name": "stdout",
     "output_type": "stream",
     "text": [
      "11277/11277 [==============================] - 1s 78us/sample - loss: 0.1038 - mae: 0.2356 - val_loss: 0.1116 - val_mae: 0.2453\n",
      "Epoch 106/200\n",
      "10512/11277 [==========================>...] - ETA: 0s - loss: 0.1040 - mae: 0.2355- ETA: 0s - loss: 0.1035 - mae"
     ]
    },
    {
     "name": "stderr",
     "output_type": "stream",
     "text": [
      "W0323 22:44:02.086275 4472681920 callbacks.py:872] Can save best model only with mse available, skipping.\n"
     ]
    },
    {
     "name": "stdout",
     "output_type": "stream",
     "text": [
      "11277/11277 [==============================] - 1s 82us/sample - loss: 0.1038 - mae: 0.2357 - val_loss: 0.1115 - val_mae: 0.2453\n",
      "Epoch 107/200\n",
      "10672/11277 [===========================>..] - ETA: 0s - loss: 0.1045 - mae: 0.236 - ETA: 0s - loss: 0.1040 - mae: 0.2358"
     ]
    },
    {
     "name": "stderr",
     "output_type": "stream",
     "text": [
      "W0323 22:44:03.004097 4472681920 callbacks.py:872] Can save best model only with mse available, skipping.\n"
     ]
    },
    {
     "name": "stdout",
     "output_type": "stream",
     "text": [
      "11277/11277 [==============================] - 1s 81us/sample - loss: 0.1038 - mae: 0.2357 - val_loss: 0.1116 - val_mae: 0.2453\n",
      "Epoch 108/200\n",
      "10816/11277 [===========================>..] - ETA: 0s - loss: 0.1040 - mae: 0.2357- ETA: 0s - loss: 0.1055 - mae: 0."
     ]
    },
    {
     "name": "stderr",
     "output_type": "stream",
     "text": [
      "W0323 22:44:03.926146 4472681920 callbacks.py:872] Can save best model only with mse available, skipping.\n"
     ]
    },
    {
     "name": "stdout",
     "output_type": "stream",
     "text": [
      "11277/11277 [==============================] - 1s 82us/sample - loss: 0.1038 - mae: 0.2357 - val_loss: 0.1115 - val_mae: 0.2451\n",
      "Epoch 109/200\n",
      "10624/11277 [===========================>..] - ETA: 0s - loss: 0.1041 - mae: 0.2358- ETA: 0s - loss: 0.0996 - mae"
     ]
    },
    {
     "name": "stderr",
     "output_type": "stream",
     "text": [
      "W0323 22:44:04.834180 4472681920 callbacks.py:872] Can save best model only with mse available, skipping.\n"
     ]
    },
    {
     "name": "stdout",
     "output_type": "stream",
     "text": [
      "11277/11277 [==============================] - 1s 80us/sample - loss: 0.1038 - mae: 0.2356 - val_loss: 0.1115 - val_mae: 0.2452\n",
      "Epoch 110/200\n",
      "10656/11277 [===========================>..] - ETA: 0s - loss: 0.1043 - mae: 0.2361"
     ]
    },
    {
     "name": "stderr",
     "output_type": "stream",
     "text": [
      "W0323 22:44:05.694394 4472681920 callbacks.py:872] Can save best model only with mse available, skipping.\n"
     ]
    },
    {
     "name": "stdout",
     "output_type": "stream",
     "text": [
      "\n",
      "Epoch 00110: ReduceLROnPlateau reducing learning rate to 1.5625000742147677e-05.\n",
      "11277/11277 [==============================] - 1s 76us/sample - loss: 0.1038 - mae: 0.2356 - val_loss: 0.1116 - val_mae: 0.2453\n",
      "Epoch 111/200\n",
      "10592/11277 [===========================>..] - ETA: 0s - loss: 0.1036 - mae: 0.235 - ETA: 0s - loss: 0.1041 - mae: 0.2356"
     ]
    },
    {
     "name": "stderr",
     "output_type": "stream",
     "text": [
      "W0323 22:44:06.605414 4472681920 callbacks.py:872] Can save best model only with mse available, skipping.\n"
     ]
    },
    {
     "name": "stdout",
     "output_type": "stream",
     "text": [
      "11277/11277 [==============================] - 1s 81us/sample - loss: 0.1037 - mae: 0.2355 - val_loss: 0.1116 - val_mae: 0.2453\n",
      "Epoch 112/200\n",
      "10848/11277 [===========================>..] - ETA: 0s - loss: 0.1027 - mae: 0.2346"
     ]
    },
    {
     "name": "stderr",
     "output_type": "stream",
     "text": [
      "W0323 22:44:07.454813 4472681920 callbacks.py:872] Can save best model only with mse available, skipping.\n"
     ]
    },
    {
     "name": "stdout",
     "output_type": "stream",
     "text": [
      "11277/11277 [==============================] - 1s 75us/sample - loss: 0.1037 - mae: 0.2355 - val_loss: 0.1116 - val_mae: 0.2453\n",
      "Epoch 113/200\n",
      "10800/11277 [===========================>..] - ETA: 0s - loss: 0.1038 - mae: 0.2355"
     ]
    },
    {
     "name": "stderr",
     "output_type": "stream",
     "text": [
      "W0323 22:44:08.300665 4472681920 callbacks.py:872] Can save best model only with mse available, skipping.\n"
     ]
    },
    {
     "name": "stdout",
     "output_type": "stream",
     "text": [
      "11277/11277 [==============================] - 1s 75us/sample - loss: 0.1037 - mae: 0.2356 - val_loss: 0.1116 - val_mae: 0.2453\n",
      "Epoch 114/200\n",
      "10960/11277 [============================>.] - ETA: 0s - loss: 0.1032 - mae: 0.235 - ETA: 0s - loss: 0.1035 - mae: 0.2353"
     ]
    },
    {
     "name": "stderr",
     "output_type": "stream",
     "text": [
      "W0323 22:44:09.142467 4472681920 callbacks.py:872] Can save best model only with mse available, skipping.\n"
     ]
    },
    {
     "name": "stdout",
     "output_type": "stream",
     "text": [
      "11277/11277 [==============================] - 1s 75us/sample - loss: 0.1037 - mae: 0.2355 - val_loss: 0.1115 - val_mae: 0.2452\n",
      "Epoch 115/200\n",
      "10784/11277 [===========================>..] - ETA: 0s - loss: 0.1038 - mae: 0.2356- ETA: 0s - loss: 0.1031 - mae: 0."
     ]
    },
    {
     "name": "stderr",
     "output_type": "stream",
     "text": [
      "W0323 22:44:09.989306 4472681920 callbacks.py:872] Can save best model only with mse available, skipping.\n"
     ]
    },
    {
     "name": "stdout",
     "output_type": "stream",
     "text": [
      "11277/11277 [==============================] - 1s 75us/sample - loss: 0.1037 - mae: 0.2355 - val_loss: 0.1115 - val_mae: 0.2452\n",
      "Epoch 116/200\n",
      "10624/11277 [===========================>..] - ETA: 0s - loss: 0.1024 - mae: 0.2345- ETA: 0s - loss: 0.1031 - mae: 0.2"
     ]
    },
    {
     "name": "stderr",
     "output_type": "stream",
     "text": [
      "W0323 22:44:10.845748 4472681920 callbacks.py:872] Can save best model only with mse available, skipping.\n"
     ]
    },
    {
     "name": "stdout",
     "output_type": "stream",
     "text": [
      "11277/11277 [==============================] - 1s 76us/sample - loss: 0.1037 - mae: 0.2355 - val_loss: 0.1116 - val_mae: 0.2453\n",
      "Epoch 117/200\n",
      "11168/11277 [============================>.] - ETA: 0s - loss: 0.1038 - mae: 0.2357"
     ]
    },
    {
     "name": "stderr",
     "output_type": "stream",
     "text": [
      "W0323 22:44:11.728269 4472681920 callbacks.py:872] Can save best model only with mse available, skipping.\n"
     ]
    },
    {
     "name": "stdout",
     "output_type": "stream",
     "text": [
      "\n",
      "Epoch 00117: ReduceLROnPlateau reducing learning rate to 7.812500371073838e-06.\n",
      "11277/11277 [==============================] - 1s 78us/sample - loss: 0.1037 - mae: 0.2355 - val_loss: 0.1116 - val_mae: 0.2453\n",
      "Epoch 118/200\n",
      "10608/11277 [===========================>..] - ETA: 0s - loss: 0.1038 - mae: 0.2361"
     ]
    },
    {
     "name": "stderr",
     "output_type": "stream",
     "text": [
      "W0323 22:44:12.657804 4472681920 callbacks.py:872] Can save best model only with mse available, skipping.\n"
     ]
    },
    {
     "name": "stdout",
     "output_type": "stream",
     "text": [
      "11277/11277 [==============================] - 1s 82us/sample - loss: 0.1037 - mae: 0.2355 - val_loss: 0.1116 - val_mae: 0.2453\n",
      "Epoch 119/200\n",
      "10912/11277 [============================>.] - ETA: 0s - loss: 0.1039 - mae: 0.2356"
     ]
    },
    {
     "name": "stderr",
     "output_type": "stream",
     "text": [
      "W0323 22:44:13.563076 4472681920 callbacks.py:872] Can save best model only with mse available, skipping.\n"
     ]
    },
    {
     "name": "stdout",
     "output_type": "stream",
     "text": [
      "11277/11277 [==============================] - 1s 80us/sample - loss: 0.1037 - mae: 0.2354 - val_loss: 0.1116 - val_mae: 0.2453\n",
      "Epoch 120/200\n",
      "10720/11277 [===========================>..] - ETA: 0s - loss: 0.1032 - mae: 0.2354"
     ]
    },
    {
     "name": "stderr",
     "output_type": "stream",
     "text": [
      "W0323 22:44:14.481061 4472681920 callbacks.py:872] Can save best model only with mse available, skipping.\n"
     ]
    },
    {
     "name": "stdout",
     "output_type": "stream",
     "text": [
      "11277/11277 [==============================] - 1s 81us/sample - loss: 0.1037 - mae: 0.2355 - val_loss: 0.1115 - val_mae: 0.2452\n",
      "Epoch 121/200\n",
      "10752/11277 [===========================>..] - ETA: 0s - loss: 0.1035 - mae: 0.2351"
     ]
    },
    {
     "name": "stderr",
     "output_type": "stream",
     "text": [
      "W0323 22:44:15.398043 4472681920 callbacks.py:872] Can save best model only with mse available, skipping.\n"
     ]
    },
    {
     "name": "stdout",
     "output_type": "stream",
     "text": [
      "11277/11277 [==============================] - 1s 81us/sample - loss: 0.1036 - mae: 0.2355 - val_loss: 0.1115 - val_mae: 0.2452\n",
      "Epoch 122/200\n",
      "10912/11277 [============================>.] - ETA: 0s - loss: 0.1033 - mae: 0.2355"
     ]
    },
    {
     "name": "stderr",
     "output_type": "stream",
     "text": [
      "W0323 22:44:16.285776 4472681920 callbacks.py:872] Can save best model only with mse available, skipping.\n"
     ]
    },
    {
     "name": "stdout",
     "output_type": "stream",
     "text": [
      "11277/11277 [==============================] - 1s 78us/sample - loss: 0.1037 - mae: 0.2354 - val_loss: 0.1115 - val_mae: 0.2452\n",
      "Epoch 123/200\n",
      "11040/11277 [============================>.] - ETA: 0s - loss: 0.1036 - mae: 0.2356"
     ]
    },
    {
     "name": "stderr",
     "output_type": "stream",
     "text": [
      "W0323 22:44:17.132510 4472681920 callbacks.py:872] Can save best model only with mse available, skipping.\n"
     ]
    },
    {
     "name": "stdout",
     "output_type": "stream",
     "text": [
      "11277/11277 [==============================] - 1s 75us/sample - loss: 0.1037 - mae: 0.2355 - val_loss: 0.1115 - val_mae: 0.2452\n",
      "Epoch 124/200\n",
      "10576/11277 [===========================>..] - ETA: 0s - loss: 0.1039 - mae: 0.2359"
     ]
    },
    {
     "name": "stderr",
     "output_type": "stream",
     "text": [
      "W0323 22:44:18.060425 4472681920 callbacks.py:872] Can save best model only with mse available, skipping.\n"
     ]
    },
    {
     "name": "stdout",
     "output_type": "stream",
     "text": [
      "\n",
      "Epoch 00124: ReduceLROnPlateau reducing learning rate to 3.906250185536919e-06.\n",
      "11277/11277 [==============================] - 1s 82us/sample - loss: 0.1037 - mae: 0.2354 - val_loss: 0.1115 - val_mae: 0.2452\n",
      "Epoch 125/200\n",
      "10944/11277 [============================>.] - ETA: 0s - loss: 0.1035 - mae: 0.2352"
     ]
    },
    {
     "name": "stderr",
     "output_type": "stream",
     "text": [
      "W0323 22:44:18.950432 4472681920 callbacks.py:872] Can save best model only with mse available, skipping.\n"
     ]
    },
    {
     "name": "stdout",
     "output_type": "stream",
     "text": [
      "11277/11277 [==============================] - 1s 79us/sample - loss: 0.1036 - mae: 0.2354 - val_loss: 0.1115 - val_mae: 0.2452\n",
      "Epoch 126/200\n",
      "11008/11277 [============================>.] - ETA: 0s - loss: 0.1035 - mae: 0.2353"
     ]
    },
    {
     "name": "stderr",
     "output_type": "stream",
     "text": [
      "W0323 22:44:19.911117 4472681920 callbacks.py:872] Can save best model only with mse available, skipping.\n"
     ]
    },
    {
     "name": "stdout",
     "output_type": "stream",
     "text": [
      "11277/11277 [==============================] - 1s 85us/sample - loss: 0.1036 - mae: 0.2354 - val_loss: 0.1115 - val_mae: 0.2452\n",
      "Epoch 127/200\n",
      "10672/11277 [===========================>..] - ETA: 0s - loss: 0.1037 - mae: 0.2356"
     ]
    },
    {
     "name": "stderr",
     "output_type": "stream",
     "text": [
      "W0323 22:44:20.770321 4472681920 callbacks.py:872] Can save best model only with mse available, skipping.\n"
     ]
    },
    {
     "name": "stdout",
     "output_type": "stream",
     "text": [
      "11277/11277 [==============================] - 1s 76us/sample - loss: 0.1036 - mae: 0.2354 - val_loss: 0.1115 - val_mae: 0.2452\n",
      "Epoch 128/200\n",
      "10624/11277 [===========================>..] - ETA: 0s - loss: 0.1030 - mae: 0.2346"
     ]
    },
    {
     "name": "stderr",
     "output_type": "stream",
     "text": [
      "W0323 22:44:21.620005 4472681920 callbacks.py:872] Can save best model only with mse available, skipping.\n"
     ]
    },
    {
     "name": "stdout",
     "output_type": "stream",
     "text": [
      "11277/11277 [==============================] - 1s 75us/sample - loss: 0.1036 - mae: 0.2354 - val_loss: 0.1115 - val_mae: 0.2452\n",
      "Epoch 129/200\n",
      "10688/11277 [===========================>..] - ETA: 0s - loss: 0.1027 - mae: 0.2343"
     ]
    },
    {
     "name": "stderr",
     "output_type": "stream",
     "text": [
      "W0323 22:44:22.473915 4472681920 callbacks.py:872] Can save best model only with mse available, skipping.\n"
     ]
    },
    {
     "name": "stdout",
     "output_type": "stream",
     "text": [
      "11277/11277 [==============================] - 1s 76us/sample - loss: 0.1036 - mae: 0.2354 - val_loss: 0.1115 - val_mae: 0.2452\n",
      "Epoch 130/200\n",
      "11168/11277 [============================>.] - ETA: 0s - loss: 0.1034 - mae: 0.2355"
     ]
    },
    {
     "name": "stderr",
     "output_type": "stream",
     "text": [
      "W0323 22:44:23.349702 4472681920 callbacks.py:872] Can save best model only with mse available, skipping.\n"
     ]
    },
    {
     "name": "stdout",
     "output_type": "stream",
     "text": [
      "11277/11277 [==============================] - 1s 78us/sample - loss: 0.1036 - mae: 0.2354 - val_loss: 0.1115 - val_mae: 0.2452\n",
      "Epoch 131/200\n",
      "10464/11277 [==========================>...] - ETA: 0s - loss: 0.1033 - mae: 0.2352"
     ]
    },
    {
     "name": "stderr",
     "output_type": "stream",
     "text": [
      "W0323 22:44:24.231779 4472681920 callbacks.py:872] Can save best model only with mse available, skipping.\n"
     ]
    },
    {
     "name": "stdout",
     "output_type": "stream",
     "text": [
      "\n",
      "Epoch 00131: ReduceLROnPlateau reducing learning rate to 1.9531250927684596e-06.\n",
      "11277/11277 [==============================] - 1s 78us/sample - loss: 0.1036 - mae: 0.2354 - val_loss: 0.1115 - val_mae: 0.2452\n",
      "Epoch 132/200\n",
      "11184/11277 [============================>.] - ETA: 0s - loss: 0.1039 - mae: 0.2357- ETA: 0s - loss: 0.1027 - mae: 0"
     ]
    },
    {
     "name": "stderr",
     "output_type": "stream",
     "text": [
      "W0323 22:44:25.177031 4472681920 callbacks.py:872] Can save best model only with mse available, skipping.\n"
     ]
    },
    {
     "name": "stdout",
     "output_type": "stream",
     "text": [
      "11277/11277 [==============================] - 1s 84us/sample - loss: 0.1036 - mae: 0.2354 - val_loss: 0.1115 - val_mae: 0.2452\n",
      "Epoch 133/200\n",
      "10912/11277 [============================>.] - ETA: 0s - loss: 0.1033 - mae: 0.2353"
     ]
    },
    {
     "name": "stderr",
     "output_type": "stream",
     "text": [
      "W0323 22:44:26.079276 4472681920 callbacks.py:872] Can save best model only with mse available, skipping.\n"
     ]
    },
    {
     "name": "stdout",
     "output_type": "stream",
     "text": [
      "11277/11277 [==============================] - 1s 80us/sample - loss: 0.1036 - mae: 0.2354 - val_loss: 0.1115 - val_mae: 0.2452\n",
      "Epoch 134/200\n",
      "10784/11277 [===========================>..] - ETA: 0s - loss: 0.1035 - mae: 0.2350"
     ]
    },
    {
     "name": "stderr",
     "output_type": "stream",
     "text": [
      "W0323 22:44:26.994847 4472681920 callbacks.py:872] Can save best model only with mse available, skipping.\n"
     ]
    },
    {
     "name": "stdout",
     "output_type": "stream",
     "text": [
      "11277/11277 [==============================] - 1s 81us/sample - loss: 0.1036 - mae: 0.2354 - val_loss: 0.1115 - val_mae: 0.2452\n",
      "Epoch 135/200\n",
      "10496/11277 [==========================>...] - ETA: 0s - loss: 0.1042 - mae: 0.2361- ETA: 0s - loss: 0.1011 - mae:"
     ]
    },
    {
     "name": "stderr",
     "output_type": "stream",
     "text": [
      "W0323 22:44:27.863409 4472681920 callbacks.py:872] Can save best model only with mse available, skipping.\n"
     ]
    },
    {
     "name": "stdout",
     "output_type": "stream",
     "text": [
      "11277/11277 [==============================] - 1s 77us/sample - loss: 0.1036 - mae: 0.2354 - val_loss: 0.1115 - val_mae: 0.2452\n",
      "Epoch 136/200\n",
      "10560/11277 [===========================>..] - ETA: 0s - loss: 0.1023 - mae: 0.2345- ETA: 0s - loss: 0.1016 - mae: 0"
     ]
    },
    {
     "name": "stderr",
     "output_type": "stream",
     "text": [
      "W0323 22:44:28.726932 4472681920 callbacks.py:872] Can save best model only with mse available, skipping.\n"
     ]
    },
    {
     "name": "stdout",
     "output_type": "stream",
     "text": [
      "11277/11277 [==============================] - 1s 76us/sample - loss: 0.1036 - mae: 0.2354 - val_loss: 0.1115 - val_mae: 0.2452\n",
      "Epoch 137/200\n",
      "10672/11277 [===========================>..] - ETA: 0s - loss: 0.1036 - mae: 0.2354"
     ]
    },
    {
     "name": "stderr",
     "output_type": "stream",
     "text": [
      "W0323 22:44:29.580765 4472681920 callbacks.py:872] Can save best model only with mse available, skipping.\n"
     ]
    },
    {
     "name": "stdout",
     "output_type": "stream",
     "text": [
      "11277/11277 [==============================] - 1s 76us/sample - loss: 0.1036 - mae: 0.2354 - val_loss: 0.1115 - val_mae: 0.2452\n",
      "Epoch 138/200\n",
      "10704/11277 [===========================>..] - ETA: 0s - loss: 0.1038 - mae: 0.2353"
     ]
    },
    {
     "name": "stderr",
     "output_type": "stream",
     "text": [
      "W0323 22:44:30.442544 4472681920 callbacks.py:872] Can save best model only with mse available, skipping.\n"
     ]
    },
    {
     "name": "stdout",
     "output_type": "stream",
     "text": [
      "\n",
      "Epoch 00138: ReduceLROnPlateau reducing learning rate to 1e-06.\n",
      "11277/11277 [==============================] - 1s 76us/sample - loss: 0.1036 - mae: 0.2354 - val_loss: 0.1115 - val_mae: 0.2452\n",
      "Epoch 139/200\n",
      "11264/11277 [============================>.] - ETA: 0s - loss: 0.1036 - mae: 0.2354"
     ]
    },
    {
     "name": "stderr",
     "output_type": "stream",
     "text": [
      "W0323 22:44:31.327991 4472681920 callbacks.py:872] Can save best model only with mse available, skipping.\n"
     ]
    },
    {
     "name": "stdout",
     "output_type": "stream",
     "text": [
      "11277/11277 [==============================] - 1s 78us/sample - loss: 0.1036 - mae: 0.2354 - val_loss: 0.1115 - val_mae: 0.2452\n",
      "Epoch 140/200\n",
      "10592/11277 [===========================>..] - ETA: 0s - loss: 0.1033 - mae: 0.2346"
     ]
    },
    {
     "name": "stderr",
     "output_type": "stream",
     "text": [
      "W0323 22:44:32.186691 4472681920 callbacks.py:872] Can save best model only with mse available, skipping.\n"
     ]
    },
    {
     "name": "stdout",
     "output_type": "stream",
     "text": [
      "11277/11277 [==============================] - 1s 76us/sample - loss: 0.1036 - mae: 0.2354 - val_loss: 0.1115 - val_mae: 0.2452\n",
      "Epoch 141/200\n",
      "10784/11277 [===========================>..] - ETA: 0s - loss: 0.1040 - mae: 0.2356"
     ]
    },
    {
     "name": "stderr",
     "output_type": "stream",
     "text": [
      "W0323 22:44:33.036601 4472681920 callbacks.py:872] Can save best model only with mse available, skipping.\n"
     ]
    },
    {
     "name": "stdout",
     "output_type": "stream",
     "text": [
      "11277/11277 [==============================] - 1s 75us/sample - loss: 0.1036 - mae: 0.2354 - val_loss: 0.1115 - val_mae: 0.2452\n",
      "Epoch 142/200\n",
      "10832/11277 [===========================>..] - ETA: 0s - loss: 0.1031 - mae: 0.2344"
     ]
    },
    {
     "name": "stderr",
     "output_type": "stream",
     "text": [
      "W0323 22:44:33.934512 4472681920 callbacks.py:872] Can save best model only with mse available, skipping.\n"
     ]
    },
    {
     "name": "stdout",
     "output_type": "stream",
     "text": [
      "11277/11277 [==============================] - 1s 79us/sample - loss: 0.1036 - mae: 0.2354 - val_loss: 0.1115 - val_mae: 0.2452\n",
      "Epoch 143/200\n",
      "10752/11277 [===========================>..] - ETA: 0s - loss: 0.1042 - mae: 0.2359"
     ]
    },
    {
     "name": "stderr",
     "output_type": "stream",
     "text": [
      "W0323 22:44:34.844882 4472681920 callbacks.py:872] Can save best model only with mse available, skipping.\n"
     ]
    },
    {
     "name": "stdout",
     "output_type": "stream",
     "text": [
      "11277/11277 [==============================] - 1s 81us/sample - loss: 0.1036 - mae: 0.2354 - val_loss: 0.1115 - val_mae: 0.2452\n",
      "Epoch 144/200\n",
      "10768/11277 [===========================>..] - ETA: 0s - loss: 0.1033 - mae: 0.2353"
     ]
    },
    {
     "name": "stderr",
     "output_type": "stream",
     "text": [
      "W0323 22:44:35.767898 4472681920 callbacks.py:872] Can save best model only with mse available, skipping.\n"
     ]
    },
    {
     "name": "stdout",
     "output_type": "stream",
     "text": [
      "11277/11277 [==============================] - 1s 82us/sample - loss: 0.1036 - mae: 0.2354 - val_loss: 0.1115 - val_mae: 0.2452\n",
      "Epoch 145/200\n",
      "10784/11277 [===========================>..] - ETA: 0s - loss: 0.1036 - mae: 0.2354"
     ]
    },
    {
     "name": "stderr",
     "output_type": "stream",
     "text": [
      "W0323 22:44:36.670107 4472681920 callbacks.py:872] Can save best model only with mse available, skipping.\n"
     ]
    },
    {
     "name": "stdout",
     "output_type": "stream",
     "text": [
      "11277/11277 [==============================] - 1s 80us/sample - loss: 0.1036 - mae: 0.2354 - val_loss: 0.1115 - val_mae: 0.2452\n",
      "Epoch 146/200\n",
      "11072/11277 [============================>.] - ETA: 0s - loss: 0.1040 - mae: 0.2358"
     ]
    },
    {
     "name": "stderr",
     "output_type": "stream",
     "text": [
      "W0323 22:44:37.625494 4472681920 callbacks.py:872] Can save best model only with mse available, skipping.\n"
     ]
    },
    {
     "name": "stdout",
     "output_type": "stream",
     "text": [
      "11277/11277 [==============================] - 1s 85us/sample - loss: 0.1036 - mae: 0.2354 - val_loss: 0.1115 - val_mae: 0.2452\n",
      "Epoch 147/200\n",
      "10528/11277 [===========================>..] - ETA: 0s - loss: 0.1035 - mae: 0.2355"
     ]
    },
    {
     "name": "stderr",
     "output_type": "stream",
     "text": [
      "W0323 22:44:38.491764 4472681920 callbacks.py:872] Can save best model only with mse available, skipping.\n"
     ]
    },
    {
     "name": "stdout",
     "output_type": "stream",
     "text": [
      "11277/11277 [==============================] - 1s 77us/sample - loss: 0.1036 - mae: 0.2354 - val_loss: 0.1115 - val_mae: 0.2452\n",
      "Epoch 148/200\n",
      "10576/11277 [===========================>..] - ETA: 0s - loss: 0.1041 - mae: 0.2357"
     ]
    },
    {
     "name": "stderr",
     "output_type": "stream",
     "text": [
      "W0323 22:44:39.362830 4472681920 callbacks.py:872] Can save best model only with mse available, skipping.\n"
     ]
    },
    {
     "name": "stdout",
     "output_type": "stream",
     "text": [
      "11277/11277 [==============================] - 1s 77us/sample - loss: 0.1036 - mae: 0.2354 - val_loss: 0.1115 - val_mae: 0.2452\n",
      "Epoch 149/200\n",
      "10768/11277 [===========================>..] - ETA: 0s - loss: 0.1035 - mae: 0.2353"
     ]
    },
    {
     "name": "stderr",
     "output_type": "stream",
     "text": [
      "W0323 22:44:40.212301 4472681920 callbacks.py:872] Can save best model only with mse available, skipping.\n"
     ]
    },
    {
     "name": "stdout",
     "output_type": "stream",
     "text": [
      "11277/11277 [==============================] - 1s 75us/sample - loss: 0.1036 - mae: 0.2354 - val_loss: 0.1115 - val_mae: 0.2452\n",
      "Epoch 150/200\n",
      "11200/11277 [============================>.] - ETA: 0s - loss: 0.1036 - mae: 0.2354"
     ]
    },
    {
     "name": "stderr",
     "output_type": "stream",
     "text": [
      "W0323 22:44:41.092804 4472681920 callbacks.py:872] Can save best model only with mse available, skipping.\n"
     ]
    },
    {
     "name": "stdout",
     "output_type": "stream",
     "text": [
      "11277/11277 [==============================] - 1s 78us/sample - loss: 0.1036 - mae: 0.2354 - val_loss: 0.1115 - val_mae: 0.2452\n",
      "Epoch 151/200\n",
      "10720/11277 [===========================>..] - ETA: 0s - loss: 0.1033 - mae: 0.2350"
     ]
    },
    {
     "name": "stderr",
     "output_type": "stream",
     "text": [
      "W0323 22:44:41.996581 4472681920 callbacks.py:872] Can save best model only with mse available, skipping.\n"
     ]
    },
    {
     "name": "stdout",
     "output_type": "stream",
     "text": [
      "11277/11277 [==============================] - 1s 80us/sample - loss: 0.1036 - mae: 0.2354 - val_loss: 0.1115 - val_mae: 0.2452\n",
      "Epoch 152/200\n",
      "10784/11277 [===========================>..] - ETA: 0s - loss: 0.1033 - mae: 0.2351"
     ]
    },
    {
     "name": "stderr",
     "output_type": "stream",
     "text": [
      "W0323 22:44:42.901094 4472681920 callbacks.py:872] Can save best model only with mse available, skipping.\n"
     ]
    },
    {
     "name": "stdout",
     "output_type": "stream",
     "text": [
      "11277/11277 [==============================] - 1s 80us/sample - loss: 0.1036 - mae: 0.2354 - val_loss: 0.1115 - val_mae: 0.2452\n",
      "Epoch 153/200\n",
      "10560/11277 [===========================>..] - ETA: 0s - loss: 0.1036 - mae: 0.2351- ETA: 0s - loss: 0.1026 - mae"
     ]
    },
    {
     "name": "stderr",
     "output_type": "stream",
     "text": [
      "W0323 22:44:43.762943 4472681920 callbacks.py:872] Can save best model only with mse available, skipping.\n"
     ]
    },
    {
     "name": "stdout",
     "output_type": "stream",
     "text": [
      "11277/11277 [==============================] - 1s 76us/sample - loss: 0.1036 - mae: 0.2354 - val_loss: 0.1115 - val_mae: 0.2452\n",
      "Epoch 154/200\n",
      "10608/11277 [===========================>..] - ETA: 0s - loss: 0.1041 - mae: 0.2358- ETA: 0s - loss: 0.1048 - mae: 0.2"
     ]
    },
    {
     "name": "stderr",
     "output_type": "stream",
     "text": [
      "W0323 22:44:44.629168 4472681920 callbacks.py:872] Can save best model only with mse available, skipping.\n"
     ]
    },
    {
     "name": "stdout",
     "output_type": "stream",
     "text": [
      "11277/11277 [==============================] - 1s 77us/sample - loss: 0.1036 - mae: 0.2354 - val_loss: 0.1115 - val_mae: 0.2452\n",
      "Epoch 155/200\n",
      "10512/11277 [==========================>...] - ETA: 0s - loss: 0.1033 - mae: 0.2354"
     ]
    },
    {
     "name": "stderr",
     "output_type": "stream",
     "text": [
      "W0323 22:44:45.555475 4472681920 callbacks.py:872] Can save best model only with mse available, skipping.\n"
     ]
    },
    {
     "name": "stdout",
     "output_type": "stream",
     "text": [
      "11277/11277 [==============================] - 1s 82us/sample - loss: 0.1036 - mae: 0.2354 - val_loss: 0.1115 - val_mae: 0.2452\n",
      "Epoch 156/200\n",
      "10912/11277 [============================>.] - ETA: 0s - loss: 0.1041 - mae: 0.2360"
     ]
    },
    {
     "name": "stderr",
     "output_type": "stream",
     "text": [
      "W0323 22:44:46.457199 4472681920 callbacks.py:872] Can save best model only with mse available, skipping.\n"
     ]
    },
    {
     "name": "stdout",
     "output_type": "stream",
     "text": [
      "11277/11277 [==============================] - 1s 80us/sample - loss: 0.1036 - mae: 0.2354 - val_loss: 0.1115 - val_mae: 0.2452\n",
      "Epoch 157/200\n",
      "11056/11277 [============================>.] - ETA: 0s - loss: 0.1035 - mae: 0.2353- ETA: 0s - loss: 0.1039 - mae: 0.2"
     ]
    },
    {
     "name": "stderr",
     "output_type": "stream",
     "text": [
      "W0323 22:44:47.346441 4472681920 callbacks.py:872] Can save best model only with mse available, skipping.\n"
     ]
    },
    {
     "name": "stdout",
     "output_type": "stream",
     "text": [
      "11277/11277 [==============================] - 1s 79us/sample - loss: 0.1036 - mae: 0.2354 - val_loss: 0.1115 - val_mae: 0.2452\n",
      "Epoch 158/200\n",
      "11152/11277 [============================>.] - ETA: 0s - loss: 0.1034 - mae: 0.2350"
     ]
    },
    {
     "name": "stderr",
     "output_type": "stream",
     "text": [
      "W0323 22:44:48.235630 4472681920 callbacks.py:872] Can save best model only with mse available, skipping.\n"
     ]
    },
    {
     "name": "stdout",
     "output_type": "stream",
     "text": [
      "11277/11277 [==============================] - 1s 79us/sample - loss: 0.1036 - mae: 0.2354 - val_loss: 0.1115 - val_mae: 0.2452\n",
      "Epoch 159/200\n",
      "10608/11277 [===========================>..] - ETA: 0s - loss: 0.1030 - mae: 0.2345"
     ]
    },
    {
     "name": "stderr",
     "output_type": "stream",
     "text": [
      "W0323 22:44:49.170383 4472681920 callbacks.py:872] Can save best model only with mse available, skipping.\n"
     ]
    },
    {
     "name": "stdout",
     "output_type": "stream",
     "text": [
      "11277/11277 [==============================] - 1s 83us/sample - loss: 0.1036 - mae: 0.2354 - val_loss: 0.1115 - val_mae: 0.2452\n",
      "Epoch 160/200\n",
      "11136/11277 [============================>.] - ETA: 0s - loss: 0.1034 - mae: 0.2352"
     ]
    },
    {
     "name": "stderr",
     "output_type": "stream",
     "text": [
      "W0323 22:44:50.041932 4472681920 callbacks.py:872] Can save best model only with mse available, skipping.\n"
     ]
    },
    {
     "name": "stdout",
     "output_type": "stream",
     "text": [
      "11277/11277 [==============================] - 1s 77us/sample - loss: 0.1036 - mae: 0.2354 - val_loss: 0.1115 - val_mae: 0.2452\n",
      "Epoch 161/200\n",
      "10752/11277 [===========================>..] - ETA: 0s - loss: 0.1035 - mae: 0.2355"
     ]
    },
    {
     "name": "stderr",
     "output_type": "stream",
     "text": [
      "W0323 22:44:50.900744 4472681920 callbacks.py:872] Can save best model only with mse available, skipping.\n"
     ]
    },
    {
     "name": "stdout",
     "output_type": "stream",
     "text": [
      "11277/11277 [==============================] - 1s 76us/sample - loss: 0.1036 - mae: 0.2354 - val_loss: 0.1115 - val_mae: 0.2452\n",
      "Epoch 162/200\n",
      "10560/11277 [===========================>..] - ETA: 0s - loss: 0.1038 - mae: 0.2357"
     ]
    },
    {
     "name": "stderr",
     "output_type": "stream",
     "text": [
      "W0323 22:44:51.820527 4472681920 callbacks.py:872] Can save best model only with mse available, skipping.\n"
     ]
    },
    {
     "name": "stdout",
     "output_type": "stream",
     "text": [
      "11277/11277 [==============================] - 1s 81us/sample - loss: 0.1036 - mae: 0.2354 - val_loss: 0.1115 - val_mae: 0.2452\n",
      "Epoch 163/200\n",
      "11264/11277 [============================>.] - ETA: 0s - loss: 0.1036 - mae: 0.2353"
     ]
    },
    {
     "name": "stderr",
     "output_type": "stream",
     "text": [
      "W0323 22:44:52.691749 4472681920 callbacks.py:872] Can save best model only with mse available, skipping.\n"
     ]
    },
    {
     "name": "stdout",
     "output_type": "stream",
     "text": [
      "11277/11277 [==============================] - 1s 77us/sample - loss: 0.1036 - mae: 0.2354 - val_loss: 0.1115 - val_mae: 0.2452\n",
      "Epoch 164/200\n",
      "10464/11277 [==========================>...] - ETA: 0s - loss: 0.1038 - mae: 0.2362"
     ]
    },
    {
     "name": "stderr",
     "output_type": "stream",
     "text": [
      "W0323 22:44:53.574141 4472681920 callbacks.py:872] Can save best model only with mse available, skipping.\n"
     ]
    },
    {
     "name": "stdout",
     "output_type": "stream",
     "text": [
      "11277/11277 [==============================] - 1s 78us/sample - loss: 0.1036 - mae: 0.2354 - val_loss: 0.1115 - val_mae: 0.2452\n",
      "Epoch 165/200\n",
      "10624/11277 [===========================>..] - ETA: 0s - loss: 0.1027 - mae: 0.2350"
     ]
    },
    {
     "name": "stderr",
     "output_type": "stream",
     "text": [
      "W0323 22:44:54.803429 4472681920 callbacks.py:872] Can save best model only with mse available, skipping.\n"
     ]
    },
    {
     "name": "stdout",
     "output_type": "stream",
     "text": [
      "11277/11277 [==============================] - 1s 109us/sample - loss: 0.1036 - mae: 0.2354 - val_loss: 0.1115 - val_mae: 0.2452\n",
      "Epoch 166/200\n",
      "10672/11277 [===========================>..] - ETA: 0s - loss: 0.1037 - mae: 0.2352"
     ]
    },
    {
     "name": "stderr",
     "output_type": "stream",
     "text": [
      "W0323 22:44:55.817389 4472681920 callbacks.py:872] Can save best model only with mse available, skipping.\n"
     ]
    },
    {
     "name": "stdout",
     "output_type": "stream",
     "text": [
      "11277/11277 [==============================] - 1s 90us/sample - loss: 0.1036 - mae: 0.2354 - val_loss: 0.1115 - val_mae: 0.2452\n",
      "Epoch 167/200\n",
      "10752/11277 [===========================>..] - ETA: 0s - loss: 0.1037 - mae: 0.2357"
     ]
    },
    {
     "name": "stderr",
     "output_type": "stream",
     "text": [
      "W0323 22:44:57.043477 4472681920 callbacks.py:872] Can save best model only with mse available, skipping.\n"
     ]
    },
    {
     "name": "stdout",
     "output_type": "stream",
     "text": [
      "11277/11277 [==============================] - 1s 108us/sample - loss: 0.1036 - mae: 0.2354 - val_loss: 0.1115 - val_mae: 0.2452\n",
      "Epoch 168/200\n",
      "11104/11277 [============================>.] - ETA: 0s - loss: 0.1040 - mae: 0.2358- ETA: 0s - loss: 0.1032 - m"
     ]
    },
    {
     "name": "stderr",
     "output_type": "stream",
     "text": [
      "W0323 22:44:58.214375 4472681920 callbacks.py:872] Can save best model only with mse available, skipping.\n"
     ]
    },
    {
     "name": "stdout",
     "output_type": "stream",
     "text": [
      "11277/11277 [==============================] - 1s 104us/sample - loss: 0.1036 - mae: 0.2354 - val_loss: 0.1115 - val_mae: 0.2452\n",
      "Epoch 169/200\n",
      "10752/11277 [===========================>..] - ETA: 0s - loss: 0.1037 - mae: 0.2354"
     ]
    },
    {
     "name": "stderr",
     "output_type": "stream",
     "text": [
      "W0323 22:44:59.486392 4472681920 callbacks.py:872] Can save best model only with mse available, skipping.\n"
     ]
    },
    {
     "name": "stdout",
     "output_type": "stream",
     "text": [
      "11277/11277 [==============================] - 1s 113us/sample - loss: 0.1036 - mae: 0.2354 - val_loss: 0.1115 - val_mae: 0.2452\n",
      "Epoch 170/200\n",
      "10992/11277 [============================>.] - ETA: 0s - loss: 0.1040 - mae: 0.2358"
     ]
    },
    {
     "name": "stderr",
     "output_type": "stream",
     "text": [
      "W0323 22:45:01.061758 4472681920 callbacks.py:872] Can save best model only with mse available, skipping.\n"
     ]
    },
    {
     "name": "stdout",
     "output_type": "stream",
     "text": [
      "11277/11277 [==============================] - 2s 139us/sample - loss: 0.1036 - mae: 0.2354 - val_loss: 0.1115 - val_mae: 0.2452\n",
      "Epoch 171/200\n",
      "11216/11277 [============================>.] - ETA: 0s - loss: 0.1034 - mae: 0.2353"
     ]
    },
    {
     "name": "stderr",
     "output_type": "stream",
     "text": [
      "W0323 22:45:02.216792 4472681920 callbacks.py:872] Can save best model only with mse available, skipping.\n"
     ]
    },
    {
     "name": "stdout",
     "output_type": "stream",
     "text": [
      "11277/11277 [==============================] - 1s 102us/sample - loss: 0.1036 - mae: 0.2354 - val_loss: 0.1115 - val_mae: 0.2452\n",
      "Epoch 172/200\n",
      "10800/11277 [===========================>..] - ETA: 0s - loss: 0.1036 - mae: 0.2355"
     ]
    },
    {
     "name": "stderr",
     "output_type": "stream",
     "text": [
      "W0323 22:45:03.429126 4472681920 callbacks.py:872] Can save best model only with mse available, skipping.\n"
     ]
    },
    {
     "name": "stdout",
     "output_type": "stream",
     "text": [
      "11277/11277 [==============================] - 1s 107us/sample - loss: 0.1036 - mae: 0.2354 - val_loss: 0.1115 - val_mae: 0.2452\n",
      "Epoch 173/200\n",
      "11120/11277 [============================>.] - ETA: 0s - loss: 0.1031 - mae: 0.2352"
     ]
    },
    {
     "name": "stderr",
     "output_type": "stream",
     "text": [
      "W0323 22:45:04.589839 4472681920 callbacks.py:872] Can save best model only with mse available, skipping.\n"
     ]
    },
    {
     "name": "stdout",
     "output_type": "stream",
     "text": [
      "11277/11277 [==============================] - 1s 103us/sample - loss: 0.1036 - mae: 0.2354 - val_loss: 0.1115 - val_mae: 0.2452\n",
      "Epoch 174/200\n",
      " 1152/11277 [==>...........................] - ETA: 0s - loss: 0.1118 - mae: 0.2439"
     ]
    }
   ],
   "source": [
    "for i in range(k):\n",
    "    print('Fold num #', i+1)\n",
    "    val_data = x_train[i * num_val_samples : (i+1) * num_val_samples]\n",
    "    val_targets = y_train[i * num_val_samples : (i+1) * num_val_samples]\n",
    "\n",
    "    partial_train_data = np.concatenate(\n",
    "        [x_train[:i*num_val_samples],\n",
    "        x_train[(i+1) * num_val_samples:]],\n",
    "        axis=0\n",
    "    )\n",
    "    partial_train_targets = np.concatenate(\n",
    "        [y_train[:i*num_val_samples],\n",
    "        y_train[(i+1) * num_val_samples:]],\n",
    "        axis=0\n",
    "    )\n",
    "    \n",
    "    model1 = make_model1()\n",
    "    model2 = make_model2()\n",
    "    \n",
    "    history1 = model1.fit(\n",
    "        partial_train_data, \n",
    "\t    partial_train_targets,\n",
    "        validation_data=(val_data, val_targets), \n",
    "\t    epochs=epoch, \n",
    "\t    batch_size=16, \n",
    "\t    callbacks=callbacks1)\n",
    "\n",
    "    history2 = model2.fit(\n",
    "        partial_train_data, \n",
    "\t    partial_train_targets,\n",
    "        validation_data=(val_data, val_targets), \n",
    "\t    epochs=epoch, \n",
    "\t    batch_size=16, \n",
    "\t    callbacks=callbacks2)"
   ]
  },
  {
   "cell_type": "code",
   "execution_count": null,
   "metadata": {},
   "outputs": [],
   "source": [
    "best_model1 = make_model1()\n",
    "best_model1.load_weights('../model/best_model1.hdf5')\n",
    "best_model1.fit(\n",
    "   \tx_train, \n",
    "\ty_train, \n",
    "\tepochs=epoch, \n",
    "\tbatch_size=16, \n",
    "\tshuffle=True, \n",
    "\tvalidation_split=0.2,\n",
    "    callbacks=callbacks1\n",
    "    )\n",
    "\n",
    "best_model2 = make_model2()\n",
    "best_model2.load_weights('../model/best_model2.hdf5')\n",
    "best_model2.fit(\n",
    "   \tx_train, \n",
    "\ty_train, \n",
    "\tepochs=epoch, \n",
    "\tbatch_size=16, \n",
    "\tshuffle=True, \n",
    "\tvalidation_split=0.2,\n",
    "    callbacks=callbacks2\n",
    "    )"
   ]
  },
  {
   "cell_type": "code",
   "execution_count": null,
   "metadata": {},
   "outputs": [],
   "source": [
    "y_preds_best1 = best_model1.predict(x_test)\n",
    "inv_y_preds_best1 =  np.expm1(y_scaler.inverse_transform(y_preds_best1))\n",
    "\n",
    "y_preds_best2 = best_model2.predict(x_test)\n",
    "inv_y_preds_best2 =  np.expm1(y_scaler.inverse_transform(y_preds_best2))\n",
    "\n",
    "avg_pred = ( inv_y_preds_best1 + inv_y_preds_best2) / 2\n",
    "avg_pred = avg_pred.astype(int)"
   ]
  },
  {
   "cell_type": "code",
   "execution_count": null,
   "metadata": {},
   "outputs": [],
   "source": []
  }
 ],
 "metadata": {
  "kernelspec": {
   "display_name": "kaggle_study",
   "language": "python",
   "name": "kaggle_study"
  },
  "language_info": {
   "codemirror_mode": {
    "name": "ipython",
    "version": 3
   },
   "file_extension": ".py",
   "mimetype": "text/x-python",
   "name": "python",
   "nbconvert_exporter": "python",
   "pygments_lexer": "ipython3",
   "version": "3.6.8"
  }
 },
 "nbformat": 4,
 "nbformat_minor": 2
}
