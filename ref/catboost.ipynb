{
 "cells": [
  {
   "cell_type": "code",
   "execution_count": 1,
   "metadata": {
    "_cell_guid": "b1076dfc-b9ad-4769-8c92-a6c4dae69d19",
    "_uuid": "8f2839f25d086af736a60e9eeb907d3b93b6e0e5"
   },
   "outputs": [
    {
     "name": "stdout",
     "output_type": "stream",
     "text": [
      "['test.csv', 'train.csv', 'sample_submission.csv']\n"
     ]
    }
   ],
   "source": [
    "# This Python 3 environment comes with many helpful analytics libraries installed\n",
    "# It is defined by the kaggle/python docker image: https://github.com/kaggle/docker-python\n",
    "# For example, here's several helpful packages to load in \n",
    "\n",
    "import numpy as np # linear algebra\n",
    "import pandas as pd # data processing, CSV file I/O (e.g. pd.read_csv)\n",
    "\n",
    "# Input data files are available in the \"../input/\" directory.\n",
    "# For example, running this (by clicking run or pressing Shift+Enter) will list the files in the input directory\n",
    "\n",
    "import os\n",
    "print(os.listdir(\"../input\"))\n",
    "\n",
    "# Any results you write to the current directory are saved as output."
   ]
  },
  {
   "cell_type": "code",
   "execution_count": 2,
   "metadata": {
    "_cell_guid": "79c7e3d0-c299-4dcb-8224-4455121ee9b0",
    "_uuid": "d629ff2d2480ee46fbb7e2d37f6b5fab8052498a"
   },
   "outputs": [],
   "source": [
    "train_df = pd.read_csv('../input/train.csv')\n",
    "test_df = pd.read_csv('../input/test.csv')"
   ]
  },
  {
   "cell_type": "code",
   "execution_count": 3,
   "metadata": {
    "_uuid": "d7dd28a7586bf5d914bda0aecb0253ae377821cf"
   },
   "outputs": [
    {
     "name": "stdout",
     "output_type": "stream",
     "text": [
      "(15035, 21)\n",
      "(6468, 20)\n"
     ]
    }
   ],
   "source": [
    "print(train_df.shape)\n",
    "print(test_df.shape)"
   ]
  },
  {
   "cell_type": "markdown",
   "metadata": {
    "_uuid": "49eeac1d3d8e40cd45afe3fe3082e6ab677abfdd"
   },
   "source": [
    "## 변수 생성"
   ]
  },
  {
   "cell_type": "code",
   "execution_count": 4,
   "metadata": {
    "_uuid": "d96671ec2524ec5fc8523a37164bf94d45f20ebc"
   },
   "outputs": [],
   "source": [
    "#create column for new variable (one is enough because it's a binary categorical feature)\n",
    "#if area>0 it gets 1, for area==0 it gets 0 \n",
    "train_df['HasBsmt'] = pd.Series(len(train_df['sqft_basement']), index=train_df.index)\n",
    "train_df['HasBsmt'] = 0\n",
    "train_df.loc[train_df['sqft_basement']>0,'HasBsmt'] = 1"
   ]
  },
  {
   "cell_type": "code",
   "execution_count": 5,
   "metadata": {
    "_uuid": "4e585a3e50b2eba70fcafab03a3bd469ff478f47"
   },
   "outputs": [],
   "source": [
    "#create column for new variable (one is enough because it's a binary categorical feature)\n",
    "#if area>0 it gets 1, for area==0 it gets 0 \n",
    "test_df['HasBsmt'] = pd.Series(len(test_df['sqft_basement']), index=test_df.index)\n",
    "test_df['HasBsmt'] = 0 \n",
    "test_df.loc[test_df['sqft_basement']>0,'HasBsmt'] = 1"
   ]
  },
  {
   "cell_type": "code",
   "execution_count": 6,
   "metadata": {
    "_uuid": "c41ea9ea37498ca6050babc394177a23da28cf56"
   },
   "outputs": [
    {
     "name": "stderr",
     "output_type": "stream",
     "text": [
      "/opt/conda/lib/python3.6/site-packages/ipykernel_launcher.py:2: RuntimeWarning: divide by zero encountered in log\n",
      "  \n"
     ]
    }
   ],
   "source": [
    "#transform data\n",
    "train_df.loc[train_df['HasBsmt']==1,'sqft_basement'] = np.log(train_df['sqft_basement'])"
   ]
  },
  {
   "cell_type": "code",
   "execution_count": 7,
   "metadata": {
    "_uuid": "f823dbd55236cbdcf8050d4db2f502a16b95ea62"
   },
   "outputs": [
    {
     "name": "stderr",
     "output_type": "stream",
     "text": [
      "/opt/conda/lib/python3.6/site-packages/ipykernel_launcher.py:2: RuntimeWarning: divide by zero encountered in log\n",
      "  \n"
     ]
    }
   ],
   "source": [
    "#transform data\n",
    "test_df.loc[test_df['HasBsmt']==1,'sqft_basement'] = np.log(test_df['sqft_basement'])"
   ]
  },
  {
   "cell_type": "code",
   "execution_count": 8,
   "metadata": {
    "_uuid": "4a09216333f5ca168ce9dde77868b6b81be8548c"
   },
   "outputs": [],
   "source": [
    "train_df = pd.get_dummies(train_df.loc[:,train_df.columns != 'date'])\n",
    "test_df = pd.get_dummies(test_df.loc[:,test_df.columns != 'date'])"
   ]
  },
  {
   "cell_type": "code",
   "execution_count": 9,
   "metadata": {
    "_uuid": "cf05fb72812e4aed6ee81bc513efbcf64867cb0c"
   },
   "outputs": [],
   "source": [
    "train_df['price'] = np.log(train_df['price'])"
   ]
  },
  {
   "cell_type": "code",
   "execution_count": 10,
   "metadata": {
    "_uuid": "f98c19186d5e8090ef1505403c396d847f153994"
   },
   "outputs": [],
   "source": [
    "train_y = train_df['price']\n",
    "train_X = train_df.loc[:, train_df.columns != 'price']\n",
    "train_X = train_X.loc[:, train_X.columns != 'id']"
   ]
  },
  {
   "cell_type": "code",
   "execution_count": 11,
   "metadata": {
    "_uuid": "55d7bbe39197f94374ef185633ce05b55fc28cf3",
    "scrolled": true
   },
   "outputs": [
    {
     "name": "stdout",
     "output_type": "stream",
     "text": [
      "Index(['bedrooms', 'bathrooms', 'sqft_living', 'sqft_lot', 'floors',\n",
      "       'waterfront', 'view', 'condition', 'grade', 'sqft_above',\n",
      "       'sqft_basement', 'yr_built', 'yr_renovated', 'zipcode', 'lat', 'long',\n",
      "       'sqft_living15', 'sqft_lot15', 'HasBsmt'],\n",
      "      dtype='object')\n",
      "19\n",
      "Index(['id', 'bedrooms', 'bathrooms', 'sqft_living', 'sqft_lot', 'floors',\n",
      "       'waterfront', 'view', 'condition', 'grade', 'sqft_above',\n",
      "       'sqft_basement', 'yr_built', 'yr_renovated', 'zipcode', 'lat', 'long',\n",
      "       'sqft_living15', 'sqft_lot15', 'HasBsmt'],\n",
      "      dtype='object')\n",
      "20\n"
     ]
    }
   ],
   "source": [
    "print(train_X.columns)\n",
    "print(len(train_X.columns))\n",
    "print(test_df.columns)\n",
    "print(len(test_df.columns))"
   ]
  },
  {
   "cell_type": "code",
   "execution_count": 12,
   "metadata": {
    "_uuid": "9a7037703b3865236d4367b85cff5776d023c220",
    "scrolled": true
   },
   "outputs": [
    {
     "name": "stdout",
     "output_type": "stream",
     "text": [
      "train_X shape :  (15035, 19)\n",
      "test_df shape :  (6468, 20)\n"
     ]
    }
   ],
   "source": [
    "print('train_X shape : ', train_X.shape)\n",
    "print('test_df shape : ', test_df.shape)"
   ]
  },
  {
   "cell_type": "markdown",
   "metadata": {
    "_uuid": "b3d54974648b575dd3a6735fe56a48d0cbbb14cc"
   },
   "source": [
    "## validation set split"
   ]
  },
  {
   "cell_type": "code",
   "execution_count": 13,
   "metadata": {
    "_uuid": "0ba04f521be21b226981b8e51da95804bd59c5c7"
   },
   "outputs": [],
   "source": [
    "from sklearn.model_selection import train_test_split"
   ]
  },
  {
   "cell_type": "code",
   "execution_count": 14,
   "metadata": {
    "_uuid": "71a18a4cb13bd4c2e6e2db8dec688bf1d0298e8b"
   },
   "outputs": [],
   "source": [
    "train_X, val_X, train_y, val_y = train_test_split(train_X, train_y, test_size=0.1)"
   ]
  },
  {
   "cell_type": "code",
   "execution_count": 15,
   "metadata": {
    "_uuid": "8bfacd2a17326c4cc9d1aa030c01a734a54512d7"
   },
   "outputs": [
    {
     "name": "stdout",
     "output_type": "stream",
     "text": [
      "(13531, 19)\n",
      "(1504, 19)\n",
      "(13531,)\n",
      "(1504,)\n"
     ]
    }
   ],
   "source": [
    "print(train_X.shape)\n",
    "print(val_X.shape)\n",
    "print(train_y.shape)\n",
    "print(val_y.shape)"
   ]
  },
  {
   "cell_type": "markdown",
   "metadata": {
    "_uuid": "e089e64850be77dd513d4d2bf47f95095bbd492c"
   },
   "source": [
    "## Catboost import"
   ]
  },
  {
   "cell_type": "code",
   "execution_count": 16,
   "metadata": {
    "_uuid": "a5209ee2db9908d2a9be93dccb0724ec9124b9b4"
   },
   "outputs": [],
   "source": [
    "from catboost import CatBoostRegressor"
   ]
  },
  {
   "cell_type": "code",
   "execution_count": 17,
   "metadata": {
    "_uuid": "d03a6a5351c4e8f03f58dbcf13435892e6a136ad",
    "scrolled": true
   },
   "outputs": [
    {
     "name": "stdout",
     "output_type": "stream",
     "text": [
      "0:\tlearn: 12.4092949\ttotal: 64ms\tremaining: 15.9s\n",
      "1:\tlearn: 11.7926020\ttotal: 76.2ms\tremaining: 9.45s\n",
      "2:\tlearn: 11.2052265\ttotal: 87.4ms\tremaining: 7.2s\n",
      "3:\tlearn: 10.6478837\ttotal: 98.2ms\tremaining: 6.04s\n",
      "4:\tlearn: 10.1187549\ttotal: 109ms\tremaining: 5.32s\n",
      "5:\tlearn: 9.6154863\ttotal: 119ms\tremaining: 4.82s\n",
      "6:\tlearn: 9.1371598\ttotal: 130ms\tremaining: 4.5s\n",
      "7:\tlearn: 8.6827174\ttotal: 140ms\tremaining: 4.24s\n",
      "8:\tlearn: 8.2502474\ttotal: 147ms\tremaining: 3.93s\n",
      "9:\tlearn: 7.8403666\ttotal: 158ms\tremaining: 3.8s\n",
      "10:\tlearn: 7.4502715\ttotal: 169ms\tremaining: 3.67s\n",
      "11:\tlearn: 7.0807935\ttotal: 181ms\tremaining: 3.58s\n",
      "12:\tlearn: 6.7291282\ttotal: 191ms\tremaining: 3.49s\n",
      "13:\tlearn: 6.3954694\ttotal: 202ms\tremaining: 3.4s\n",
      "14:\tlearn: 6.0777893\ttotal: 212ms\tremaining: 3.32s\n",
      "15:\tlearn: 5.7758131\ttotal: 220ms\tremaining: 3.22s\n",
      "16:\tlearn: 5.4892731\ttotal: 231ms\tremaining: 3.16s\n",
      "17:\tlearn: 5.2169890\ttotal: 242ms\tremaining: 3.12s\n",
      "18:\tlearn: 4.9587193\ttotal: 253ms\tremaining: 3.08s\n",
      "19:\tlearn: 4.7138224\ttotal: 266ms\tremaining: 3.06s\n",
      "20:\tlearn: 4.4803563\ttotal: 276ms\tremaining: 3.01s\n",
      "21:\tlearn: 4.2588609\ttotal: 287ms\tremaining: 2.97s\n",
      "22:\tlearn: 4.0492599\ttotal: 298ms\tremaining: 2.94s\n",
      "23:\tlearn: 3.8489771\ttotal: 309ms\tremaining: 2.91s\n",
      "24:\tlearn: 3.6591531\ttotal: 321ms\tremaining: 2.89s\n",
      "25:\tlearn: 3.4782487\ttotal: 331ms\tremaining: 2.85s\n",
      "26:\tlearn: 3.3068240\ttotal: 341ms\tremaining: 2.82s\n",
      "27:\tlearn: 3.1440425\ttotal: 354ms\tremaining: 2.8s\n",
      "28:\tlearn: 2.9892302\ttotal: 365ms\tremaining: 2.78s\n",
      "29:\tlearn: 2.8420011\ttotal: 377ms\tremaining: 2.76s\n",
      "30:\tlearn: 2.7024995\ttotal: 388ms\tremaining: 2.74s\n",
      "31:\tlearn: 2.5705612\ttotal: 398ms\tremaining: 2.71s\n",
      "32:\tlearn: 2.4448279\ttotal: 408ms\tremaining: 2.68s\n",
      "33:\tlearn: 2.3252397\ttotal: 416ms\tremaining: 2.64s\n",
      "34:\tlearn: 2.2117565\ttotal: 427ms\tremaining: 2.62s\n",
      "35:\tlearn: 2.1035089\ttotal: 437ms\tremaining: 2.6s\n",
      "36:\tlearn: 2.0013036\ttotal: 448ms\tremaining: 2.58s\n",
      "37:\tlearn: 1.9046866\ttotal: 459ms\tremaining: 2.56s\n",
      "38:\tlearn: 1.8126856\ttotal: 472ms\tremaining: 2.55s\n",
      "39:\tlearn: 1.7248177\ttotal: 482ms\tremaining: 2.53s\n",
      "40:\tlearn: 1.6412606\ttotal: 492ms\tremaining: 2.51s\n",
      "41:\tlearn: 1.5618257\ttotal: 504ms\tremaining: 2.49s\n",
      "42:\tlearn: 1.4865590\ttotal: 515ms\tremaining: 2.48s\n",
      "43:\tlearn: 1.4156246\ttotal: 525ms\tremaining: 2.46s\n",
      "44:\tlearn: 1.3484122\ttotal: 535ms\tremaining: 2.44s\n",
      "45:\tlearn: 1.2840481\ttotal: 546ms\tremaining: 2.42s\n",
      "46:\tlearn: 1.2228186\ttotal: 558ms\tremaining: 2.41s\n",
      "47:\tlearn: 1.1656199\ttotal: 569ms\tremaining: 2.39s\n",
      "48:\tlearn: 1.1113973\ttotal: 580ms\tremaining: 2.38s\n",
      "49:\tlearn: 1.0598395\ttotal: 591ms\tremaining: 2.36s\n",
      "50:\tlearn: 1.0106206\ttotal: 601ms\tremaining: 2.35s\n",
      "51:\tlearn: 0.9646313\ttotal: 609ms\tremaining: 2.32s\n",
      "52:\tlearn: 0.9211025\ttotal: 621ms\tremaining: 2.31s\n",
      "53:\tlearn: 0.8787615\ttotal: 631ms\tremaining: 2.29s\n",
      "54:\tlearn: 0.8396754\ttotal: 641ms\tremaining: 2.27s\n",
      "55:\tlearn: 0.8017181\ttotal: 652ms\tremaining: 2.26s\n",
      "56:\tlearn: 0.7666791\ttotal: 663ms\tremaining: 2.24s\n",
      "57:\tlearn: 0.7336464\ttotal: 674ms\tremaining: 2.23s\n",
      "58:\tlearn: 0.7016909\ttotal: 686ms\tremaining: 2.22s\n",
      "59:\tlearn: 0.6712133\ttotal: 696ms\tremaining: 2.21s\n",
      "60:\tlearn: 0.6427372\ttotal: 707ms\tremaining: 2.19s\n",
      "61:\tlearn: 0.6151372\ttotal: 718ms\tremaining: 2.18s\n",
      "62:\tlearn: 0.5904288\ttotal: 724ms\tremaining: 2.15s\n",
      "63:\tlearn: 0.5661310\ttotal: 736ms\tremaining: 2.14s\n",
      "64:\tlearn: 0.5434412\ttotal: 746ms\tremaining: 2.12s\n",
      "65:\tlearn: 0.5228672\ttotal: 756ms\tremaining: 2.11s\n",
      "66:\tlearn: 0.5033593\ttotal: 767ms\tremaining: 2.09s\n",
      "67:\tlearn: 0.4853557\ttotal: 777ms\tremaining: 2.08s\n",
      "68:\tlearn: 0.4674295\ttotal: 789ms\tremaining: 2.07s\n",
      "69:\tlearn: 0.4502537\ttotal: 799ms\tremaining: 2.05s\n",
      "70:\tlearn: 0.4343958\ttotal: 810ms\tremaining: 2.04s\n",
      "71:\tlearn: 0.4204207\ttotal: 821ms\tremaining: 2.03s\n",
      "72:\tlearn: 0.4074289\ttotal: 831ms\tremaining: 2.01s\n",
      "73:\tlearn: 0.3944780\ttotal: 843ms\tremaining: 2s\n",
      "74:\tlearn: 0.3819511\ttotal: 854ms\tremaining: 1.99s\n",
      "75:\tlearn: 0.3702327\ttotal: 864ms\tremaining: 1.98s\n",
      "76:\tlearn: 0.3595536\ttotal: 876ms\tremaining: 1.97s\n",
      "77:\tlearn: 0.3486457\ttotal: 887ms\tremaining: 1.96s\n",
      "78:\tlearn: 0.3398399\ttotal: 899ms\tremaining: 1.95s\n",
      "79:\tlearn: 0.3311204\ttotal: 911ms\tremaining: 1.93s\n",
      "80:\tlearn: 0.3230221\ttotal: 921ms\tremaining: 1.92s\n",
      "81:\tlearn: 0.3155037\ttotal: 933ms\tremaining: 1.91s\n",
      "82:\tlearn: 0.3083081\ttotal: 944ms\tremaining: 1.9s\n",
      "83:\tlearn: 0.3019034\ttotal: 955ms\tremaining: 1.89s\n",
      "84:\tlearn: 0.2964304\ttotal: 966ms\tremaining: 1.87s\n",
      "85:\tlearn: 0.2913454\ttotal: 976ms\tremaining: 1.86s\n",
      "86:\tlearn: 0.2864949\ttotal: 987ms\tremaining: 1.85s\n",
      "87:\tlearn: 0.2814767\ttotal: 998ms\tremaining: 1.84s\n",
      "88:\tlearn: 0.2771146\ttotal: 1.01s\tremaining: 1.82s\n",
      "89:\tlearn: 0.2734755\ttotal: 1.02s\tremaining: 1.81s\n",
      "90:\tlearn: 0.2690536\ttotal: 1.03s\tremaining: 1.79s\n",
      "91:\tlearn: 0.2650055\ttotal: 1.04s\tremaining: 1.78s\n",
      "92:\tlearn: 0.2614228\ttotal: 1.05s\tremaining: 1.77s\n",
      "93:\tlearn: 0.2587033\ttotal: 1.06s\tremaining: 1.76s\n",
      "94:\tlearn: 0.2558416\ttotal: 1.07s\tremaining: 1.75s\n",
      "95:\tlearn: 0.2530064\ttotal: 1.08s\tremaining: 1.74s\n",
      "96:\tlearn: 0.2505185\ttotal: 1.09s\tremaining: 1.73s\n",
      "97:\tlearn: 0.2485689\ttotal: 1.1s\tremaining: 1.71s\n",
      "98:\tlearn: 0.2467147\ttotal: 1.11s\tremaining: 1.7s\n",
      "99:\tlearn: 0.2450841\ttotal: 1.13s\tremaining: 1.69s\n",
      "100:\tlearn: 0.2431845\ttotal: 1.14s\tremaining: 1.68s\n",
      "101:\tlearn: 0.2417329\ttotal: 1.15s\tremaining: 1.66s\n",
      "102:\tlearn: 0.2401466\ttotal: 1.16s\tremaining: 1.65s\n",
      "103:\tlearn: 0.2378234\ttotal: 1.17s\tremaining: 1.64s\n",
      "104:\tlearn: 0.2368515\ttotal: 1.18s\tremaining: 1.63s\n",
      "105:\tlearn: 0.2353226\ttotal: 1.19s\tremaining: 1.61s\n",
      "106:\tlearn: 0.2343213\ttotal: 1.2s\tremaining: 1.6s\n",
      "107:\tlearn: 0.2334686\ttotal: 1.21s\tremaining: 1.59s\n",
      "108:\tlearn: 0.2325451\ttotal: 1.22s\tremaining: 1.57s\n",
      "109:\tlearn: 0.2319013\ttotal: 1.23s\tremaining: 1.56s\n",
      "110:\tlearn: 0.2312058\ttotal: 1.24s\tremaining: 1.55s\n",
      "111:\tlearn: 0.2306655\ttotal: 1.25s\tremaining: 1.53s\n",
      "112:\tlearn: 0.2301720\ttotal: 1.25s\tremaining: 1.52s\n",
      "113:\tlearn: 0.2290183\ttotal: 1.26s\tremaining: 1.51s\n",
      "114:\tlearn: 0.2285363\ttotal: 1.27s\tremaining: 1.5s\n",
      "115:\tlearn: 0.2280703\ttotal: 1.29s\tremaining: 1.49s\n",
      "116:\tlearn: 0.2277703\ttotal: 1.3s\tremaining: 1.47s\n",
      "117:\tlearn: 0.2270120\ttotal: 1.31s\tremaining: 1.46s\n",
      "118:\tlearn: 0.2266316\ttotal: 1.32s\tremaining: 1.45s\n",
      "119:\tlearn: 0.2257224\ttotal: 1.33s\tremaining: 1.44s\n",
      "120:\tlearn: 0.2254917\ttotal: 1.34s\tremaining: 1.43s\n",
      "121:\tlearn: 0.2248814\ttotal: 1.35s\tremaining: 1.42s\n",
      "122:\tlearn: 0.2246645\ttotal: 1.36s\tremaining: 1.41s\n",
      "123:\tlearn: 0.2244507\ttotal: 1.37s\tremaining: 1.39s\n",
      "124:\tlearn: 0.2242340\ttotal: 1.38s\tremaining: 1.38s\n",
      "125:\tlearn: 0.2228015\ttotal: 1.39s\tremaining: 1.37s\n",
      "126:\tlearn: 0.2226691\ttotal: 1.4s\tremaining: 1.36s\n",
      "127:\tlearn: 0.2224957\ttotal: 1.41s\tremaining: 1.34s\n",
      "128:\tlearn: 0.2223710\ttotal: 1.42s\tremaining: 1.33s\n",
      "129:\tlearn: 0.2221915\ttotal: 1.43s\tremaining: 1.32s\n",
      "130:\tlearn: 0.2220359\ttotal: 1.44s\tremaining: 1.31s\n",
      "131:\tlearn: 0.2219374\ttotal: 1.45s\tremaining: 1.3s\n",
      "132:\tlearn: 0.2218593\ttotal: 1.46s\tremaining: 1.28s\n",
      "133:\tlearn: 0.2217284\ttotal: 1.47s\tremaining: 1.27s\n",
      "134:\tlearn: 0.2216085\ttotal: 1.48s\tremaining: 1.26s\n",
      "135:\tlearn: 0.2213350\ttotal: 1.49s\tremaining: 1.25s\n",
      "136:\tlearn: 0.2211255\ttotal: 1.5s\tremaining: 1.24s\n",
      "137:\tlearn: 0.2210515\ttotal: 1.51s\tremaining: 1.23s\n",
      "138:\tlearn: 0.2209683\ttotal: 1.52s\tremaining: 1.21s\n",
      "139:\tlearn: 0.2208910\ttotal: 1.53s\tremaining: 1.2s\n",
      "140:\tlearn: 0.2206411\ttotal: 1.54s\tremaining: 1.19s\n",
      "141:\tlearn: 0.2205865\ttotal: 1.55s\tremaining: 1.18s\n",
      "142:\tlearn: 0.2205279\ttotal: 1.56s\tremaining: 1.17s\n",
      "143:\tlearn: 0.2204454\ttotal: 1.57s\tremaining: 1.16s\n",
      "144:\tlearn: 0.2204052\ttotal: 1.58s\tremaining: 1.14s\n",
      "145:\tlearn: 0.2203462\ttotal: 1.59s\tremaining: 1.13s\n",
      "146:\tlearn: 0.2202908\ttotal: 1.6s\tremaining: 1.12s\n",
      "147:\tlearn: 0.2202380\ttotal: 1.61s\tremaining: 1.11s\n",
      "148:\tlearn: 0.2201148\ttotal: 1.62s\tremaining: 1.1s\n",
      "149:\tlearn: 0.2200796\ttotal: 1.63s\tremaining: 1.08s\n",
      "150:\tlearn: 0.2200232\ttotal: 1.64s\tremaining: 1.07s\n",
      "151:\tlearn: 0.2199951\ttotal: 1.64s\tremaining: 1.06s\n",
      "152:\tlearn: 0.2199413\ttotal: 1.65s\tremaining: 1.05s\n",
      "153:\tlearn: 0.2199245\ttotal: 1.66s\tremaining: 1.04s\n",
      "154:\tlearn: 0.2198943\ttotal: 1.67s\tremaining: 1.03s\n",
      "155:\tlearn: 0.2198728\ttotal: 1.68s\tremaining: 1.01s\n",
      "156:\tlearn: 0.2198226\ttotal: 1.69s\tremaining: 1s\n",
      "157:\tlearn: 0.2197569\ttotal: 1.7s\tremaining: 992ms\n",
      "158:\tlearn: 0.2197201\ttotal: 1.71s\tremaining: 980ms\n",
      "159:\tlearn: 0.2196841\ttotal: 1.72s\tremaining: 969ms\n",
      "160:\tlearn: 0.2196482\ttotal: 1.73s\tremaining: 957ms\n",
      "161:\tlearn: 0.2195817\ttotal: 1.74s\tremaining: 946ms\n",
      "162:\tlearn: 0.2195246\ttotal: 1.75s\tremaining: 935ms\n",
      "163:\tlearn: 0.2194850\ttotal: 1.76s\tremaining: 923ms\n",
      "164:\tlearn: 0.2194511\ttotal: 1.77s\tremaining: 912ms\n",
      "165:\tlearn: 0.2194218\ttotal: 1.78s\tremaining: 900ms\n",
      "166:\tlearn: 0.2194111\ttotal: 1.79s\tremaining: 890ms\n",
      "167:\tlearn: 0.2193997\ttotal: 1.8s\tremaining: 880ms\n",
      "168:\tlearn: 0.2193702\ttotal: 1.81s\tremaining: 870ms\n",
      "169:\tlearn: 0.2193434\ttotal: 1.82s\tremaining: 858ms\n",
      "170:\tlearn: 0.2193203\ttotal: 1.83s\tremaining: 848ms\n",
      "171:\tlearn: 0.2193006\ttotal: 1.84s\tremaining: 836ms\n",
      "172:\tlearn: 0.2192766\ttotal: 1.85s\tremaining: 825ms\n",
      "173:\tlearn: 0.2192637\ttotal: 1.86s\tremaining: 814ms\n",
      "174:\tlearn: 0.2192361\ttotal: 1.88s\tremaining: 804ms\n",
      "175:\tlearn: 0.2192186\ttotal: 1.89s\tremaining: 793ms\n",
      "176:\tlearn: 0.2191674\ttotal: 1.9s\tremaining: 782ms\n",
      "177:\tlearn: 0.2191548\ttotal: 1.91s\tremaining: 771ms\n",
      "178:\tlearn: 0.2191311\ttotal: 1.92s\tremaining: 760ms\n",
      "179:\tlearn: 0.2190857\ttotal: 1.93s\tremaining: 750ms\n",
      "180:\tlearn: 0.2190536\ttotal: 1.94s\tremaining: 739ms\n",
      "181:\tlearn: 0.2190428\ttotal: 1.95s\tremaining: 727ms\n",
      "182:\tlearn: 0.2190282\ttotal: 1.96s\tremaining: 716ms\n",
      "183:\tlearn: 0.2190059\ttotal: 1.97s\tremaining: 705ms\n",
      "184:\tlearn: 0.2189931\ttotal: 1.97s\tremaining: 693ms\n",
      "185:\tlearn: 0.2189815\ttotal: 1.98s\tremaining: 681ms\n",
      "186:\tlearn: 0.2189766\ttotal: 1.99s\tremaining: 669ms\n",
      "187:\tlearn: 0.2189663\ttotal: 2s\tremaining: 658ms\n",
      "188:\tlearn: 0.2189475\ttotal: 2s\tremaining: 647ms\n",
      "189:\tlearn: 0.2189379\ttotal: 2.02s\tremaining: 637ms\n",
      "190:\tlearn: 0.2189094\ttotal: 2.02s\tremaining: 625ms\n",
      "191:\tlearn: 0.2188961\ttotal: 2.03s\tremaining: 614ms\n",
      "192:\tlearn: 0.2188755\ttotal: 2.04s\tremaining: 603ms\n",
      "193:\tlearn: 0.2188633\ttotal: 2.05s\tremaining: 593ms\n",
      "194:\tlearn: 0.2188629\ttotal: 2.06s\tremaining: 581ms\n",
      "195:\tlearn: 0.2188503\ttotal: 2.07s\tremaining: 570ms\n",
      "196:\tlearn: 0.2188438\ttotal: 2.08s\tremaining: 559ms\n",
      "197:\tlearn: 0.2188376\ttotal: 2.08s\tremaining: 548ms\n",
      "198:\tlearn: 0.2188264\ttotal: 2.1s\tremaining: 537ms\n",
      "199:\tlearn: 0.2187898\ttotal: 2.11s\tremaining: 527ms\n",
      "200:\tlearn: 0.2175336\ttotal: 2.12s\tremaining: 516ms\n",
      "201:\tlearn: 0.2175294\ttotal: 2.13s\tremaining: 506ms\n",
      "202:\tlearn: 0.2175291\ttotal: 2.13s\tremaining: 494ms\n",
      "203:\tlearn: 0.2175195\ttotal: 2.14s\tremaining: 483ms\n",
      "204:\tlearn: 0.2175092\ttotal: 2.15s\tremaining: 472ms\n",
      "205:\tlearn: 0.2174926\ttotal: 2.16s\tremaining: 462ms\n",
      "206:\tlearn: 0.2174770\ttotal: 2.17s\tremaining: 451ms\n",
      "207:\tlearn: 0.2174751\ttotal: 2.18s\tremaining: 440ms\n",
      "208:\tlearn: 0.2174683\ttotal: 2.19s\tremaining: 429ms\n",
      "209:\tlearn: 0.2174592\ttotal: 2.2s\tremaining: 419ms\n",
      "210:\tlearn: 0.2162011\ttotal: 2.21s\tremaining: 409ms\n",
      "211:\tlearn: 0.2161918\ttotal: 2.22s\tremaining: 398ms\n",
      "212:\tlearn: 0.2161833\ttotal: 2.23s\tremaining: 387ms\n",
      "213:\tlearn: 0.2161794\ttotal: 2.24s\tremaining: 376ms\n",
      "214:\tlearn: 0.2161609\ttotal: 2.25s\tremaining: 366ms\n",
      "215:\tlearn: 0.2161556\ttotal: 2.26s\tremaining: 355ms\n",
      "216:\tlearn: 0.2161477\ttotal: 2.27s\tremaining: 345ms\n",
      "217:\tlearn: 0.2161365\ttotal: 2.28s\tremaining: 334ms\n",
      "218:\tlearn: 0.2161291\ttotal: 2.29s\tremaining: 324ms\n",
      "219:\tlearn: 0.2161238\ttotal: 2.29s\tremaining: 313ms\n",
      "220:\tlearn: 0.2161187\ttotal: 2.3s\tremaining: 302ms\n",
      "221:\tlearn: 0.2160994\ttotal: 2.31s\tremaining: 292ms\n",
      "222:\tlearn: 0.2160933\ttotal: 2.32s\tremaining: 281ms\n",
      "223:\tlearn: 0.2160754\ttotal: 2.33s\tremaining: 271ms\n",
      "224:\tlearn: 0.2160720\ttotal: 2.34s\tremaining: 260ms\n",
      "225:\tlearn: 0.2160540\ttotal: 2.35s\tremaining: 250ms\n",
      "226:\tlearn: 0.2160517\ttotal: 2.36s\tremaining: 239ms\n",
      "227:\tlearn: 0.2160451\ttotal: 2.37s\tremaining: 229ms\n",
      "228:\tlearn: 0.2160427\ttotal: 2.38s\tremaining: 218ms\n",
      "229:\tlearn: 0.2160378\ttotal: 2.38s\tremaining: 207ms\n",
      "230:\tlearn: 0.2160366\ttotal: 2.39s\tremaining: 197ms\n",
      "231:\tlearn: 0.2160347\ttotal: 2.4s\tremaining: 186ms\n",
      "232:\tlearn: 0.2160341\ttotal: 2.4s\tremaining: 175ms\n",
      "233:\tlearn: 0.2160258\ttotal: 2.41s\tremaining: 165ms\n",
      "234:\tlearn: 0.2160241\ttotal: 2.42s\tremaining: 154ms\n",
      "235:\tlearn: 0.2160143\ttotal: 2.43s\tremaining: 144ms\n",
      "236:\tlearn: 0.2160049\ttotal: 2.44s\tremaining: 134ms\n",
      "237:\tlearn: 0.2159924\ttotal: 2.45s\tremaining: 123ms\n",
      "238:\tlearn: 0.2159895\ttotal: 2.45s\tremaining: 113ms\n",
      "239:\tlearn: 0.2159884\ttotal: 2.46s\tremaining: 103ms\n",
      "240:\tlearn: 0.2159770\ttotal: 2.47s\tremaining: 92.3ms\n",
      "241:\tlearn: 0.2159688\ttotal: 2.48s\tremaining: 82ms\n",
      "242:\tlearn: 0.2153382\ttotal: 2.49s\tremaining: 71.8ms\n",
      "243:\tlearn: 0.2153322\ttotal: 2.5s\tremaining: 61.5ms\n",
      "244:\tlearn: 0.2153246\ttotal: 2.51s\tremaining: 51.3ms\n",
      "245:\tlearn: 0.2153192\ttotal: 2.52s\tremaining: 41ms\n",
      "246:\tlearn: 0.2153180\ttotal: 2.53s\tremaining: 30.7ms\n",
      "247:\tlearn: 0.2153098\ttotal: 2.54s\tremaining: 20.5ms\n",
      "248:\tlearn: 0.2153095\ttotal: 2.54s\tremaining: 10.2ms\n",
      "249:\tlearn: 0.2153084\ttotal: 2.55s\tremaining: 0us\n"
     ]
    },
    {
     "data": {
      "text/plain": [
       "<catboost.core.CatBoostRegressor at 0x7f6c836c4828>"
      ]
     },
     "execution_count": 17,
     "metadata": {},
     "output_type": "execute_result"
    }
   ],
   "source": [
    "cat_model = CatBoostRegressor(iterations=250, learning_rate=0.05, depth=5)\n",
    "cat_model.fit(train_X, train_y)"
   ]
  },
  {
   "cell_type": "code",
   "execution_count": 18,
   "metadata": {
    "_uuid": "8f39f53c956ac17cbf6d1100e2b90928081fd5f9"
   },
   "outputs": [],
   "source": [
    "val_y = np.exp(val_y)"
   ]
  },
  {
   "cell_type": "code",
   "execution_count": 19,
   "metadata": {
    "_uuid": "423865c4a4093a130b154ef75239799d3f17b9b6",
    "scrolled": true
   },
   "outputs": [
    {
     "name": "stdout",
     "output_type": "stream",
     "text": [
      "846589.4517858367\n"
     ]
    }
   ],
   "source": [
    "val_result = cat_model.predict(val_X)\n",
    "val_result = np.exp(val_result)\n",
    "RMSE = ((np.sum(val_result - val_y) ** 2) / val_result.shape[0] ) ** 0.5\n",
    "print(RMSE)"
   ]
  },
  {
   "cell_type": "code",
   "execution_count": 20,
   "metadata": {
    "_uuid": "357f18bcb4c65cbb1ef866bd9844a0298fc728e8"
   },
   "outputs": [],
   "source": [
    "result = cat_model.predict(test_df.loc[:, test_df.columns != 'id' ])"
   ]
  },
  {
   "cell_type": "code",
   "execution_count": 21,
   "metadata": {
    "_uuid": "3e49583af6124bd9d794acc05b41e3db8a8c7d9e"
   },
   "outputs": [],
   "source": [
    "result = np.exp(result)"
   ]
  },
  {
   "cell_type": "code",
   "execution_count": 22,
   "metadata": {
    "_uuid": "dbe65cb3d36ca0ad2dd88b15216e4636e202e858"
   },
   "outputs": [],
   "source": [
    "submission = pd.DataFrame({'id': test_df['id'],\n",
    "                           'price': result})\n",
    "\n",
    "submission.to_csv('./submission.csv', index=False)"
   ]
  },
  {
   "cell_type": "code",
   "execution_count": 23,
   "metadata": {
    "_uuid": "8157cc90a97eb5fdd8fb5e9a80ad3310da1009e1"
   },
   "outputs": [],
   "source": []
  }
 ],
 "metadata": {
  "kernelspec": {
   "display_name": "Python 3",
   "language": "python",
   "name": "python3"
  },
  "language_info": {
   "codemirror_mode": {
    "name": "ipython",
    "version": 3
   },
   "file_extension": ".py",
   "mimetype": "text/x-python",
   "name": "python",
   "nbconvert_exporter": "python",
   "pygments_lexer": "ipython3",
   "version": "3.5.4"
  }
 },
 "nbformat": 4,
 "nbformat_minor": 1
}
